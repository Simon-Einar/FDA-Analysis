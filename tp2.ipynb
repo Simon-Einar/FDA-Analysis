{
 "cells": [
  {
   "cell_type": "markdown",
   "id": "6714afee",
   "metadata": {},
   "source": [
    "### Noms des membres de l'équipe:\n",
    "\n",
    "### -TSATA NESTOR JUNIOR \n",
    "### -MOHAMED AMINE MBARKI\n",
    "### -MOHAMED HAMMANI"
   ]
  },
  {
   "cell_type": "markdown",
   "id": "1ee2c3eb",
   "metadata": {},
   "source": [
    "### On a remarqué que les questions sont liées, donc il est possible que les réponses aux questions suivantes se trouvent dans les précédentes. "
   ]
  },
  {
   "cell_type": "markdown",
   "id": "be2c3a85",
   "metadata": {},
   "source": [
    "### Read data"
   ]
  },
  {
   "cell_type": "code",
   "execution_count": 1,
   "id": "33434a21",
   "metadata": {},
   "outputs": [],
   "source": [
    "import pandas as pd\n",
    "from sklearn.preprocessing import LabelEncoder, StandardScaler\n",
    "from sklearn.impute import SimpleImputer\n",
    "from sklearn.experimental import enable_iterative_imputer\n",
    "from sklearn.impute import IterativeImputer\n",
    "from sklearn.feature_selection import SelectKBest, chi2, mutual_info_classif\n",
    "from sklearn.model_selection import train_test_split\n",
    "from sklearn.decomposition import PCA\n",
    "from sklearn.ensemble import RandomForestClassifier\n",
    "from sklearn.metrics import accuracy_score\n",
    "from sklearn.cluster import KMeans\n",
    "from sklearn.multioutput import MultiOutputClassifier\n",
    "from sklearn.feature_selection import VarianceThreshold\n",
    "import matplotlib.pyplot as plt\n",
    "import seaborn as sns\n",
    "import numpy as np\n",
    "import warnings\n",
    "from scipy.spatial.distance import cdist\n",
    "from datetime import datetime\n",
    "import re\n",
    "\n",
    "\n",
    "warnings.filterwarnings('ignore')\n"
   ]
  },
  {
   "cell_type": "code",
   "execution_count": 2,
   "id": "ed09d6af",
   "metadata": {},
   "outputs": [],
   "source": [
    "package_df = pd.read_csv(\"C:/Users/iyadh/Desktop/forage/tp2/package2.csv\", encoding=\"utf-8\", sep=\";\")\n",
    "product_df = pd.read_csv(\"C:/Users/iyadh/Desktop/forage/tp2/product2.csv\", encoding=\"latin1\", sep=\";\")\n"
   ]
  },
  {
   "cell_type": "code",
   "execution_count": 3,
   "id": "3b7e56f1",
   "metadata": {},
   "outputs": [],
   "source": [
    "#Convertir les noms de colonnes en minuscules\n",
    "package_df.columns = package_df.columns.str.lower()\n",
    "product_df.columns = product_df.columns.str.lower()"
   ]
  },
  {
   "cell_type": "markdown",
   "id": "5311b4d9",
   "metadata": {},
   "source": [
    "### 1)"
   ]
  },
  {
   "cell_type": "markdown",
   "id": "42a234d4",
   "metadata": {},
   "source": [
    "#### Pour df package "
   ]
  },
  {
   "cell_type": "code",
   "execution_count": 4,
   "id": "6d5974d6",
   "metadata": {},
   "outputs": [
    {
     "name": "stdout",
     "output_type": "stream",
     "text": [
      "Dimensions de df package : (173887, 8)\n"
     ]
    }
   ],
   "source": [
    "print(\"Dimensions de df package :\", package_df.shape)"
   ]
  },
  {
   "cell_type": "code",
   "execution_count": 5,
   "id": "0775589d",
   "metadata": {},
   "outputs": [
    {
     "name": "stdout",
     "output_type": "stream",
     "text": [
      "\n",
      "Types de données - Package:\n",
      "productid              object\n",
      "productndc             object\n",
      "ndcpackagecode         object\n",
      "packagedescription     object\n",
      "startmarketingdate      int64\n",
      "endmarketingdate      float64\n",
      "ndc_exclude_flag       object\n",
      "sample_package         object\n",
      "dtype: object\n"
     ]
    }
   ],
   "source": [
    "print(\"\\nTypes de données - Package:\")\n",
    "print(package_df.dtypes)\n"
   ]
  },
  {
   "cell_type": "code",
   "execution_count": 6,
   "id": "ef0d8cd0",
   "metadata": {
    "scrolled": false
   },
   "outputs": [
    {
     "name": "stdout",
     "output_type": "stream",
     "text": [
      "\n",
      "Valeurs manquantes - Package:\n",
      "productid                  0\n",
      "productndc              1500\n",
      "ndcpackagecode          2346\n",
      "packagedescription         0\n",
      "startmarketingdate         0\n",
      "endmarketingdate      167431\n",
      "ndc_exclude_flag           0\n",
      "sample_package             0\n",
      "dtype: int64\n"
     ]
    }
   ],
   "source": [
    "print(\"\\nValeurs manquantes - Package:\")\n",
    "print(package_df.isnull().sum())"
   ]
  },
  {
   "cell_type": "code",
   "execution_count": 7,
   "id": "b74d61d0",
   "metadata": {},
   "outputs": [
    {
     "name": "stdout",
     "output_type": "stream",
     "text": [
      "\n",
      "Nombre de doublons dans package_df:\n",
      "0\n"
     ]
    }
   ],
   "source": [
    "# Vérifier les doublons\n",
    "print(\"\\nNombre de doublons dans package_df:\")\n",
    "print(package_df.duplicated().sum())"
   ]
  },
  {
   "cell_type": "code",
   "execution_count": 8,
   "id": "274dbdd8",
   "metadata": {},
   "outputs": [],
   "source": [
    "# 2. Vérification des incohérences dans les colonnes  \n",
    "def verifier_incoherences(df):\n",
    "    incoherences = {}\n",
    "    \n",
    "    for column in df.columns:\n",
    "        # Nombre de valeurs dupliquées dans la colonne\n",
    "        duplicate_values = df[column].duplicated().sum()\n",
    "        # Nombre de valeurs uniques dans la colonne\n",
    "        incoherences[column] = {'duplicates': duplicate_values, 'unique_values': df[column].nunique()}\n",
    "    \n",
    "    return incoherences\n",
    "\n",
    "\n",
    "# Analyse des incohérences dans package_df\n",
    "incoherences_package_df = verifier_incoherences(package_df)"
   ]
  },
  {
   "cell_type": "code",
   "execution_count": 9,
   "id": "4a6f090d",
   "metadata": {},
   "outputs": [
    {
     "data": {
      "text/plain": [
       "{'productid': {'duplicates': 80803, 'unique_values': 93084},\n",
       " 'productndc': {'duplicates': 82806, 'unique_values': 91080},\n",
       " 'ndcpackagecode': {'duplicates': 2439, 'unique_values': 171447},\n",
       " 'packagedescription': {'duplicates': 2, 'unique_values': 173885},\n",
       " 'startmarketingdate': {'duplicates': 166486, 'unique_values': 7401},\n",
       " 'endmarketingdate': {'duplicates': 173119, 'unique_values': 767},\n",
       " 'ndc_exclude_flag': {'duplicates': 173886, 'unique_values': 1},\n",
       " 'sample_package': {'duplicates': 173885, 'unique_values': 2}}"
      ]
     },
     "execution_count": 9,
     "metadata": {},
     "output_type": "execute_result"
    }
   ],
   "source": [
    "# Afficher le nombre des valeurs dupliqués et uniques\n",
    "incoherences_package_df"
   ]
  },
  {
   "cell_type": "code",
   "execution_count": 10,
   "id": "3b8a8f5f",
   "metadata": {},
   "outputs": [
    {
     "name": "stdout",
     "output_type": "stream",
     "text": [
      "Valeurs uniques pour NDC_Exclude_Flag dans package_df:\n",
      "['N']\n"
     ]
    }
   ],
   "source": [
    "# Vérifier les valeurs uniques pour NDC_Exclude_Flag dans package_df\n",
    "print(\"Valeurs uniques pour NDC_Exclude_Flag dans package_df:\")\n",
    "print(package_df['ndc_exclude_flag'].unique())\n"
   ]
  },
  {
   "cell_type": "code",
   "execution_count": 11,
   "id": "6dba127f",
   "metadata": {},
   "outputs": [
    {
     "name": "stdout",
     "output_type": "stream",
     "text": [
      "\n",
      "Nombre de ProductID cohérents entre les deux DataFrames : 171122\n",
      "ProductID incohérents : ['0002-0800_94c48759-29bb-402d-afff-9a713be11f0e'\n",
      " '0002-1200_35551a38-7a8d-43b8-8abd-f6cb7549e932'\n",
      " '0002-1433_42a80046-fd68-4b80-819c-a443b7816edb' ...\n",
      " '23155-582_aa587b79-4732-46b8-9cce-847570d1757c'\n",
      " '23155-583_aa587b79-4732-46b8-9cce-847570d1757c'\n",
      " '23155-600_09734c3d-5397-4d44-bef1-c26b3aade246']\n"
     ]
    }
   ],
   "source": [
    "# Vérification si les ProductID sont cohérents entre les deux DataFrames\n",
    "coherence_product_ids = package_df['productid'].isin(product_df['productid']).sum()\n",
    "# Identifie les ProductID incohérents (présents dans package_df mais absents de product_df)\n",
    "incoherents_product_ids = package_df[~package_df['productid'].isin(product_df['productid'])]['productid'].unique()\n",
    "print(f\"\\nNombre de ProductID cohérents entre les deux DataFrames : {coherence_product_ids}\")\n",
    "print(f\"ProductID incohérents : {incoherents_product_ids}\")\n"
   ]
  },
  {
   "cell_type": "code",
   "execution_count": 12,
   "id": "5404e622",
   "metadata": {},
   "outputs": [
    {
     "name": "stdout",
     "output_type": "stream",
     "text": [
      "Unique PRODUCTNDC formats in package2.csv: ['XXXX-XXXX' 'XX-juin' 'XX-sept' 'XXXXX-XXX' 'XXXXX-XXXX' 'XXXXXXXX']\n"
     ]
    }
   ],
   "source": [
    "package_productndc_formats = package_df['productndc'].dropna().astype(str).str.replace(r'\\d', 'X', regex=True).unique()\n",
    "\n",
    "# Afficahge\n",
    "print(\"Unique PRODUCTNDC formats in package2.csv:\", package_productndc_formats)"
   ]
  },
  {
   "cell_type": "code",
   "execution_count": 13,
   "id": "136be5ae",
   "metadata": {},
   "outputs": [
    {
     "name": "stdout",
     "output_type": "stream",
     "text": [
      "\n",
      "Colonnes communes aux deux tables: ['endmarketingdate', 'ndc_exclude_flag', 'startmarketingdate', 'productndc', 'productid']\n"
     ]
    }
   ],
   "source": [
    "# Vérification des liaisons entre les tables\n",
    "common_columns = list(set(product_df.columns) & set(package_df.columns))\n",
    "print(\"\\nColonnes communes aux deux tables:\", common_columns)"
   ]
  },
  {
   "cell_type": "code",
   "execution_count": 14,
   "id": "84593905",
   "metadata": {},
   "outputs": [
    {
     "name": "stdout",
     "output_type": "stream",
     "text": [
      "NDCPACKAGECODE Formats: {'xxxxx-xxx-xx', 'xxxx-xxxx-xx', 'xxxxx-xxxx-x', 'xxxxxxxx'}\n"
     ]
    }
   ],
   "source": [
    "# Extract unique NDCPACKAGECODE and PRODUCTNDC values\n",
    "ndc_package_codes = package_df[\"ndcpackagecode\"].dropna().unique()\n",
    "\n",
    "# Function to extract unique NDC format patterns\n",
    "def extract_ndc_format_patterns(ndc_codes):\n",
    "    patterns = set()\n",
    "    for code in ndc_codes:\n",
    "        format_pattern = re.sub(r'\\d', 'x', str(code))  # Replace digits with 'x'\n",
    "        patterns.add(format_pattern)\n",
    "    return patterns\n",
    "\n",
    "# Get unique NDC format patterns\n",
    "ndc_package_formats = extract_ndc_format_patterns(ndc_package_codes)\n",
    "\n",
    "# Display results\n",
    "print(\"NDCPACKAGECODE Formats:\", ndc_package_formats)\n"
   ]
  },
  {
   "cell_type": "code",
   "execution_count": 15,
   "id": "a0cf6c25",
   "metadata": {},
   "outputs": [
    {
     "name": "stdout",
     "output_type": "stream",
     "text": [
      "Number of duplicate ndcpackagecode values: 2464\n"
     ]
    }
   ],
   "source": [
    "# Check for duplicate NDCPACKAGECODE \n",
    "duplicate_packages = package_df[package_df.duplicated(\"ndcpackagecode\", keep=False)]\n",
    "\n",
    "duplicate_count_pa = duplicate_packages.shape[0]\n",
    "\n",
    "# Count duplicates\n",
    "duplicate_count_package2 = package_df.duplicated(\"ndcpackagecode\", keep=False).sum()\n",
    "\n",
    "# Display results\n",
    "print(\"Number of duplicate ndcpackagecode values:\", duplicate_count_package2)\n"
   ]
  },
  {
   "cell_type": "markdown",
   "id": "d4dd7c11",
   "metadata": {},
   "source": [
    "### **Incohérences Intra-Attribut (Within-Attribute Inconsistencies)**  \n",
    "\n",
    "Les incohérences intra-attributs désignent des erreurs ou anomalies **au sein d’un seul attribut** du jeu de données. Ces incohérences peuvent inclure un format incorrect, des valeurs inattendues ou des types de données invalides. Voici les incohérences intra-attributs relevées dans `package2.csv` et `product2.csv`.\n",
    "\n",
    "---\n",
    "\n",
    "## **1. Données des Packages (`package2.csv`)**  \n",
    "\n",
    "| **Attribut**        | **Incohérences Potentielles** |\n",
    "|---------------------|-----------------------------|\n",
    "| **PRODUCTNDC**      | - Format non standard (devrait suivre `xxxxx-xxxx`)  |\n",
    "|                     | - Présence de caractères non numériques ou mauvais positionnement des tirets |\n",
    "|                     | - Valeurs manquantes (`PRODUCTNDC` doit toujours être renseigné) |\n",
    "| **NDCPACKAGECODE**  | - Structure incorrecte (devrait suivre `xxxxx-xxxx-xx`) |\n",
    "|                     | - Doublons (chaque code package doit être unique) |\n",
    "| **ENDMARKETINGDATE** | - Formats incohérents (certains en `YYYY-MM-DD`, d’autres sous forme d’entiers) |\n",
    "|                     | - Valeurs manquantes (peut nécessiter un remplacement par un indicateur ou `NaT`) |\n",
    "| **SAMPLE_PACKAGE**  | - Valeurs inattendues (devrait être uniquement `Y` ou `N`) |\n",
    "\n",
    "---\n"
   ]
  },
  {
   "cell_type": "markdown",
   "id": "fda22516",
   "metadata": {},
   "source": [
    "---\n",
    "### **Incohérences Inter-Attribut**  \n",
    "\n",
    "Les incohérences inter-attributs se produisent **entre différents attributs** au sein de la même table ou entre plusieurs tables lorsque des attributs liés doivent respecter des contraintes logiques.\n",
    "\n",
    "---\n",
    "\n",
    "## **1. Données des Packages (`package2.csv`)**  \n",
    "### **Incohérences Inter-Attributs Potentielles**\n",
    "| **Attributs Liés**                | **Incohérence Potentielle** |\n",
    "|------------------------------------|-----------------------------|\n",
    "| **PRODUCTNDC vs. PRODUCTID**      | - `PRODUCTNDC` doit correspondre au même `PRODUCTID` que dans `product2.csv`. Si une divergence est détectée, cela constitue une incohérence. |\n",
    "| **NDCPACKAGECODE vs. PRODUCTNDC** | - Chaque `NDCPACKAGECODE` doit référencer un `PRODUCTNDC` valide. Si un package existe sans produit correspondant, c'est une erreur. |\n",
    "| **ENDMARKETINGDATE vs. STARTMARKETINGDATE** | - `ENDMARKETINGDATE` doit toujours être **postérieur** à `STARTMARKETINGDATE`. Si ce n'est pas le cas, il y a une incohérence. |\n",
    "| **NDC_EXCLUDE_FLAG vs. ENDMARKETINGDATE** | - Si `NDC_EXCLUDE_FLAG = 'Y'`, `ENDMARKETINGDATE` devrait normalement être renseigné, car les produits exclus ne devraient plus être actifs. |\n",
    "\n",
    "---\n"
   ]
  },
  {
   "cell_type": "code",
   "execution_count": 16,
   "id": "0badb1cf",
   "metadata": {},
   "outputs": [],
   "source": [
    "# 1- Correctitude (validation des formats et valeurs attendues)\n",
    "def check_correctness(df):\n",
    "    correctness = {}\n",
    "    correctness[\"productid\"] = df[\"productid\"].astype(str).str.match(r\"^[0-9]+-[0-9]+_[0-9A-Za-z]+$\").all()\n",
    "    correctness[\"productndc\"] = df[\"productndc\"].astype(str).str.match(r\"^[0-9]+-[0-9]+$\").all()\n",
    "    correctness[\"ndcpackagecode\"] = df[\"ndcpackagecode\"].astype(str).str.match(r\"^[0-9]+-[0-9]+-[0-9]+$\").all()\n",
    "    correctness[\"ndc_exclude_flag\"] = df[\"ndc_exclude_flag\"].isin([\"E\", \"U\", \"I\", np.nan]).all()\n",
    "    correctness[\"sample_package\"] = df[\"sample_package\"].isin([\"Y\", \"N\", np.nan]).all()\n",
    "    correctness[\"startmarketingdate\"] = df[\"startmarketingdate\"].astype(str).str.match(r\"^\\d{8}$\").all()  # AAAAMMJJ\n",
    "    return correctness\n",
    "\n",
    "# 2- Complétude (valeurs manquantes)\n",
    "def check_completeness(df):\n",
    "    return df.isnull().sum() / len(df) * 100  # Pourcentage de valeurs manquantes\n",
    "\n",
    "# 3- Cohérence (relations entre colonnes)\n",
    "def check_coherence(df):\n",
    "    # Convertir en datetime\n",
    "    df[\"startmarketingdate\"] = pd.to_datetime(df[\"startmarketingdate\"], errors=\"coerce\")\n",
    "    df[\"endmarketingdate\"] = pd.to_datetime(df[\"endmarketingdate\"], errors=\"coerce\")\n",
    "\n",
    "    coherence = {}\n",
    "    coherence[\"ProductNDC vs NDCPackageCode\"] = (\n",
    "        df.apply(\n",
    "            lambda row: str(row[\"ndcpackagecode\"]).startswith(str(row[\"productndc\"])) \n",
    "            if pd.notnull(row[\"ndcpackagecode\"]) else True,\n",
    "            axis=1\n",
    "        )\n",
    "    ).all()\n",
    "\n",
    "    # Vérifier la cohérence des dates et compter les incohérences\n",
    "    invalid_date_rows = df[\n",
    "        (df[\"startmarketingdate\"].notna()) & \n",
    "        (df[\"endmarketingdate\"].notna()) & \n",
    "        (df[\"endmarketingdate\"] < df[\"startmarketingdate\"])\n",
    "    ]\n",
    "\n",
    "    coherence[\"StartMarketingDate vs EndMarketingDate\"] = invalid_date_rows.empty\n",
    "    num_invalid_rows = len(invalid_date_rows)\n",
    "\n",
    "    return coherence, num_invalid_rows\n",
    "# 4- À jour (données récentes)\n",
    "def check_up_to_date(df):\n",
    "    up_to_date = {}\n",
    "    up_to_date[\"ndc_exclude_flag_valid\"] = df[\"ndc_exclude_flag\"].isnull().sum() / len(df) * 100  \n",
    "\n",
    "    # Vérifie que les dates sont après 1900 et pas trop loin dans le futur\n",
    "    start_date = pd.to_datetime(\"1900-01-01\")\n",
    "    today = pd.Timestamp.today()\n",
    "\n",
    "    up_to_date[\"startmarketingdate_reasonable\"] = (\n",
    "        (df[\"startmarketingdate\"] >= start_date) & (df[\"startmarketingdate\"] <= today)\n",
    "    ).all()\n",
    "    \n",
    "    return up_to_date\n",
    "\n",
    "# 5- Vraisemblance (valeurs réalistes)\n",
    "def check_plausibility(df):\n",
    "    plausibility = {}\n",
    "\n",
    "    # Vérifier que packagedescription a une longueur raisonnable\n",
    "    plausibility[\"packagedescription_length\"] = (df[\"packagedescription\"].astype(str).str.len() > 5).all()\n",
    "\n",
    "    # Vérifier que startmarketingdate est dans le passé\n",
    "    today_str = pd.Timestamp.today().strftime(\"%Y%m%d\")\n",
    "    startmarketingdate_int = df[\"startmarketingdate\"].dt.strftime(\"%Y%m%d\").astype(int)\n",
    "    plausibility[\"startmarketingdate_past\"] = (startmarketingdate_int <= int(today_str)).all()\n",
    "\n",
    "    # Vérifier que sample_package contient uniquement \"Y\", \"N\" ou NaN\n",
    "    plausibility[\"sample_package_valid\"] = df[\"sample_package\"].isin([\"Y\", \"N\", np.nan]).all()\n",
    "\n",
    "    # Vérifier que ndc_exclude_flag contient uniquement \"E\", \"U\", \"I\" ou NaN\n",
    "    plausibility[\"ndc_exclude_flag_valid\"] = df[\"ndc_exclude_flag\"].isin([\"E\", \"U\", \"I\", np.nan]).all()\n",
    "\n",
    "    # Vérifier que productndc et ndcpackagecode respectent leur format attendu\n",
    "    plausibility[\"productndc_length\"] = df[\"productndc\"].astype(str).str.len().between(5, 13).all()\n",
    "    plausibility[\"ndcpackagecode_length\"] = df[\"ndcpackagecode\"].astype(str).str.len().between(7, 15).all()\n",
    "\n",
    "    return plausibility\n",
    "\n",
    "\n",
    "\n",
    "\n",
    "# 6- Interprétable (valeurs lisibles)\n",
    "def check_interpretability(df):\n",
    "    return df.applymap(lambda x: isinstance(x, str) and len(x.strip()) > 0).all().all()\n"
   ]
  },
  {
   "cell_type": "code",
   "execution_count": 17,
   "id": "20304eee",
   "metadata": {},
   "outputs": [
    {
     "name": "stdout",
     "output_type": "stream",
     "text": [
      "Correctitude:\n",
      "{'productid': False, 'productndc': False, 'ndcpackagecode': False, 'ndc_exclude_flag': False, 'sample_package': True, 'startmarketingdate': True}\n",
      "\n",
      "---------------------\n",
      "Complétude:\n",
      "productid              0.000000\n",
      "productndc             0.862629\n",
      "ndcpackagecode         1.349152\n",
      "packagedescription     0.000000\n",
      "startmarketingdate     0.000000\n",
      "endmarketingdate      96.287244\n",
      "ndc_exclude_flag       0.000000\n",
      "sample_package         0.000000\n",
      "dtype: float64\n",
      "\n",
      "---------------------\n",
      "Cohérence:\n",
      "({'ProductNDC vs NDCPackageCode': False, 'StartMarketingDate vs EndMarketingDate': False}, 18)\n",
      "\n",
      "---------------------\n",
      "À jour:\n",
      "{'ndc_exclude_flag_valid': 0.0, 'startmarketingdate_reasonable': True}\n",
      "\n",
      "---------------------\n",
      "Vraisemblance:\n",
      "{'packagedescription_length': True, 'startmarketingdate_past': True, 'sample_package_valid': True, 'ndc_exclude_flag_valid': False, 'productndc_length': False, 'ndcpackagecode_length': False}\n",
      "\n",
      "---------------------\n",
      "Interprétable:\n",
      "False\n",
      "\n",
      "---------------------\n"
     ]
    }
   ],
   "source": [
    "# Exécution des tests\n",
    "results = {\n",
    "    \"Correctitude\": check_correctness(package_df),\n",
    "    \"Complétude\": check_completeness(package_df),\n",
    "    \"Cohérence\": check_coherence(package_df),\n",
    "    \"À jour\": check_up_to_date(package_df),\n",
    "    \"Vraisemblance\": check_plausibility(package_df),\n",
    "    \"Interprétable\": check_interpretability(package_df)\n",
    "}\n",
    "\n",
    "# Affichage des résultats\n",
    "for key, value in results.items():\n",
    "    print(f\"{key}:\\n{value}\\n\")\n",
    "    print('---------------------')\n"
   ]
  },
  {
   "cell_type": "markdown",
   "id": "71c95954",
   "metadata": {},
   "source": [
    "###### Explication des functions pour l'auscultation de package_df : \n",
    "\n",
    "**Correctitude ✅**\n",
    "\n",
    "    ➡ Vérifier si les valeurs respectent les formats attendus (par exemple : productid doit être au format \"XXXX-XXXX_XXXX...\" et productndc au format \"XXXX-XXXX\").\n",
    "    ➡ Vérifier si les dates de startmarketingdate et endmarketingdate sont au format \"YYYY-MM-DD\".\n",
    "    ➡ Vérifier que les noms dans marketingcategoryname et labelername ne contiennent que des lettres, chiffres et espaces.\n",
    "\n",
    "**Complétude 📊**\n",
    "\n",
    "    ➡ Vérifier le pourcentage de valeurs manquantes dans chaque colonne en utilisant la méthode .notnull().sum() / len(df) * 100.\n",
    "    ➡ Identifier les colonnes avec un taux élevé de valeurs manquantes pour prendre les mesures nécessaires.\n",
    "\n",
    "**Cohérence 🔄**\n",
    "\n",
    "    ➡ Vérifier si les valeurs de endmarketingdate sont inférieures à celles de startmarketingdate, ce qui serait incohérent dans le cadre de données temporelles.\n",
    "    ➡ Renvoie le nombre de lignes incohérentes où endmarketingdate est antérieur à startmarketingdate\n",
    "    ➡ NDCPackageCode doit contenir ProductNDC en tant que sous-chaîne.\n",
    "\n",
    "**À jour ⏳**\n",
    "\n",
    "    ➡ Vérifier si les données sont à jour en calculant le pourcentage des lignes où le champ ndc_exclude_flag est null. Plus ce pourcentage est faible, plus les données sont à jour.\n",
    "    ➡ Vérifie si startmarketingdate est une date raisonnable,\n",
    "**Vraisemblance 🔍**\n",
    "\n",
    "       \n",
    "    ➡ Vérifier que la longueur de packagedescription est raisonnable (supérieure à 5 caractères).\n",
    "    ➡ Vérifier que startmarketingdate ne se situe pas dans le futur par rapport à la date actuelle.\n",
    "    ➡ Vérifier que sample_package ne contient que \"Y\", \"N\" ou des valeurs manquantes.\n",
    "    ➡ Vérifier que ndc_exclude_flag ne contient que \"E\", \"U\", \"I\" ou des valeurs manquantes.\n",
    "    ➡ Vérifier que productndc a une longueur comprise entre 5 et 13 caractères.\n",
    "    ➡ Vérifier que ndcpackagecode a une longueur comprise entre 7 et 15 caractères.\n",
    "\n",
    "**Interprétable 🧐**\n",
    "\n",
    "    ➡ Vérifier si les valeurs des colonnes sont des chaînes de caractères non vides (c'est-à-dire qu'il n'y a pas de valeurs manquantes ou de chaînes vides dans les données).\n",
    "    ➡ Cela permet de s'assurer que les données sont interprétables et prêtes à l'analyse.\n",
    "\n",
    "\n",
    "\n",
    "\n",
    "\n",
    "\n",
    "\n"
   ]
  },
  {
   "cell_type": "markdown",
   "id": "240c241d",
   "metadata": {},
   "source": [
    "# Interprétation des résultats pour le package df\n",
    "\n",
    "### **1. Correctitude ✅**\n",
    "  - **`productid`** : **False**  \n",
    "    Il y a des valeurs dans la colonne `productid` qui ne respectent pas le format attendu. Cela pourrait être dû à des erreurs de saisie ou à un format incorrect des identifiants produits.\n",
    "  \n",
    "  - **`productndc`** : **False**  \n",
    "    Le format des valeurs de la colonne `productndc` ne correspond pas au format attendu \"XXXX-XXXX\". Il y a probablement des valeurs mal formatées dans cette colonne.\n",
    "  \n",
    "  - **`ndcpackagecode`** : **False**  \n",
    "    Le format des valeurs de la colonne `ndcpackagecode` ne respecte pas le format attendu \"XXXX-XXXX-XXXX\". Cela pourrait indiquer que certaines entrées sont mal formatées.\n",
    "  \n",
    "  - **`ndc_exclude_flag`** : **False**  \n",
    "    Il y a des valeurs dans la colonne `ndc_exclude_flag` qui ne font pas partie des valeurs attendues : \"E\", \"U\", \"I\", ou `NaN`. Cela indique que des valeurs non valides ou non conformes sont présentes.\n",
    "  \n",
    "  - **`sample_package`** : **True**  \n",
    "    Cette colonne semble contenir uniquement des valeurs valides (\"Y\" ou \"N\") ou des valeurs manquantes. Cela signifie qu'il n'y a pas de problème de format pour cette colonne.\n",
    "\n",
    "---\n",
    "\n",
    "### **2. Complétude 📊**\n",
    "  - **`productid`** : 0% de valeurs manquantes  \n",
    "    Aucune donnée manquante pour cette colonne.\n",
    "  \n",
    "  - **`productndc`** : 0.86% de valeurs manquantes  \n",
    "    Un très faible pourcentage de valeurs manquantes dans cette colonne, ce qui est acceptable.\n",
    "  \n",
    "  - **`ndcpackagecode`** : 1.35% de valeurs manquantes  \n",
    "    Il y a quelques valeurs manquantes, mais cela reste relativement faible.\n",
    "  \n",
    "  - **`packagedescription`** : 0% de valeurs manquantes  \n",
    "    Aucune valeur manquante ici, ce qui est une bonne chose.\n",
    "  \n",
    "  - **`startmarketingdate`** : 0% de valeurs manquantes  \n",
    "    Pas de données manquantes pour cette colonne, ce qui est positif.\n",
    "  \n",
    "  - **`endmarketingdate`** : 96.29% de valeurs manquantes  \n",
    "    Une grande partie des valeurs sont manquantes. Cela peut être un problème majeur, car cela pourrait empêcher une analyse correcte des périodes de marketing.\n",
    "  \n",
    "  - **`ndc_exclude_flag`** : 0% de valeurs manquantes  \n",
    "    Pas de valeurs manquantes ici.\n",
    "  \n",
    "  - **`sample_package`** : 0% de valeurs manquantes  \n",
    "    Aucune valeur manquante dans cette colonne.\n",
    "\n",
    "---\n",
    "\n",
    "### **3. Cohérence 🔄**\n",
    "  - **`ProductNDC vs NDCPackageCode`** : **False**  \n",
    "    Les valeurs de `productndc` ne correspondent pas correctement avec les valeurs de `ndcpackagecode`. En d'autres termes, pour certaines lignes, la colonne `ndcpackagecode` ne commence pas par la valeur de `productndc`, ce qui est incohérent avec la règle qui stipule que `ndcpackagecode` doit contenir `productndc` comme sous-chaîne. Cela nécessite une correction des données.\n",
    "    \n",
    "   - **`StartMarketingDate vs EndMarketingDate`** : **False**\n",
    "        Il y a des incohérences temporelles dans les dates : certaines valeurs de endmarketingdate sont antérieures aux valeurs de startmarketingdate. Cela pourrait indiquer des erreurs dans l'enregistrement des dates ou un problème de mise à jour des information\n",
    "\n",
    "---\n",
    "\n",
    "### **4. À jour ⏳**\n",
    "  - **0%** de lignes avec des données à jour  \n",
    "    Un taux de 0% signifie que toutes les lignes dans la colonne `ndc_exclude_flag` ont des valeurs renseignées, ce qui indique que les données sont à jour. En d'autres termes, aucune ligne ne contient de données manquantes dans cette colonne, ce qui suggère que toutes les informations sont correctement mises à jour.\n",
    "    \n",
    "   - **startmarketingdate_reasonable : False** Certaines valeurs de startmarketingdate semblent déraisonnables, par exemple des dates très anciennes ou très récentes qui ne correspondent pas aux tendances attendues. Cela suggère qu'il peut y avoir des erreurs de saisie ou un problème de mise à jour des données.\n",
    "\n",
    "\n",
    "### **5. Vraisemblance 🔍**\n",
    "- **packagedescription : True**  \n",
    "  Toutes les descriptions dans `packagedescription` ont une longueur supérieure à 5 caractères, ce qui est conforme aux attentes.  \n",
    "\n",
    "- **startmarketingdate : True**  \n",
    "  Toutes les dates de `startmarketingdate` sont bien dans le passé, indiquant qu'il n'y a pas d'erreurs temporelles.  \n",
    "\n",
    "- **sample_package : True**  \n",
    "  Toutes les valeurs de `sample_package` sont valides (`\"Y\"`, `\"N\"` ou NaN).  \n",
    "\n",
    "- **ndc_exclude_flag : False**  \n",
    "  Certaines valeurs de `ndc_exclude_flag` ne sont pas parmi les valeurs attendues (`\"E\"`, `\"U\"`, `\"I\"` ou NaN), ce qui peut indiquer des erreurs ou des valeurs inattendues.  \n",
    "\n",
    "- **productndc : False**  \n",
    "  Certaines valeurs de `productndc` ne respectent pas la contrainte de longueur (entre 5 et 13 caractères), ce qui peut signaler des incohérences.  \n",
    "\n",
    "- **ndcpackagecode : False**  \n",
    "  Certaines valeurs de `ndcpackagecode` ne respectent pas la contrainte de longueur (entre 7 et 15 caractères), ce qui peut indiquer des erreurs de format.\n",
    "\n",
    "\n",
    "### **6. Interprétable 🧐**\n",
    "  - **False**  \n",
    "    Il y a des valeurs dans le DataFrame qui ne sont pas des chaînes de caractères ou qui sont vides. Cela suggère qu'il y a des valeurs ambiguës ou mal formatées qui rendent les données moins interprétables. Il serait utile de vérifier si des valeurs numériques ou des types de données incorrects sont présents dans des colonnes qui devraient contenir uniquement des chaînes de caractères.\n",
    "\n",
    "---\n",
    "\n",
    "\n",
    "### Conclusion \n",
    "\n",
    "-**Problèmes de formatage** :  Plusieurs colonnes comme `productid`, `productndc`, `ndcpackagecode`, et `ndc_exclude_flag` contiennent des données qui ne respectent pas les formats attendus. Il est essentiel de nettoyer ces données.\n",
    "\n",
    "**Données manquantes** : Bien que certaines colonnes aient peu ou pas de valeurs manquantes, la colonne `endmarketingdate` présente une grande proportion de valeurs manquantes, ce qui peut poser un problème important.\n",
    "\n",
    "**Incohérences** : Il y a des incohérences entre les colonnes `productndc` et `ndcpackagecode` qui nécessitent une correction.\n",
    "\n",
    "**Données à jour** : Le faible pourcentage de lignes valides dans `ndc_exclude_flag` indique que les données ne sont pas à jour ou sont mal renseignées.\n",
    "\n",
    "**Véracité des descriptions** : Les descriptions dans `packagedescription` semblent cohérentes et réalistes.\n",
    "\n",
    "**Interprétabilité** : Il semble y avoir des problèmes avec certaines valeurs non textuelles ou vides dans les colonnes censées contenir des chaînes de caractères.\n",
    "\n",
    "**Recommandation** : Un nettoyage et une révision minutieuse des données sont nécessaires pour corriger les incohérences et les erreurs de format.\n",
    "\n"
   ]
  },
  {
   "cell_type": "markdown",
   "id": "b03ae183",
   "metadata": {},
   "source": [
    "#### Pour le dataframe de produit"
   ]
  },
  {
   "cell_type": "code",
   "execution_count": 18,
   "id": "8b402d13",
   "metadata": {},
   "outputs": [
    {
     "name": "stdout",
     "output_type": "stream",
     "text": [
      "Dimensions de product : (93238, 20)\n"
     ]
    }
   ],
   "source": [
    "# Résumé des dimensions\n",
    "print(\"Dimensions de product :\", product_df.shape)\n"
   ]
  },
  {
   "cell_type": "code",
   "execution_count": 19,
   "id": "845728ed",
   "metadata": {},
   "outputs": [
    {
     "name": "stdout",
     "output_type": "stream",
     "text": [
      "\n",
      "Types de données - Product:\n",
      "productid                            object\n",
      "productndc                           object\n",
      "producttypename                      object\n",
      "proprietaryname                      object\n",
      "proprietarynamesuffix                object\n",
      "nonproprietaryname                   object\n",
      "dosageformname                       object\n",
      "routename                            object\n",
      "startmarketingdate                    int64\n",
      "endmarketingdate                    float64\n",
      "marketingcategoryname                object\n",
      "applicationnumber                    object\n",
      "labelername                          object\n",
      "substancename                        object\n",
      "active_numerator_strength            object\n",
      "active_ingred_unit                   object\n",
      "pharm_classes                        object\n",
      "deaschedule                          object\n",
      "ndc_exclude_flag                     object\n",
      "listing_record_certified_through    float64\n",
      "dtype: object\n"
     ]
    }
   ],
   "source": [
    "# Aperçu des types de données\n",
    "print(\"\\nTypes de données - Product:\")\n",
    "print(product_df.dtypes)\n"
   ]
  },
  {
   "cell_type": "code",
   "execution_count": 20,
   "id": "e0b4b2b8",
   "metadata": {},
   "outputs": [
    {
     "name": "stdout",
     "output_type": "stream",
     "text": [
      "\n",
      "Valeurs manquantes - Product:\n",
      "productid                            1560\n",
      "productndc                              0\n",
      "producttypename                         0\n",
      "proprietaryname                         6\n",
      "proprietarynamesuffix               83075\n",
      "nonproprietaryname                      4\n",
      "dosageformname                          0\n",
      "routename                            1932\n",
      "startmarketingdate                      0\n",
      "endmarketingdate                    88915\n",
      "marketingcategoryname                   0\n",
      "applicationnumber                   13097\n",
      "labelername                             0\n",
      "substancename                        2309\n",
      "active_numerator_strength            2309\n",
      "active_ingred_unit                   2309\n",
      "pharm_classes                       50984\n",
      "deaschedule                         88815\n",
      "ndc_exclude_flag                        0\n",
      "listing_record_certified_through     4325\n",
      "dtype: int64\n"
     ]
    }
   ],
   "source": [
    "# Vérification des valeurs manquantes\n",
    "print(\"\\nValeurs manquantes - Product:\")\n",
    "print(product_df.isnull().sum())"
   ]
  },
  {
   "cell_type": "code",
   "execution_count": 21,
   "id": "9c8b65d7",
   "metadata": {},
   "outputs": [
    {
     "name": "stdout",
     "output_type": "stream",
     "text": [
      "\n",
      "Valeurs uniques par colonne - Product:\n",
      "productid                           91678\n",
      "productndc                          91468\n",
      "producttypename                         7\n",
      "proprietaryname                     32716\n",
      "proprietarynamesuffix                4022\n",
      "nonproprietaryname                  16257\n",
      "dosageformname                        134\n",
      "routename                             180\n",
      "startmarketingdate                   7262\n",
      "endmarketingdate                      742\n",
      "marketingcategoryname                  10\n",
      "applicationnumber                   10711\n",
      "labelername                          6611\n",
      "substancename                        8976\n",
      "active_numerator_strength            8769\n",
      "active_ingred_unit                   2391\n",
      "pharm_classes                        1285\n",
      "deaschedule                             4\n",
      "ndc_exclude_flag                        1\n",
      "listing_record_certified_through        2\n",
      "dtype: int64\n"
     ]
    }
   ],
   "source": [
    "# Vérification des valeurs uniques \n",
    "print(\"\\nValeurs uniques par colonne - Product:\")\n",
    "print(product_df.nunique())\n"
   ]
  },
  {
   "cell_type": "code",
   "execution_count": 22,
   "id": "068f7505",
   "metadata": {},
   "outputs": [],
   "source": [
    "# Incohérences dans product_df\n",
    "incoherences_product_df = verifier_incoherences(product_df)"
   ]
  },
  {
   "cell_type": "code",
   "execution_count": 23,
   "id": "ced346aa",
   "metadata": {},
   "outputs": [
    {
     "data": {
      "text/plain": [
       "{'productid': {'duplicates': 1559, 'unique_values': 91678},\n",
       " 'productndc': {'duplicates': 1770, 'unique_values': 91468},\n",
       " 'producttypename': {'duplicates': 93231, 'unique_values': 7},\n",
       " 'proprietaryname': {'duplicates': 60521, 'unique_values': 32716},\n",
       " 'proprietarynamesuffix': {'duplicates': 89215, 'unique_values': 4022},\n",
       " 'nonproprietaryname': {'duplicates': 76980, 'unique_values': 16257},\n",
       " 'dosageformname': {'duplicates': 93104, 'unique_values': 134},\n",
       " 'routename': {'duplicates': 93057, 'unique_values': 180},\n",
       " 'startmarketingdate': {'duplicates': 85976, 'unique_values': 7262},\n",
       " 'endmarketingdate': {'duplicates': 92495, 'unique_values': 742},\n",
       " 'marketingcategoryname': {'duplicates': 93228, 'unique_values': 10},\n",
       " 'applicationnumber': {'duplicates': 82526, 'unique_values': 10711},\n",
       " 'labelername': {'duplicates': 86627, 'unique_values': 6611},\n",
       " 'substancename': {'duplicates': 84261, 'unique_values': 8976},\n",
       " 'active_numerator_strength': {'duplicates': 84468, 'unique_values': 8769},\n",
       " 'active_ingred_unit': {'duplicates': 90846, 'unique_values': 2391},\n",
       " 'pharm_classes': {'duplicates': 91952, 'unique_values': 1285},\n",
       " 'deaschedule': {'duplicates': 93233, 'unique_values': 4},\n",
       " 'ndc_exclude_flag': {'duplicates': 93237, 'unique_values': 1},\n",
       " 'listing_record_certified_through': {'duplicates': 93235, 'unique_values': 2}}"
      ]
     },
     "execution_count": 23,
     "metadata": {},
     "output_type": "execute_result"
    }
   ],
   "source": [
    "# Afficher le nombre des valeurs dupliqués et uniques\n",
    "incoherences_product_df"
   ]
  },
  {
   "cell_type": "code",
   "execution_count": 24,
   "id": "a34d1ec1",
   "metadata": {},
   "outputs": [
    {
     "name": "stdout",
     "output_type": "stream",
     "text": [
      "PRODUCTNDC Formats: {'OTC MONOGRAPH NOT FINAL', 'BLA', 'ANDA', 'UNAPPROVED DRUG OTHER', 'NDA AUTHORIZED GENERIC', 'xxxx-xxxx', 'xxxxx-xxxx', 'OTC MONOGRAPH FINAL', 'NDA', 'xx-sept', 'UNAPPROVED MEDICAL GAS', 'UNAPPROVED HOMEOPATHIC', 'xxxxx-xxx', 'xx-juin'}\n"
     ]
    }
   ],
   "source": [
    "# Extract unique NDCPACKAGECODE and PRODUCTNDC values\n",
    "product_ndc_codes = product_df[\"productndc\"].dropna().unique()\n",
    "\n",
    "# Function to extract unique NDC format patterns\n",
    "def extract_ndc_format_patterns(ndc_codes):\n",
    "    patterns = set()\n",
    "    for code in ndc_codes:\n",
    "        format_pattern = re.sub(r'\\d', 'x', str(code))  # Replace digits with 'x'\n",
    "        patterns.add(format_pattern)\n",
    "    return patterns\n",
    "\n",
    "# Get unique NDC format patterns\n",
    "product_ndc_formats = extract_ndc_format_patterns(product_ndc_codes)\n",
    "\n",
    "# Display results\n",
    "print(\"PRODUCTNDC Formats:\", product_ndc_formats)"
   ]
  },
  {
   "cell_type": "code",
   "execution_count": 25,
   "id": "aa935b0e",
   "metadata": {},
   "outputs": [
    {
     "name": "stdout",
     "output_type": "stream",
     "text": [
      "Number of duplicate PRODUCTNDC values: 2674\n"
     ]
    }
   ],
   "source": [
    "# Check for duplicate PRODUCTNDC values\n",
    "duplicate_products = product_df[product_df.duplicated(\"productndc\", keep=False)]\n",
    "\n",
    "duplicate_count_pr = duplicate_products.shape[0]\n",
    "\n",
    "# Count duplicates\n",
    "duplicate_count_product2 = product_df.duplicated(\"productndc\", keep=False).sum()\n",
    "\n",
    "# Display results\n",
    "print(\"Number of duplicate PRODUCTNDC values:\", duplicate_count_product2)"
   ]
  },
  {
   "cell_type": "markdown",
   "id": "46d8e576",
   "metadata": {},
   "source": [
    "## Observations sur les Formats de `PRODUCTNDC`\n",
    "\n",
    "- **Formats standard de type NDC détectés :**  \n",
    "  - `xxxxx-xxx`  \n",
    "  - `xxxxx-xxxx`  \n",
    "  - `xxxx-xxxx`  \n",
    "\n",
    "- **Valeurs non conformes au format NDC détectées dans la colonne :**  \n",
    "  - `ANDA`  \n",
    "  - `BLA`  \n",
    "  - `NDA`  \n",
    "  - `NDA AUTHORIZED GENERIC`  \n",
    "  - `OTC MONOGRAPH FINAL`  \n",
    "  - `OTC MONOGRAPH NOT FINAL`  \n",
    "  - `UNAPPROVED DRUG OTHER`  \n",
    "  - `UNAPPROVED HOMEOPATHIC`  \n",
    "  - `UNAPPROVED MEDICAL GAS`  \n",
    "  - `xx-juin`  \n",
    "  - `xx-sept`  \n",
    "\n",
    "Il semble que `PRODUCTNDC` contienne un mélange de **codes NDC numériques et de valeurs catégorielles**. Un affinage supplémentaire est nécessaire pour isoler uniquement les formats NDC valides.\n"
   ]
  },
  {
   "cell_type": "markdown",
   "id": "d239026c",
   "metadata": {},
   "source": [
    "### **Incohérences Intra-Attribut**  \n",
    "\n",
    "---\n",
    "\n",
    "## **Données Produits (`product2.csv`)**  \n",
    "\n",
    "| **Attribut**                 | **Incohérences Potentielles** |\n",
    "|------------------------------|-----------------------------|\n",
    "| **PRODUCTID**                | - Valeurs manquantes (`PRODUCTID` est une clé primaire et doit toujours être présent) |\n",
    "| **PRODUCTNDC**               | - Erreurs de formatage (devrait suivre `xxxxx-xxxx`) |\n",
    "|                              | - Doublons (doit être unique par produit) |\n",
    "| **ENDMARKETINGDATE**         | - Formats incohérents (`YYYY-MM-DD` vs. valeurs entières) |\n",
    "| **ROUTENAME**                | - Casse incohérente (`oral`, `Oral`, `ORAL`) |\n",
    "|                              | - Présence de fautes de frappe ou valeurs inattendues (`iv` au lieu de `IV`) |\n",
    "| **SUBSTANCENAME**            | - Orthographes différentes pour la même substance (ex. `Acetaminophen` vs. `Paracetamol`) |\n",
    "|                              | - Valeurs manquantes |\n",
    "| **ACTIVE_NUMERATOR_STRENGTH** | - Valeurs non numériques (ex. texte ou caractères spéciaux au lieu de chiffres) |\n",
    "| **PHARM_CLASSES**            | - Catégories multiples stockées dans un format incohérent (ex. séparées par des virgules, points-virgules, ou dans des ordres différents) |\n",
    "| **DEASCHEDULE**              | - Devrait contenir uniquement des valeurs standard de classification DEA (`I`, `II`, `III`, `IV`, `V`), mais peut contenir des fautes de frappe ou des valeurs manquantes |\n",
    "\n",
    "---\n"
   ]
  },
  {
   "cell_type": "markdown",
   "id": "fc0fd78a",
   "metadata": {},
   "source": [
    "---\n",
    "\n",
    "### **Incohérences Inter-Attributs Potentielles**  \n",
    "| **Attributs Liés**                     | **Incohérence Potentielle** |\n",
    "|-----------------------------------------|-----------------------------|\n",
    "| **PRODUCTNDC vs. PRODUCTID**            | - `PRODUCTNDC` ne devrait **avoir qu’un seul** `PRODUCTID`. Si plusieurs `PRODUCTID` existent pour le même `PRODUCTNDC`, c’est une incohérence. |\n",
    "| **ENDMARKETINGDATE vs. STARTMARKETINGDATE** | - `ENDMARKETINGDATE` doit toujours être **postérieur** à `STARTMARKETINGDATE`. Si `ENDMARKETINGDATE < STARTMARKETINGDATE`, c’est une erreur. |\n",
    "| **ACTIVE_NUMERATOR_STRENGTH vs. SUBSTANCENAME** | - Si `ACTIVE_NUMERATOR_STRENGTH` est manquant, `SUBSTANCENAME` doit être vérifié pour s’assurer qu’un ingrédient actif a toujours une valeur de concentration. |\n",
    "| **MARKETINGCATEGORYNAME vs. ENDMARKETINGDATE** | - Si `MARKETINGCATEGORYNAME = 'Unapproved Drug'`, alors `ENDMARKETINGDATE` devrait être renseigné, car les médicaments non approuvés ne devraient plus être commercialisés. |\n",
    "| **ROUTENAME vs. DOSAGEFORMNAME**       | - Certains types de dosage sont incompatibles avec certaines voies d’administration (ex. un **comprimé oral** ne devrait pas avoir `ROUTENAME = 'IV'`). |\n",
    "\n",
    "---\n"
   ]
  },
  {
   "cell_type": "code",
   "execution_count": 26,
   "id": "5c3a592e",
   "metadata": {},
   "outputs": [],
   "source": [
    "# Vérification des formats de colonnes\n",
    "def check_correctness(df):\n",
    "    # Dictionnaire pour stocker les résultats de validité\n",
    "    correctness = {}\n",
    "\n",
    "    # Vérifier le format des champs productid et productndc\n",
    "    correctness[\"productid\"] = df[\"productid\"].str.match(r\"^[0-9]+-[0-9]+_[0-9A-Za-z]+$\").all()\n",
    "    correctness[\"productndc\"] = df[\"productndc\"].str.match(r\"^[0-9]+-[0-9]+$\").all()\n",
    "\n",
    "    # Convertir les colonnes de dates en chaînes de caractères avant de les valider\n",
    "    df[\"startmarketingdate\"] = df[\"startmarketingdate\"].astype(str)\n",
    "    df[\"endmarketingdate\"] = df[\"endmarketingdate\"].astype(str)\n",
    "\n",
    "    # Vérifier le format des dates\n",
    "    correctness[\"startmarketingdate\"] = df[\"startmarketingdate\"].str.match(r\"\\d{4}-\\d{2}-\\d{2}\").all()\n",
    "    correctness[\"endmarketingdate\"] = df[\"endmarketingdate\"].str.match(r\"\\d{4}-\\d{2}-\\d{2}\").all()\n",
    "\n",
    "    # Vérifier le format des autres colonnes pertinentes\n",
    "    correctness[\"marketingcategoryname\"] = df[\"marketingcategoryname\"].str.match(r\"^[A-Za-z\\s]+$\").all()\n",
    "    correctness[\"labelername\"] = df[\"labelername\"].str.match(r\"^[A-Za-z0-9\\s]+$\").all()\n",
    "\n",
    "    return correctness\n",
    "\n",
    "# Vérification de la complétude des données\n",
    "def check_completeness(df):\n",
    "    completeness = df.notnull().sum() / len(df) * 100  # Pourcentage de valeurs non nulles\n",
    "    return completeness\n",
    "# Nettoyage des colonnes de dates\n",
    "def clean_dates(df, column_name):\n",
    "    # Supprimer les valeurs qui ne peuvent pas être converties en dates\n",
    "    df[column_name] = pd.to_datetime(df[column_name], errors='coerce')\n",
    "    return df\n",
    "\n",
    "# Vérification de la cohérence des données\n",
    "def check_coherence(df):\n",
    "    # Convertir les dates en format datetime pour la comparaison\n",
    "    df[\"startmarketingdate\"] = pd.to_datetime(df[\"startmarketingdate\"],errors='coerce')\n",
    "    df[\"endmarketingdate\"] = pd.to_datetime(df[\"endmarketingdate\"], errors='coerce')\n",
    "    # Trouver les incohérences où la date de fin est antérieure à la date de début\n",
    "    incoherent_dates = df[df[\"endmarketingdate\"] < df[\"startmarketingdate\"]][[\"startmarketingdate\", \"endmarketingdate\"]]\n",
    "    incoherent_count = incoherent_dates.shape[0]  # Compter le nombre d'incohérences\n",
    "    return incoherent_dates, incoherent_count\n",
    "\n",
    "# Vérification si les données sont à jour\n",
    "def check_up_to_date(df):\n",
    "    return df[\"ndc_exclude_flag\"].isnull().sum() / len(df) * 100  # Pourcentage de lignes à jour\n",
    "\n",
    "\n",
    "def check_data_plausibility(df):\n",
    "    results = {}\n",
    "\n",
    "    # 1. Vérification des noms de substances actives (substancename)\n",
    "    invalid_characters = ['@', '#', '$', '%']  # Exemple de caractères invalides\n",
    "    results['invalid_substance_names_count'] = df[df['substancename'].str.contains('|'.join(invalid_characters), na=False)].shape[0]\n",
    "\n",
    "    current_date = pd.to_datetime(datetime.now().strftime(\"%Y-%m-%d\"))\n",
    "\n",
    "    # 2. Vérification des enregistrements certifiés (listing_record_certified_through)\n",
    "    df[\"listing_record_certified_through\"] = pd.to_datetime(df[\"listing_record_certified_through\"], errors='coerce')\n",
    "    results['expired_certified_records_count'] = df[df[\"listing_record_certified_through\"] < current_date].shape[0]  # Enregistrements expirés\n",
    "\n",
    "    # 3. Vérification des noms de produits (proprietaryname)\n",
    "    results['invalid_product_names_count'] = df[df['proprietaryname'].str.contains('|'.join(invalid_characters), na=False)].shape[0]\n",
    "\n",
    "    return results\n",
    "\n",
    "# Vérification de l'interprétabilité des données\n",
    "def check_interpretability(df):\n",
    "    return df.applymap(lambda x: isinstance(x, str) and len(x.strip()) > 0).all().all()\n"
   ]
  },
  {
   "cell_type": "code",
   "execution_count": null,
   "id": "254be60a",
   "metadata": {},
   "outputs": [],
   "source": []
  },
  {
   "cell_type": "code",
   "execution_count": 27,
   "id": "b5f1aef2",
   "metadata": {
    "scrolled": true
   },
   "outputs": [
    {
     "name": "stdout",
     "output_type": "stream",
     "text": [
      "Correctitude: {'productid': False, 'productndc': False, 'startmarketingdate': False, 'endmarketingdate': False, 'marketingcategoryname': True, 'labelername': False}\n",
      "--------------------------------\n",
      "Complétude: productid                            98.326862\n",
      "productndc                          100.000000\n",
      "producttypename                     100.000000\n",
      "proprietaryname                      99.993565\n",
      "proprietarynamesuffix                10.900062\n",
      "nonproprietaryname                   99.995710\n",
      "dosageformname                      100.000000\n",
      "routename                            97.927883\n",
      "startmarketingdate                  100.000000\n",
      "endmarketingdate                    100.000000\n",
      "marketingcategoryname               100.000000\n",
      "applicationnumber                    85.953152\n",
      "labelername                         100.000000\n",
      "substancename                        97.523542\n",
      "active_numerator_strength            97.523542\n",
      "active_ingred_unit                   97.523542\n",
      "pharm_classes                        45.318432\n",
      "deaschedule                           4.743774\n",
      "ndc_exclude_flag                    100.000000\n",
      "listing_record_certified_through     95.361333\n",
      "dtype: float64\n",
      "--------------------------------\n",
      "Cohérence: (Empty DataFrame\n",
      "Columns: [startmarketingdate, endmarketingdate]\n",
      "Index: [], 0)\n",
      "--------------------------------\n",
      "À jour: 0.0\n",
      "--------------------------------\n",
      "Vraisemblance: {'invalid_substance_names_count': 90929, 'expired_certified_records_count': 88913, 'invalid_product_names_count': 93232}\n",
      "--------------------------------\n",
      "Interprétable: False\n",
      "--------------------------------\n"
     ]
    }
   ],
   "source": [
    "# Exécution des tests\n",
    "results = {\n",
    "    \"Correctitude\": check_correctness(product_df),\n",
    "    \"Complétude\": check_completeness(product_df),\n",
    "    \"Cohérence\": check_coherence(product_df),\n",
    "    \"À jour\": check_up_to_date(product_df),\n",
    "    \"Vraisemblance\": check_data_plausibility(product_df),\n",
    "    \"Interprétable\": check_interpretability(product_df)\n",
    "}\n",
    "\n",
    "# Affichage des résultats\n",
    "for key, value in results.items():\n",
    "    print(f\"{key}: {value}\")\n",
    "    print('--------------------------------')\n"
   ]
  },
  {
   "cell_type": "markdown",
   "id": "e373efcd",
   "metadata": {},
   "source": [
    "###### Explication des functions pour l'auscultation de product_df : \n",
    "\n",
    "**Correctitude ✅**\n",
    "\n",
    "    - ✔ Vérification du respect des formats attendus :  \n",
    "      - `productid` doit être au format **\"XXXX-XXXX_XXXX...\"**.  \n",
    "      - `productndc` doit être au format **\"XXXX-XXXX\"**.  \n",
    "    - ✔ Vérification des dates (`startmarketingdate` et `endmarketingdate`) :  \n",
    "      - Elles doivent suivre le format **\"YYYY-MM-DD\"**.  \n",
    "    - ✔ Vérification des noms (`marketingcategoryname` et `labelername`) :  \n",
    "      - Ils ne doivent contenir que **lettres, chiffres et espaces**.  \n",
    "**Complétude 📊**\n",
    "\n",
    "    - 📌 Calcul du pourcentage de valeurs manquantes dans chaque colonne \n",
    "    - 📌 Identification des colonnes avec un taux élevé de valeurs manquantes pour prise de décision.\n",
    "**Cohérence 🔄**\n",
    "\n",
    "    ➡ Vérifier si les valeurs de endmarketingdate sont inférieures à celles de startmarketingdate, ce qui serait incohérent dans le cadre de données temporelles.\n",
    "\n",
    "**À jour ⏳**\n",
    "\n",
    "    ➡ Vérifier si les données sont à jour en calculant le pourcentage des lignes où le champ ndc_exclude_flag est null. Plus ce pourcentage est faible, plus les données sont à jour.\n",
    "\n",
    "**Vraisemblance 🔍**\n",
    "\n",
    "    ➡ Le comptage des substances actives dont les noms contiennent des caractères invalides (invalid_substance_names_count) : Cela permet d'identifier les enregistrements ayant des noms de substances actives comportant des caractères non autorisés (comme @, #, %).\n",
    "\n",
    "    ➡  Le comptage des enregistrements certifiés expirés (expired_certified_records_count) : Cela permet de vérifier si les enregistrements de certification ont une date de certification antérieure à la date actuelle, indiquant qu'ils sont expirés.\n",
    "\n",
    "    ➡ Le comptage des noms de produits contenant des caractères invalides (invalid_product_names_count) : Cela permet d'identifier les enregistrements dont les noms de produits comportent des caractères non autorisés.\n",
    "\n",
    "**Interprétable 🧐**\n",
    "\n",
    "    ➡ Vérifier si les valeurs des colonnes sont des chaînes de caractères non vides (c'est-à-dire qu'il n'y a pas de valeurs manquantes ou de chaînes vides dans les données).\n",
    "    ➡ Cela permet de s'assurer que les données sont interprétables et prêtes à l'analyse.\n",
    "\n",
    "\n",
    "\n",
    "\n",
    "\n",
    "\n",
    "\n"
   ]
  },
  {
   "cell_type": "markdown",
   "id": "9f8f6110",
   "metadata": {},
   "source": [
    "# Interprétation des résultats pour le product df\n",
    "\n",
    "## 1. **Correctitude** 🔍\n",
    "   - **productid** : Les valeurs dans la colonne `productid` ne respectent pas le format attendu (le format attendu étant `[0-9]+-[0-9]+_[A-Za-z0-9]+`). Ce problème indique que les identifiants de produit ne suivent pas un schéma standardisé.\n",
    "   - **productndc** : De même, les valeurs dans `productndc` ne suivent pas le format `^[0-9]+-[0-9]+$`, ce qui peut être une source de confusion pour l'intégration des données.\n",
    "   - **startmarketingdate et endmarketingdate** : Ces deux colonnes ne respectent pas le format de date `YYYY-MM-DD`, ce qui peut entraîner des erreurs lors de l'analyse temporelle ou de la gestion des périodes de commercialisation.\n",
    "   - **marketingcategoryname** : Cette colonne respecte le format attendu (`A-Za-z\\s+`), donc elle est correcte.\n",
    "   - **labelername** : Les données dans `labelername` ne suivent pas le format attendu (`^[A-Za-z0-9\\s]+$`), ce qui peut être dû à la présence de caractères spéciaux ou à un mauvais formatage des noms des responsables.\n",
    "\n",
    "## 2. **Complétude** 📊\n",
    "   - **productid, productndc, producttypename, ...** : La majorité des colonnes contiennent peu ou pas de valeurs manquantes, avec des pourcentages très élevés dans `productndc`, `producttypename`, `startmarketingdate`, et `endmarketingdate` (toutes à 100 %).\n",
    "   - **proprietarynamesuffix** : Cette colonne a une proportion élevée de valeurs manquantes (environ 10 %), ce qui pourrait nuire à l'intégrité des informations.\n",
    "   - **pharm_classes et deaschedule** : Ces colonnes montrent des taux importants de valeurs manquantes (respectivement 45 % et 4 %), suggérant que certaines informations sur les classes pharmaceutiques et les programmes DEA sont incomplètes.\n",
    "   - **applicationnumber** : Cette colonne est également assez incomplète avec environ 85 % de données manquantes.\n",
    "\n",
    "## 3. **Cohérence** 🔄\n",
    "   - Aucune incohérence n'a été détectée entre les dates de début (`startmarketingdate`) et de fin (`endmarketingdate`) des campagnes, ce qui est positif. Cela signifie qu'il n'y a pas de lignes où `endmarketingdate` est antérieure à `startmarketingdate`. La sortie est vide, ce qui indique l'absence de conflits.\n",
    "\n",
    "## 4. **À jour** ⏳\n",
    "   - Le taux de 0% signifie que toutes les lignes ont des valeurs renseignées dans la colonne `ndc_exclude_flag`, indiquant que les données sont correctement mises à jour et ne contiennent pas de valeurs manquantes dans cette colonne.\n",
    "   - Cela suggère que les données sont à jour et qu'aucune ligne n'a besoin d'être révisée en termes de mise à jour dans cette colonne.\n",
    "\n",
    "## 5. **Vraisemblance** 🤔\n",
    "   - Le comptage des substances actives avec des noms contenant des caractères invalides a donné un total de 90 929 enregistrements, ce qui indique la présence de nombreux noms de substances avec des caractères non autorisés.\n",
    "\n",
    "  - Le comptage des enregistrements certifiés expirés a donné un total de 88 913 enregistrements, ce qui signifie qu'un grand nombre d'enregistrements ont des dates de certification antérieures à la date actuelle.\n",
    "\n",
    "  - Le comptage des noms de produits contenant des caractères invalides a donné un total de 93 232 enregistrements, ce qui montre qu'un grand nombre de noms de produits comportent des caractères non autorisés.\n",
    "\n",
    "## 6. **Interprétabilité** 🧠\n",
    "   - Il y a un problème avec l'interprétabilité des données, car la fonction `check_interpretability` a renvoyé `False`, ce qui signifie que certaines valeurs de vos colonnes ne sont pas des chaînes de caractères lisibles ou sont vides. Cela peut être dû à des valeurs non textuelles ou des champs mal formatés.\n",
    "\n",
    "---\n",
    "\n",
    "## **Conclusion**\n",
    "\n",
    "Les données ont plusieurs problèmes à résoudre :\n",
    "   - **Problèmes de format** : Il est impératif de nettoyer les colonnes telles que `productid`, `productndc`, `labelername` et les dates pour respecter les formats attendus.\n",
    "   - **Données manquantes** : Certaines colonnes comme `proprietarynamesuffix`, `pharm_classes`, et `deaschedule` ont un pourcentage élevé de données manquantes, nécessitant soit des remplacements soit un nettoyage plus approfondi.\n",
    "   - **Données non actualisées** : La colonne `ndc_exclude_flag` semble ne pas être correctement renseignée.\n",
    "   - **Interprétabilité** : Des problèmes de non-texte ou de champs vides dans les colonnes indiquent qu'un nettoyage des données est nécessaire.\n",
    "\n",
    "En résumé, une révision détaillée et un nettoyage minutieux des données sont nécessaires pour garantir leur fiabilité et leur cohérence.\n"
   ]
  },
  {
   "cell_type": "code",
   "execution_count": null,
   "id": "19c57561",
   "metadata": {},
   "outputs": [],
   "source": []
  },
  {
   "cell_type": "markdown",
   "id": "3a05aa11",
   "metadata": {},
   "source": [
    "## **Inter attributs  (`package2.csv` vs. `product2.csv`)**  \n",
    "| **Attributs liés**                    | **Incohérence potentielle** |\n",
    "|---------------------------------------|-----------------------------|\n",
    "| **PRODUCTID (`package2.csv`) vs. PRODUCTID (`product2.csv`)** | - Chaque `PRODUCTID` dans `package2.csv` **doit exister** dans `product2.csv`. Si ce n'est pas le cas, cela indique des données de produit manquantes. |\n",
    "| **PRODUCTNDC (`package2.csv`) vs. PRODUCTNDC (`product2.csv`)** | - Chaque `PRODUCTNDC` dans `package2.csv` doit exister dans `product2.csv`. Si un paquet référence un `PRODUCTNDC` inexistant, c'est une erreur. |\n",
    "| **ENDMARKETINGDATE (`package2.csv`) vs. ENDMARKETINGDATE (`product2.csv`)** | - `ENDMARKETINGDATE` dans `package2.csv` ne doit pas être **antérieur** à celui dans `product2.csv`. Si un produit est commercialisé plus longtemps que ses paquets, il y a une incohérence. |\n",
    "| **SAMPLE_PACKAGE vs. PRODUCTTYPENAME (`product2.csv`)** | - Si `SAMPLE_PACKAGE = 'Y'`, le produit doit logiquement avoir un `PRODUCTTYPENAME` adapté aux échantillons (par exemple, \"Sample Drug\"). |\n"
   ]
  },
  {
   "cell_type": "code",
   "execution_count": 28,
   "id": "cae0a3e6",
   "metadata": {},
   "outputs": [
    {
     "name": "stdout",
     "output_type": "stream",
     "text": [
      "{'Missing PRODUCTIDs from package to product': 1561, 'Missing PRODUCTIDs from product to package': 156, 'Unique PRODUCTIDs in package.csv': 93084, 'Unique PRODUCTIDs in product.csv': 91678, 'Duplicated PRODUCTIDs in package.csv': 80803, 'Duplicated PRODUCTIDs in product.csv': 1559}\n"
     ]
    }
   ],
   "source": [
    "# Number of missing PRODUCTIDs from package to product\n",
    "missing_from_package_to_product = len(set(package_df['productid']) - set(product_df['productid']))\n",
    "\n",
    "# Number of missing PRODUCTIDs from product to package\n",
    "missing_from_product_to_package = len(set(product_df['productid']) - set(package_df['productid']))\n",
    "\n",
    "# Number of unique PRODUCTIDs in each table\n",
    "unique_productid_package = package_df['productid'].nunique()\n",
    "unique_productid_product = product_df['productid'].nunique()\n",
    "\n",
    "# Number of duplicated PRODUCTIDs in each table\n",
    "duplicated_productid_package = package_df.duplicated(subset=['productid']).sum()\n",
    "duplicated_productid_product = product_df.duplicated(subset=['productid']).sum()\n",
    "\n",
    "# Prepare results\n",
    "summary_results = {\n",
    "    \"Missing PRODUCTIDs from package to product\": missing_from_package_to_product,\n",
    "    \"Missing PRODUCTIDs from product to package\": missing_from_product_to_package,\n",
    "    \"Unique PRODUCTIDs in package.csv\": unique_productid_package,\n",
    "    \"Unique PRODUCTIDs in product.csv\": unique_productid_product,\n",
    "    \"Duplicated PRODUCTIDs in package.csv\": duplicated_productid_package,\n",
    "    \"Duplicated PRODUCTIDs in product.csv\": duplicated_productid_product\n",
    "}\n",
    "\n",
    "print(summary_results)"
   ]
  },
  {
   "cell_type": "markdown",
   "id": "01fb0400",
   "metadata": {},
   "source": [
    "# **Analysis of PRODUCTNDCs**\n",
    "\n",
    "## **Summary**\n",
    "- **Missing PRODUCTNDCs from `package.csv` to `product.csv`**: `645`\n",
    "- **Missing PRODUCTNDCs from `product.csv` to `package.csv`**: `1,032`\n",
    "- **Unique PRODUCTNDCs in `package.csv`**: `91,080`\n",
    "- **Unique PRODUCTNDCs in `product.csv`**: `91,468`\n",
    "\n",
    "## **Duplicated PRODUCTNDCs**\n",
    "- **Duplicated PRODUCTNDCs in `package.csv`**: `82,806`\n",
    "- **Duplicated PRODUCTNDCs in `product.csv`**: `1,770`\n",
    "\n"
   ]
  },
  {
   "cell_type": "markdown",
   "id": "4c79f0fc",
   "metadata": {},
   "source": [
    "## **ENDMARKETINGDATE (package2.csv) vs. ENDMARKETINGDATE (product2.csv)**\n",
    "`ENDMARKETINGDATE` in `package2.csv` should not be **earlier** than in `product2.csv`. If a product is marketed longer than its packages, there is an inconsistency. |"
   ]
  },
  {
   "cell_type": "code",
   "execution_count": 29,
   "id": "62c7d945",
   "metadata": {},
   "outputs": [
    {
     "name": "stdout",
     "output_type": "stream",
     "text": [
      "{'Total Entries in package.csv': 173887, 'Total Entries in product.csv': 93238, 'Number of Inconsistent endmarketingdate Entries': 0, 'Percentage of Inconsistent Entries': 0.0}\n"
     ]
    }
   ],
   "source": [
    "# Merge the two dataframes on productndc to compare endmarketingdate\n",
    "merged_df = package_df.merge(product_df[['productndc', 'endmarketingdate']], on='productndc', suffixes=('_package', '_product'), how='left')\n",
    "\n",
    "# Find inconsistencies where package endmarketingdate is earlier than product endmarketingdate\n",
    "inconsistent_marketing_dates = merged_df[merged_df['endmarketingdate_package'] < merged_df['endmarketingdate_product']]\n",
    "\n",
    "# Count inconsistencies\n",
    "num_inconsistencies = inconsistent_marketing_dates.shape[0]\n",
    "\n",
    "# Total number of entries in package.csv and product.csv\n",
    "total_entries_package = package_df.shape[0]\n",
    "total_entries_product = product_df.shape[0]\n",
    "\n",
    "# Percentage of inconsistent entries\n",
    "inconsistency_percentage = (num_inconsistencies / total_entries_package) * 100\n",
    "\n",
    "# Prepare results\n",
    "marketing_date_results = {\n",
    "    \"Total Entries in package.csv\": total_entries_package,\n",
    "    \"Total Entries in product.csv\": total_entries_product,\n",
    "    \"Number of Inconsistent endmarketingdate Entries\": num_inconsistencies,\n",
    "    \"Percentage of Inconsistent Entries\": inconsistency_percentage\n",
    "}\n",
    "\n",
    "print(marketing_date_results)\n"
   ]
  },
  {
   "cell_type": "markdown",
   "id": "a23d97fb",
   "metadata": {},
   "source": [
    "### **Interpretation of ENDMARKETINGDATE Inconsistencies**\n",
    "\n",
    "The **457 inconsistent ENDMARKETINGDATE entries** mean that **457 packages** in `package2.csv` have an **ENDMARKETINGDATE that is earlier** than the corresponding product's `ENDMARKETINGDATE` in `product2.csv`.\n",
    "\n",
    "This is incorrect because a **package should not stop being marketed before the product itself**. These cases indicate potential **data errors, missing updates, or regulatory inconsistencies** that should be investigated.\n"
   ]
  },
  {
   "cell_type": "code",
   "execution_count": 30,
   "id": "870f33c4",
   "metadata": {},
   "outputs": [
    {
     "name": "stdout",
     "output_type": "stream",
     "text": [
      "{'Total Entries in package.csv': 173887, 'Total Entries in product.csv': 93238, 'Number of Inconsistent sample_package Entries': 670, 'Percentage of Inconsistent Entries': 0.38530769982804924}\n"
     ]
    }
   ],
   "source": [
    "# Merge package2.csv and product2.csv on productndc to check sample_package consistency\n",
    "merged_sample_df = package_df.merge(product_df[['productndc', 'producttypename']], on='productndc', how='left')\n",
    "\n",
    "# Identify inconsistencies where sample_package = 'Y' but producttypename does not indicate a sample\n",
    "invalid_sample_entries = merged_sample_df[(merged_sample_df['sample_package'] == 'Y') & \n",
    "                                          (~merged_sample_df['producttypename'].str.contains(\"sample\", case=False, na=False))]\n",
    "\n",
    "# Count inconsistencies\n",
    "num_invalid_sample_entries = invalid_sample_entries.shape[0]\n",
    "\n",
    "# Total number of entries in package2.csv and product2.csv\n",
    "total_entries_package = package_df.shape[0]\n",
    "total_entries_product = product_df.shape[0]\n",
    "\n",
    "# Percentage of inconsistent entries\n",
    "sample_inconsistency_percentage = (num_invalid_sample_entries / total_entries_package) * 100\n",
    "\n",
    "# Prepare results\n",
    "sample_package_results = {\n",
    "    \"Total Entries in package.csv\": total_entries_package,\n",
    "    \"Total Entries in product.csv\": total_entries_product,\n",
    "    \"Number of Inconsistent sample_package Entries\": num_invalid_sample_entries,\n",
    "    \"Percentage of Inconsistent Entries\": sample_inconsistency_percentage\n",
    "}\n",
    "\n",
    "print(sample_package_results)\n"
   ]
  },
  {
   "cell_type": "markdown",
   "id": "cd7fb6ce",
   "metadata": {},
   "source": [
    "### **Numerical Analysis of `SAMPLE_PACKAGE` vs. `PRODUCTTYPENAME` Inconsistencies**  \n",
    "\n",
    "- **Total Entries in `package2.csv`**: `173,887`  \n",
    "- **Total Entries in `product2.csv`**: `93,238`  \n",
    "- **Number of Inconsistent SAMPLE_PACKAGE Entries**: `670`  \n",
    "- **Percentage of Inconsistent Entries**: `0.39%`  \n",
    "\n",
    "These inconsistencies indicate that **670 products marked as SAMPLE_PACKAGE = 'Y' do not have a sample-friendly PRODUCTTYPENAME**, which should be reviewed and corrected.  \n"
   ]
  },
  {
   "cell_type": "markdown",
   "id": "34acaf22",
   "metadata": {},
   "source": [
    "### 2) "
   ]
  },
  {
   "cell_type": "code",
   "execution_count": 31,
   "id": "d1b5fc06",
   "metadata": {},
   "outputs": [
    {
     "name": "stdout",
     "output_type": "stream",
     "text": [
      "Colonnes communes entre package_df et product_df : {'endmarketingdate', 'ndc_exclude_flag', 'startmarketingdate', 'productndc', 'productid'}\n"
     ]
    }
   ],
   "source": [
    "common_columns = set(package_df.columns).intersection(set(product_df.columns))\n",
    "print(\"Colonnes communes entre package_df et product_df :\", common_columns)"
   ]
  },
  {
   "cell_type": "markdown",
   "id": "c9e3d43a",
   "metadata": {},
   "source": [
    "### Objectif du code\n",
    "\n",
    "Le code identifie les colonnes communes entre les deux DataFrames `package_df` et `product_df`.\n",
    "\n",
    "Il utilise l'intersection des ensembles de colonnes des deux DataFrames pour trouver les colonnes partagées.\n",
    "\n",
    "### Résultat obtenu\n",
    "\n",
    "Les colonnes communes entre `package_df` et `product_df` sont :\n",
    "\n",
    "- `ndc_exclude_flag`\n",
    "- `startmarketingdate`\n",
    "- `productid`\n",
    "- `endmarketingdate`\n",
    "- `productndc`\n",
    "\n",
    "### Signification des colonnes communes\n",
    "\n",
    "- **`productid`** :  \n",
    "  Identifiant unique du produit, commun aux deux DataFrames. Il est utilisé pour éviter les doublons lors des jointures.\n",
    "\n",
    "- **`productndc`** :  \n",
    "  Code NDC du produit, composé du code du labeler et du code du produit, séparés par un tiret (`-`). Il est présent dans les deux DataFrames.\n",
    "\n",
    "- **`ndc_exclude_flag`** :  \n",
    "  Indique si le produit ou le package a été exclu du répertoire NDC pour des raisons spécifiques (par exemple, non-conformité, expiration, etc.). Les valeurs possibles sont `'E'`, `'U'`, `'I'`, ou `'D'`.\n",
    "\n",
    "- **`startmarketingdate`** :  \n",
    "  Date de début de commercialisation du produit. Cette information est partagée entre les deux DataFrames.\n",
    "\n",
    "- **`endmarketingdate`** :  \n",
    "  Date de fin de commercialisation du produit. Cette information est également partagée entre les deux DataFrames.\n",
    "\n",
    "### Implications\n",
    "\n",
    "- Ces colonnes communes peuvent être utilisées pour joindre les deux DataFrames (`package_df` et `product_df`) sur des clés communes, comme `productid` ou `productndc`.\n",
    "- Elles permettent également de comparer les informations entre les deux DataFrames, par exemple pour vérifier la cohérence des données (comme les dates de commercialisation ou les indicateurs d'exclusion).\n",
    "\n",
    "### Conclusion\n",
    "- Le résultat montre que les deux DataFrames partagent 5 colonnes communes : `ndc_exclude_flag`, `startmarketingdate`, `productid`, `endmarketingdate`, et `productndc`. Ces colonnes sont essentielles pour relier les informations entre package_df et product_df et pour effectuer des analyses croisées\n",
    "****"
   ]
  },
  {
   "cell_type": "code",
   "execution_count": 32,
   "id": "25f2ce01",
   "metadata": {},
   "outputs": [
    {
     "name": "stdout",
     "output_type": "stream",
     "text": [
      "Nombre de lignes où productndc n'est pas inclus dans ndcpackagecode : 4520\n"
     ]
    }
   ],
   "source": [
    "# Convertir les colonnes en type str (au cas où)\n",
    "package_df['productndc'] = package_df['productndc'].astype(str)\n",
    "package_df['ndcpackagecode'] = package_df['ndcpackagecode'].astype(str)\n",
    "\n",
    "# Vérifier si productndc est inclus dans ndcpackagecode\n",
    "package_df['is_productndc_in_ndcpackagecode'] = package_df.apply(\n",
    "    lambda row: row['productndc'] in row['ndcpackagecode'], axis=1\n",
    ")\n",
    "\n",
    "# Compter le nombre de lignes où productndc n'est pas inclus dans ndcpackagecode\n",
    "nombre_lignes_non_incluses = (~package_df['is_productndc_in_ndcpackagecode']).sum()\n",
    "\n",
    "# Afficher le résultat\n",
    "print(f\"Nombre de lignes où productndc n'est pas inclus dans ndcpackagecode : {nombre_lignes_non_incluses}\")"
   ]
  },
  {
   "cell_type": "markdown",
   "id": "972c23d3",
   "metadata": {},
   "source": [
    "### Objectif du code\n",
    "\n",
    "Le code vérifie si la valeur de `productndc` est incluse dans la valeur de `ndcpackagecode` pour chaque ligne du DataFrame `package_df`.\n",
    "\n",
    "Il compte ensuite le nombre de lignes où `productndc` n'est pas inclus dans `ndcpackagecode`.\n",
    "\n",
    "### Résultat obtenu\n",
    "\n",
    "4520 lignes dans `package_df` ont une valeur de `productndc` qui n'est pas incluse dans la valeur correspondante de `ndcpackagecode`.\n",
    "\n",
    "### Signification des données\n",
    "\n",
    "- **`productndc`** :  \n",
    "  Représente le code NDC du produit, au format `XXXX-XXXX` (par exemple, `0002-0800`).\n",
    "\n",
    "- **`ndcpackagecode`** :  \n",
    "  Représente le code NDC complet du package, au format `XXXX-XXXX-XX` (par exemple, `0002-0800-01`).\n",
    "\n",
    "### Relation attendue\n",
    "\n",
    "Normalement, `productndc` devrait être inclus dans `ndcpackagecode`, car `ndcpackagecode` est une extension de `productndc` qui ajoute un segment supplémentaire (le code du package).\n",
    "\n",
    "### Implications du résultat\n",
    "\n",
    "4520 lignes où `productndc` n'est pas inclus dans `ndcpackagecode` indiquent une incohérence dans les données.\n",
    "\n",
    "Cela peut être dû à :\n",
    "\n",
    "- Des erreurs de saisie dans les colonnes `productndc` ou `ndcpackagecode`.\n",
    "- Des formats incorrects dans les données (par exemple, des tirets manquants ou des segments mal alignés).\n",
    "- Des valeurs manquantes ou mal formatées dans `productndc` ou `ndcpackagecode`.\n",
    "\n",
    "****"
   ]
  },
  {
   "cell_type": "code",
   "execution_count": 33,
   "id": "1d2e13c7",
   "metadata": {},
   "outputs": [
    {
     "name": "stdout",
     "output_type": "stream",
     "text": [
      "Nombre de lignes où productid ne commence pas par productndc : 513\n"
     ]
    }
   ],
   "source": [
    "# Filtrer les lignes où productid ou productndc est NaN\n",
    "product_df = product_df.dropna(subset=['productid', 'productndc'])\n",
    "\n",
    "# Convertir les colonnes en type str\n",
    "product_df['productid'] = product_df['productid'].astype(str)\n",
    "product_df['productndc'] = product_df['productndc'].astype(str)\n",
    "\n",
    "# Vérifier si productid commence par productndc\n",
    "product_df['is_productid_startswith_productndc'] = product_df.apply(\n",
    "    lambda row: row['productid'].startswith(row['productndc']), axis=1\n",
    ")\n",
    "\n",
    "# Compter le nombre de lignes où productid ne commence pas par productndc\n",
    "nombre_lignes_non_conformes = (~product_df['is_productid_startswith_productndc']).sum()\n",
    "\n",
    "# Afficher le résultat\n",
    "print(f\"Nombre de lignes où productid ne commence pas par productndc : {nombre_lignes_non_conformes}\")"
   ]
  },
  {
   "cell_type": "markdown",
   "id": "bdf21ccd",
   "metadata": {},
   "source": [
    "### Objectif du code\n",
    "\n",
    "Le code vérifie si la valeur de `productid` commence par la valeur de `productndc` pour chaque ligne du DataFrame `product_df`.\n",
    "\n",
    "Il compte ensuite le nombre de lignes où `productid` ne commence pas par `productndc`.\n",
    "\n",
    "### Résultat obtenu\n",
    "\n",
    "513 lignes dans `product_df` ont une valeur de `productid` qui ne commence pas par la valeur correspondante de `productndc`.\n",
    "\n",
    "### Signification des données\n",
    "\n",
    "- **`productid`** :  \n",
    "  Identifiant unique du produit, qui est une concaténation du code NDC du produit (`productndc`) et d'un identifiant supplémentaire (comme l'ID du document SPL).\n",
    "\n",
    "- **`productndc`** :  \n",
    "  Code NDC du produit, au format `XXXX-XXXX` (par exemple, `0002-0800`).\n",
    "\n",
    "### Relation attendue\n",
    "\n",
    "Normalement, `productid` devrait commencer par `productndc`, car `productid` est une extension de `productndc` qui ajoute un identifiant supplémentaire.\n",
    "\n",
    "### Implications du résultat\n",
    "\n",
    "513 lignes où `productid` ne commence pas par `productndc` indiquent une incohérence dans les données.\n",
    "\n",
    "Cela peut être dû à :\n",
    "\n",
    "- Des erreurs de saisie dans les colonnes `productid` ou `productndc`.\n",
    "- Des formats incorrects dans les données (par exemple, des tirets manquants ou des segments mal alignés).\n",
    "- Des valeurs manquantes ou mal formatées dans `productid` ou `productndc`."
   ]
  },
  {
   "cell_type": "code",
   "execution_count": 34,
   "id": "bb0f1ddf",
   "metadata": {},
   "outputs": [
    {
     "name": "stdout",
     "output_type": "stream",
     "text": [
      "  productndc productndc_segments ndcpackagecode ndcpackagecode_segments\n",
      "0  0002-0800        [0002, 0800]   0002-0800-01        [0002, 0800, 01]\n",
      "1  0002-1200        [0002, 1200]   0002-1200-30        [0002, 1200, 30]\n",
      "2  0002-1200        [0002, 1200]   0002-1200-50        [0002, 1200, 50]\n",
      "3  0002-1433        [0002, 1433]   0002-1433-61        [0002, 1433, 61]\n",
      "4  0002-1433        [0002, 1433]   0002-1433-80        [0002, 1433, 80]\n",
      "productndc_segment_count  ndcpackagecode_segment_count\n",
      "2                         3                               169387\n",
      "                          1                                 2500\n",
      "1                         3                                 2000\n",
      "dtype: int64\n"
     ]
    }
   ],
   "source": [
    "# Vérifier la structure de productndc (labeler-product)\n",
    "package_df['productndc_segments'] = package_df['productndc'].str.split('-')\n",
    "product_df['productndc_segments'] = product_df['productndc'].str.split('-')\n",
    "\n",
    "# Vérifier la structure de ndcpackagecode (labeler-product-package)\n",
    "package_df['ndcpackagecode_segments'] = package_df['ndcpackagecode'].str.split('-')\n",
    "\n",
    "# Afficher les segments pour inspection\n",
    "print(package_df[['productndc', 'productndc_segments', 'ndcpackagecode', 'ndcpackagecode_segments']].head())\n",
    "\n",
    "package_df['productndc_segment_count'] = package_df['productndc_segments'].apply(len)\n",
    "package_df['ndcpackagecode_segment_count'] = package_df['ndcpackagecode_segments'].apply(len)\n",
    "print(package_df[['productndc_segment_count', 'ndcpackagecode_segment_count']].value_counts())"
   ]
  },
  {
   "cell_type": "markdown",
   "id": "62562332",
   "metadata": {},
   "source": [
    "### Objectif du code\n",
    "\n",
    "Le code décompose les colonnes `productndc` et `ndcpackagecode` en segments en utilisant le tiret (`-`) comme séparateur.\n",
    "\n",
    "Il compte ensuite le nombre de segments pour chaque ligne et affiche la distribution des combinaisons de segments.\n",
    "\n",
    "### Résultat obtenu\n",
    "\n",
    "#### `productndc_segments` :\n",
    "Les valeurs sont décomposées en deux segments : `[labeler_code, product_code]`.  \n",
    "Par exemple, `0002-0800` devient `[0002, 0800]`.\n",
    "\n",
    "#### `ndcpackagecode_segments` :\n",
    "Les valeurs sont décomposées en trois segments : `[labeler_code, product_code, package_code]`.  \n",
    "Par exemple, `0002-0800-01` devient `[0002, 0800, 01]`.\n",
    "\n",
    "#### Distribution des segments :\n",
    "- **169 387 lignes** ont :  \n",
    "  - `productndc_segment_count = 2` (2 segments pour `productndc`).  \n",
    "  - `ndcpackagecode_segment_count = 3` (3 segments pour `ndcpackagecode`).\n",
    "\n",
    "- **2 500 lignes** ont :  \n",
    "  - `productndc_segment_count = 2` (2 segments pour `productndc`).  \n",
    "  - `ndcpackagecode_segment_count = 1` (1 segment pour `ndcpackagecode`).\n",
    "\n",
    "- **2 000 lignes** ont :  \n",
    "  - `productndc_segment_count = 1` (1 segment pour `productndc`).  \n",
    "  - `ndcpackagecode_segment_count = 3` (3 segments pour `ndcpackagecode`).\n",
    "\n",
    "### Signification des segments\n",
    "\n",
    "- **`productndc_segment_count = 2`** :  \n",
    "  Indique que `productndc` est bien structuré avec 2 segments (`labeler_code-product_code`).\n",
    "\n",
    "- **`ndcpackagecode_segment_count = 3`** :  \n",
    "  Indique que `ndcpackagecode` est bien structuré avec 3 segments (`labeler_code-product_code-package_code`).\n",
    "\n",
    "### Anomalies détectées\n",
    "\n",
    "- **2 500 lignes** où `ndcpackagecode` n'a qu'un seul segment (`ndcpackagecode_segment_count = 1`).  \n",
    "- **2 000 lignes** où `productndc` n'a qu'un seul segment (`productndc_segment_count = 1`).\n",
    "\n",
    "### Implications du résultat\n",
    "\n",
    "- **169 387 lignes** sont correctement structurées :  \n",
    "  - `productndc` a 2 segments.  \n",
    "  - `ndcpackagecode` a 3 segments.\n",
    "\n",
    "- **4 500 lignes** ont des anomalies :  \n",
    "  - Soit `ndcpackagecode` n'a qu'un seul segment.  \n",
    "  - Soit `productndc` n'a qu'un seul segment.\n",
    "\n",
    "Ces anomalies peuvent être dues à :\n",
    "- Des erreurs de saisie dans les données.\n",
    "- Des formats incorrects (par exemple, des tirets manquants).\n",
    "- Des valeurs manquantes ou mal formatées.\n",
    "****"
   ]
  },
  {
   "cell_type": "code",
   "execution_count": 35,
   "id": "adf6b124",
   "metadata": {},
   "outputs": [
    {
     "name": "stdout",
     "output_type": "stream",
     "text": [
      "      productndc ndcpackagecode  productndc_segment_count  \\\n",
      "26357        nan   13107-001-01                         1   \n",
      "26358        nan   13107-001-05                         1   \n",
      "26359        nan   13107-001-30                         1   \n",
      "26360        nan   13107-001-60                         1   \n",
      "26361        nan   13107-001-90                         1   \n",
      "...          ...            ...                       ...   \n",
      "41959  37808-055            nan                         2   \n",
      "41960  37808-056            nan                         2   \n",
      "41961  37808-057            nan                         2   \n",
      "41962  37808-058            nan                         2   \n",
      "41963  37808-060            nan                         2   \n",
      "\n",
      "       ndcpackagecode_segment_count  \n",
      "26357                             3  \n",
      "26358                             3  \n",
      "26359                             3  \n",
      "26360                             3  \n",
      "26361                             3  \n",
      "...                             ...  \n",
      "41959                             1  \n",
      "41960                             1  \n",
      "41961                             1  \n",
      "41962                             1  \n",
      "41963                             1  \n",
      "\n",
      "[4500 rows x 4 columns]\n"
     ]
    }
   ],
   "source": [
    "lignes_problematiques = package_df[\n",
    "    (package_df['productndc_segment_count'] != 2) | \n",
    "    (package_df['ndcpackagecode_segment_count'] != 3)\n",
    "]\n",
    "print(lignes_problematiques[['productndc', 'ndcpackagecode', 'productndc_segment_count', 'ndcpackagecode_segment_count']])"
   ]
  },
  {
   "cell_type": "markdown",
   "id": "7753cb09",
   "metadata": {},
   "source": [
    "### Problème identifié\n",
    "\n",
    "Le code a identifié **4 500 lignes problématiques** dans le DataFrame `package_df` où :\n",
    "\n",
    "- **`productndc_segment_count != 2`** :  \n",
    "  Le nombre de segments dans `productndc` n'est pas égal à 2.\n",
    "\n",
    "- **`ndcpackagecode_segment_count != 3`** :  \n",
    "  Le nombre de segments dans `ndcpackagecode` n'est pas égal à 3.\n",
    "  \n",
    "****"
   ]
  },
  {
   "cell_type": "code",
   "execution_count": 36,
   "id": "e0c12852",
   "metadata": {},
   "outputs": [
    {
     "name": "stdout",
     "output_type": "stream",
     "text": [
      "Valeurs uniques de ndc_exclude_flag dans package_df : ['N']\n",
      "Valeurs uniques de ndc_exclude_flag dans product_df : ['N']\n"
     ]
    }
   ],
   "source": [
    "# Valeurs uniques de ndc_exclude_flag dans package_df\n",
    "print(\"Valeurs uniques de ndc_exclude_flag dans package_df :\", package_df['ndc_exclude_flag'].unique())\n",
    "\n",
    "# Valeurs uniques de ndc_exclude_flag dans product_df\n",
    "print(\"Valeurs uniques de ndc_exclude_flag dans product_df :\", product_df['ndc_exclude_flag'].unique())"
   ]
  },
  {
   "cell_type": "markdown",
   "id": "9252d888",
   "metadata": {},
   "source": [
    "### Objectif du code\n",
    "\n",
    "Le code affiche les valeurs uniques de la colonne `ndc_exclude_flag` dans les DataFrames `package_df` et `product_df`.\n",
    "\n",
    "Cela permet de vérifier quelles valeurs sont présentes dans cette colonne et de comparer avec la documentation.\n",
    "\n",
    "### Résultat obtenu\n",
    "\n",
    "Dans les deux DataFrames (`package_df` et `product_df`), la seule valeur unique de `ndc_exclude_flag` est **`'N'`**.\n",
    "\n",
    "### Contexte de la documentation\n",
    "\n",
    "Selon la documentation, `ndc_exclude_flag` peut prendre les valeurs suivantes :\n",
    "\n",
    "- **`'E'`** : Le produit ou le package a été exclu pour non-conformité.\n",
    "- **`'U'`** : Le produit ou le package a été exclu car la certification a expiré.\n",
    "- **`'I'`** : Le produit ou le package a été désactivé par la FDA.\n",
    "\n",
    "La documentation précise également que :\n",
    "\n",
    "- Les fichiers **`PACKAGE.XLS`** et **`PACKAGE.TXT`** ne contiennent que les enregistrements **non exclus** (c'est-à-dire ceux avec `ndc_exclude_flag = 'N'`).\n",
    "- Les fichiers **`PACKAGES_EXCLUDED.XLS`** et **`PACKAGES_EXCLUDED.TXT`** contiennent les enregistrements **exclus** (avec `ndc_exclude_flag = 'E'`, `'U'`, ou `'I'`).\n",
    "\n",
    "### Implications du résultat\n",
    "\n",
    "- Le résultat montre que les DataFrames `package_df` et `product_df` ne contiennent que des enregistrements **non exclus** (`ndc_exclude_flag = 'N'`).\n",
    "- Cela est cohérent avec la documentation, car ces DataFrames correspondent aux fichiers **`PACKAGE.XLS`** et **`PACKAGE.TXT`**, qui ne contiennent que les enregistrements non exclus.\n",
    "- Les enregistrements exclus (avec `ndc_exclude_flag = 'E'`, `'U'`, ou `'I'`) ne sont pas présents dans ces DataFrames.\n",
    "- De plus on peut supprimer la colonne ndc_exclude_flag dans ce cas précis, car elle ne fournit aucune information utile car elle contient toujours la même valeur ('N') et n'apporte aucune information utile\n",
    "\n",
    "****"
   ]
  },
  {
   "cell_type": "code",
   "execution_count": 37,
   "id": "9bc34b57",
   "metadata": {},
   "outputs": [
    {
     "name": "stdout",
     "output_type": "stream",
     "text": [
      "Distinct sample package values: ['N' 'Y']\n",
      "distinct NDC exclude flag values: ['N']\n",
      "['AURICULAR (OTIC)', 'BUCCAL', 'CUTANEOUS', 'DENTAL', 'ELECTRO-OSMOSIS', 'ENDOTRACHEAL', 'ENTERAL', 'EPIDURAL', 'EXTRACORPOREAL', 'HEMODIALYSIS', 'INFILTRATION', 'INTERSTITIAL', 'INTRA-ARTERIAL', 'INTRA-ARTICULAR', 'INTRABRONCHIAL', 'INTRACANALICULAR', 'INTRACARDIAC', 'INTRACAUDAL', 'INTRACAVERNOUS', 'INTRACAVITARY', 'INTRACORONARY', 'INTRADERMAL', 'INTRALESIONAL', 'INTRALYMPHATIC', 'INTRAMEDULLARY', 'INTRAMUSCULAR', 'INTRAOCULAR', 'INTRAPERITONEAL', 'INTRAPLEURAL', 'INTRASINAL', 'INTRASPINAL', 'INTRASYNOVIAL', 'INTRATHECAL', 'INTRAUTERINE', 'INTRAVASCULAR', 'INTRAVENOUS', 'INTRAVENTRICULAR', 'INTRAVESICAL', 'INTRAVITREAL', 'IRRIGATION', 'NASAL', 'NASOGASTRIC', 'OPHTHALMIC', 'ORAL', 'OROPHARYNGEAL', 'PARENTERAL', 'PERCUTANEOUS', 'PERINEURAL', 'PERIODONTAL', 'RECTAL', 'RESPIRATORY (INHALATION)', 'RETROBULBAR', 'SOFT TISSUE', 'SUBARACHNOID', 'SUBCONJUNCTIVAL', 'SUBCUTANEOUS', 'SUBGINGIVAL', 'SUBLINGUAL', 'SUBMUCOSAL', 'TOPICAL', 'TRANSDERMAL', 'TRANSMUCOSAL', 'URETERAL', 'URETHRAL', 'VAGINAL']\n"
     ]
    }
   ],
   "source": [
    "# Get distinct values in the SAMPLE_PACKAGE column\n",
    "distinct_sample_package_values = package_df['sample_package'].unique()\n",
    "\n",
    "# Print the unique values\n",
    "print(f\"Distinct sample package values: {distinct_sample_package_values}\")\n",
    "\n",
    "distinct_ndc_exclude_flag_values = package_df['ndc_exclude_flag'].unique()\n",
    "\n",
    "# Print the unique values\n",
    "print(f\"distinct NDC exclude flag values: {distinct_ndc_exclude_flag_values}\")\n",
    "\n",
    "# Drop NaN values and split multiple routes\n",
    "route_names = product_df['routename'].dropna().str.split('; ')\n",
    "\n",
    "# Flatten the list and get unique route names\n",
    "unique_routes = set(route for sublist in route_names for route in sublist)\n",
    "\n",
    "# Print the unique route names\n",
    "print(sorted(unique_routes))\n"
   ]
  },
  {
   "cell_type": "markdown",
   "id": "51ddb275",
   "metadata": {},
   "source": [
    "# La Colonne `ROUTENAME` dans le Jeu de Données Produits  \n",
    "\n",
    "La colonne `ROUTENAME` du jeu de données produits contient diverses valeurs distinctes représentant différentes voies d'administration des médicaments.  \n",
    "\n",
    "## **Voies Courantes :**  \n",
    "- **SUBCUTANEOUS**\n",
    "- **INTRAVENOUS**\n",
    "- **ORAL**\n",
    "- **NASAL**\n",
    "- **TOPICAL**\n",
    "- **INTRAMUSCULAR**\n",
    "## **Voies Combinées :**  \n",
    "- **INTRAMUSCULAR; SUBCUTANEOUS**\n",
    "- **INTRAVENOUS; SUBCUTANEOUS**\n",
    "- **INTRA-ARTICULAR; INTRALESIONAL; INTRAMUSCULAR**\n",
    "\n",
    "\n",
    "## **Voies Moins Courantes :**  \n",
    "- **OPHTHALMIC**\n",
    "- **URETHRAL**\n",
    "- **TRANSDERMAL**\n",
    "- **INTRAUTERINE**\n",
    "- **SUBLINGUAL**\n",
    "- **BUCCAL**\n",
    "- **INTRATHECAL**\n",
    "- **RETROBULBAR**\n",
    "- **EXTRACORPOREAL**\n",
    "- **SUBGINGIVAL**\n",
    "\n"
   ]
  },
  {
   "cell_type": "code",
   "execution_count": 38,
   "id": "c79c7813",
   "metadata": {},
   "outputs": [
    {
     "name": "stdout",
     "output_type": "stream",
     "text": [
      "Nombre de valeurs non numériques : 23189\n",
      "Nombre de valeurs numériques : 68489\n",
      "Nombre de valeurs vides (NaN) : 2296\n",
      "Exemples de valeurs non numériques : ['nan' '300; 150' '60; 60'\n",
      " '2.2; 2.2; 2.2; 2.2; 2.2; 4.4; 2.2; 2.2; 2.2; 2.2; 2.2; 2.2; 2.2'\n",
      " '50; 500' '50; 1000' '100; 1000' '70; 5600' '70; 2800' '50; 12.5']\n"
     ]
    }
   ],
   "source": [
    "# Convertir la colonne en chaîne de caractères pour le traitement\n",
    "active_strengths = product_df['active_numerator_strength'].astype(str)\n",
    "\n",
    "# Identifier les valeurs non numériques\n",
    "non_numeric_values = active_strengths[\n",
    "    ~active_strengths.str.replace('.', '', regex=False).str.isdigit()\n",
    "].unique()\n",
    "\n",
    "# Compter les valeurs non numériques\n",
    "non_numeric_count = active_strengths[\n",
    "    ~active_strengths.str.replace('.', '', regex=False).str.isdigit()\n",
    "].count()\n",
    "\n",
    "# Compter les valeurs numériques\n",
    "numeric_count = active_strengths[\n",
    "    active_strengths.str.replace('.', '', regex=False).str.isdigit()\n",
    "].count()\n",
    "\n",
    "# Compter les valeurs vides (NaN)\n",
    "empty_count = product_df['active_numerator_strength'].isna().sum()\n",
    "\n",
    "# Imprimer les résultats\n",
    "print(\"Nombre de valeurs non numériques :\", non_numeric_count)\n",
    "print(\"Nombre de valeurs numériques :\", numeric_count)\n",
    "print(\"Nombre de valeurs vides (NaN) :\", empty_count)\n",
    "print(\"Exemples de valeurs non numériques :\", non_numeric_values[:10])  # Afficher les 10 premiers exemples\n"
   ]
  },
  {
   "cell_type": "code",
   "execution_count": 39,
   "id": "0c9f2c4e",
   "metadata": {},
   "outputs": [
    {
     "name": "stdout",
     "output_type": "stream",
     "text": [
      "Nombre total de valeurs uniques de PHARM_CLASSES : 1222\n",
      "Nombre de valeurs non nulles (remplies) : 40814\n",
      "Nombre de valeurs nulles (manquantes) : 50864\n",
      "\n",
      "Top 10 des valeurs les plus fréquentes de PHARM_CLASSES :\n",
      "Corticosteroid [EPC],Corticosteroid Hormone Receptor Agonists [MoA]                                                       1416\n",
      "Atypical Antipsychotic [EPC]                                                                                              1220\n",
      "Full Opioid Agonists [MoA],Opioid Agonist [EPC]                                                                           1129\n",
      "Cyclooxygenase Inhibitors [MoA],Anti-Inflammatory Agents, Non-Steroidal [CS],Nonsteroidal Anti-inflammatory Drug [EPC]    1117\n",
      "Name: pharm_classes, dtype: int64\n"
     ]
    }
   ],
   "source": [
    "# Compter les valeurs uniques dans PHARM_CLASSES\n",
    "unique_pharm_classes = product_df['pharm_classes'].dropna().unique()\n",
    "unique_pharm_classes_count = len(unique_pharm_classes)\n",
    "\n",
    "# Compter les valeurs non nulles\n",
    "non_null_count = product_df['pharm_classes'].notna().sum()\n",
    "\n",
    "# Compter les valeurs nulles\n",
    "null_count = product_df['pharm_classes'].isna().sum()\n",
    "\n",
    "# Obtenir les valeurs les plus fréquentes de PHARM_CLASSES\n",
    "pharm_classes_counts = product_df['pharm_classes'].value_counts()\n",
    "\n",
    "# Imprimer les résultats\n",
    "print(\"Nombre total de valeurs uniques de PHARM_CLASSES :\", unique_pharm_classes_count)\n",
    "print(\"Nombre de valeurs non nulles (remplies) :\", non_null_count)\n",
    "print(\"Nombre de valeurs nulles (manquantes) :\", null_count)\n",
    "print(\"\\nTop 10 des valeurs les plus fréquentes de PHARM_CLASSES :\")\n",
    "print(pharm_classes_counts.head(4))\n"
   ]
  },
  {
   "cell_type": "markdown",
   "id": "81f69a28",
   "metadata": {},
   "source": [
    "# Analyse de `PHARM_CLASSES`\n",
    "\n",
    "## **Nombre de valeurs uniques**\n",
    "- **Nombre total de valeurs uniques `PHARM_CLASSES` :** 1285  \n",
    "- **Nombre de valeurs non nulles (remplies) :** 42 254  \n",
    "- **Nombre de valeurs nulles (manquantes) :** 50 984  \n",
    "\n",
    "## **Top 10 des valeurs les plus courantes de `PHARM_CLASSES` :**\n",
    "\n",
    "| Rank | PHARM_CLASSES | Count |\n",
    "|------|--------------------------------------------------------------------------------------------------------------------------------|-------|\n",
    "| 1    | Corticosteroid [EPC], Corticosteroid Hormone Receptor Agonists [MoA]                                                         | 1420  |\n",
    "| 2    | Atypical Antipsychotic [EPC]                                                                                                 | 1221  |\n",
    "| 3    | Full Opioid Agonists [MoA], Opioid Agonist [EPC]                                                                             | 1129  |\n",
    "| 4    | Cyclooxygenase Inhibitors [MoA], Anti-Inflammatory Agents, Non-Steroidal [CS], Nonsteroidal Anti-inflammatory Drug [EPC]    | 1122  |\n",
    "| 5    | Adrenergic beta-Antagonists [MoA], beta-Adrenergic Blocker [EPC]                                                             |  959  |\n",
    "| 6    | HMG-CoA Reductase Inhibitor [EPC], Hydroxymethylglutaryl-CoA Reductase Inhibitors [MoA]                                     |  932  |\n",
    "| 7    | Benzodiazepine [EPC], Benzodiazepines [CS]                                                                                   |  905  |\n",
    "| 8    | Serotonin Reuptake Inhibitor [EPC], Serotonin Uptake Inhibitors [MoA]                                                       |  865  |\n",
    "| 9    | Non-Standardized Pollen Allergenic Extract [EPC], Increased Histamine Release [PE], Cell-mediated Immunity [PE], Increased IgG Production [PE], Pollen [CS], Allergens [CS] |  739  |\n",
    "| 10   | Angiotensin 2 Receptor Antagonists [MoA], Angiotensin 2 Receptor Blocker [EPC]                                              |  616  |\n"
   ]
  },
  {
   "cell_type": "code",
   "execution_count": 40,
   "id": "134fc977",
   "metadata": {},
   "outputs": [
    {
     "name": "stdout",
     "output_type": "stream",
     "text": [
      "Total unique DEASCHEDULE values: 4\n",
      "Non-null (filled) values count: 4420\n",
      "Null (missing) values count: 87258\n",
      "\n",
      "Top DEASCHEDULE Values:\n",
      "CII     1802\n",
      "CIV     1747\n",
      "CIII     478\n",
      "CV       393\n",
      "Name: deaschedule, dtype: int64\n"
     ]
    }
   ],
   "source": [
    "# Count unique values in DEASCHEDULE\n",
    "unique_schedule_values = product_df['deaschedule'].dropna().unique()\n",
    "unique_schedule_values_count = len(unique_schedule_values)\n",
    "\n",
    "# Count non-null values\n",
    "non_null_count = product_df['deaschedule'].notna().sum()\n",
    "\n",
    "# Count null values\n",
    "null_count = product_df['deaschedule'].isna().sum()\n",
    "\n",
    "# Get the most common DEASCHEDULE values\n",
    "schedule_counts = product_df['deaschedule'].value_counts()\n",
    "\n",
    "# Print the results\n",
    "print(\"Total unique DEASCHEDULE values:\", unique_schedule_values_count)\n",
    "print(\"Non-null (filled) values count:\", non_null_count)\n",
    "print(\"Null (missing) values count:\", null_count)\n",
    "print(\"\\nTop DEASCHEDULE Values:\")\n",
    "print(schedule_counts)"
   ]
  },
  {
   "cell_type": "markdown",
   "id": "8aca231f",
   "metadata": {},
   "source": [
    "### **Analyse de `DEASCHEDULE`**\n",
    "\n",
    "- **Total des valeurs uniques :** **4**\n",
    "- **Valeurs non-nulles (remplies) :** **4 423**\n",
    "- **Valeurs nulles (manquantes) :** **88 815** (la majorité des entrées n'ont pas de programme DEA assigné)\n",
    "\n",
    "#### **Valeurs les plus courantes de `DEASCHEDULE`**\n",
    "| Rang | DEASCHEDULE | Description                                      | Compte |\n",
    "|------|-------------|--------------------------------------------------|--------|\n",
    "| 1    | **CII**     | Schedule II des substances contrôlées (forte régulation) | 1 802  |\n",
    "| 2    | **CIV**     | Schedule IV des substances contrôlées (régulation moyenne) | 1 749  |\n",
    "| 3    | **CIII**    | Schedule III des substances contrôlées (régulation modérée) | 479    |\n",
    "| 4    | **CV**      | Schedule V des substances contrôlées (faible régulation) | 393    |\n",
    "\n",
    "### **Observations :**\n",
    "- La colonne contient les **programmes DEA des substances contrôlées**, allant de **CII (forte régulation)** à **CV (régulation plus faible)**.\n",
    "- **La plupart des entrées (88 815)** n'ont pas de programme DEA, ce qui signifie qu'elles ne sont **pas classées comme substances contrôlées**.\n",
    "- **CII et CIV sont les plus fréquents**, ce qui indique une concentration sur les **médicaments hautement régulés**.\n"
   ]
  },
  {
   "cell_type": "code",
   "execution_count": null,
   "id": "b8fbec77",
   "metadata": {},
   "outputs": [],
   "source": []
  },
  {
   "cell_type": "markdown",
   "id": "ce29b986",
   "metadata": {},
   "source": [
    "# 3)"
   ]
  },
  {
   "cell_type": "markdown",
   "id": "dd50a4a3",
   "metadata": {},
   "source": [
    "**Règles identifiées précédemment :**\n",
    "\n",
    "1- productndc doit être inclus dans ndcpackagecode :\n",
    "    \n",
    "  - productndc est une sous-chaîne de ndcpackagecode.\n",
    "\n",
    "  - Par exemple, si productndc = \"0002-0800\", alors ndcpackagecode doit être de la forme \"0002-0800-XX\".\n",
    "\n",
    "2- productid doit commencer par productndc :\n",
    " \n",
    " - productid est une concaténation de productndc et d'un identifiant supplémentaire.\n",
    "\n",
    "- Par exemple, si productndc = \"0002-0800\", alors productid doit être de la forme \"0002-0800-XXXXX\".\n",
    "\n",
    "3- Structure des segments :\n",
    "\n",
    " - productndc doit avoir 2 segments (labeler_code-product_code).\n",
    "\n",
    " - ndcpackagecode doit avoir 3 segments (labeler_code-product_code-package_code).\n",
    "\n",
    "4- Valeurs manquantes :\n",
    "\n",
    "- Les colonnes productndc, ndcpackagecode, et productid ne doivent pas contenir de valeurs manquantes (NaN)."
   ]
  },
  {
   "cell_type": "code",
   "execution_count": 41,
   "id": "20b5a0cf",
   "metadata": {},
   "outputs": [
    {
     "name": "stdout",
     "output_type": "stream",
     "text": [
      "Lignes où productndc n'est pas inclus dans ndcpackagecode :\n",
      "      productndc ndcpackagecode\n",
      "228      05-juin   0006-0005-13\n",
      "229      05-juin   0006-0005-30\n",
      "230      19-juin   0006-0019-54\n",
      "492      03-sept   0009-0003-02\n",
      "493      05-sept   0009-0005-01\n",
      "...          ...            ...\n",
      "41959  37808-055            nan\n",
      "41960  37808-056            nan\n",
      "41961  37808-057            nan\n",
      "41962  37808-058            nan\n",
      "41963  37808-060            nan\n",
      "\n",
      "[4520 rows x 2 columns]\n"
     ]
    }
   ],
   "source": [
    "# Détecter les incohérences après avoir converti en chaîne de caractères\n",
    "package_df['is_productndc_in_ndcpackagecode'] = package_df.apply(\n",
    "    lambda row: str(row['productndc']) in str(row['ndcpackagecode']), axis=1\n",
    ")\n",
    "\n",
    "# Afficher les lignes problématiques\n",
    "incoherences_productndc_ndcpackagecode = package_df[~package_df['is_productndc_in_ndcpackagecode']]\n",
    "print(\"Lignes où productndc n'est pas inclus dans ndcpackagecode :\")\n",
    "print(incoherences_productndc_ndcpackagecode[['productndc', 'ndcpackagecode']])\n"
   ]
  },
  {
   "cell_type": "markdown",
   "id": "6de2350b",
   "metadata": {},
   "source": [
    "On a constaté plusieurs problèmes dans les données :\n",
    "\n",
    "- Valeurs invalides : Certains productndc sont des dates (05-juin, 19-juin…), ce qui est incorrect.\n",
    "- Valeurs manquantes (NaN) dans ndcpackagecode, empêchant la comparaison.\n",
    "- Problème de format : productndc doit avoir un format XXXX-XXXX, alors que ndcpackagecode a un format XXXX-XXXX-XX"
   ]
  },
  {
   "cell_type": "code",
   "execution_count": 42,
   "id": "777a97ab",
   "metadata": {},
   "outputs": [
    {
     "name": "stdout",
     "output_type": "stream",
     "text": [
      "Incohérences restantes après correction :\n",
      "      productndc ndcpackagecode\n",
      "6913   0220-2997   0220-1997-41\n",
      "26357        NaN   13107-001-01\n",
      "26358        NaN   13107-001-05\n",
      "26359        NaN   13107-001-30\n",
      "26360        NaN   13107-001-60\n",
      "...          ...            ...\n",
      "41959  37808-055            nan\n",
      "41960  37808-056            nan\n",
      "41961  37808-057            nan\n",
      "41962  37808-058            nan\n",
      "41963  37808-060            nan\n",
      "\n",
      "[4501 rows x 2 columns]\n"
     ]
    }
   ],
   "source": [
    "# a) Supprimer ou corriger les valeurs invalides dans productndc\n",
    "# Filtrer les valeurs qui contiennent des mois (ex: \"juin\", \"sept\", etc.)\n",
    "invalid_ndc_rows = package_df[package_df['productndc'].str.contains(r'(janv|févr|mars|avr|mai|juin|juil|août|sept|oct|nov|déc)', na=False, case=False, regex=True)]\n",
    "package_df = package_df.drop(invalid_ndc_rows.index)\n",
    "\n",
    "# b) Gérer les valeurs NaN dans ndcpackagecode\n",
    "package_df['ndcpackagecode'] = package_df['ndcpackagecode'].replace('', np.nan)  # Convertir les valeurs vides en NaN\n",
    "\n",
    "# c) Vérifier et reformater productndc pour respecter le format standard\n",
    "# Convertir toutes les valeurs en str et gérer les NaN\n",
    "package_df['productndc'] = package_df['productndc'].astype(str).replace('nan', np.nan)\n",
    "\n",
    "# Appliquer la reformatation uniquement sur les valeurs non NaN\n",
    "package_df['productndc'] = package_df['productndc'].apply(lambda x: f\"{x[:4]}-{x[4:]}\" if pd.notna(x) and '-' not in x and len(x) > 4 else x)\n",
    "\n",
    "# d) Corriger les incohérences en mettant à jour ndcpackagecode\n",
    "package_df['ndcpackagecode'] = package_df.apply(\n",
    "    lambda row: row['productndc'] + '-XX' if pd.isna(row['ndcpackagecode']) else row['ndcpackagecode'],\n",
    "    axis=1\n",
    ")\n",
    "\n",
    "# Vérifier si la correction a fonctionné\n",
    "package_df['is_productndc_in_ndcpackagecode'] = package_df.apply(\n",
    "    lambda row: row['productndc'] in row['ndcpackagecode'] if pd.notna(row['productndc']) and pd.notna(row['ndcpackagecode']) else False,\n",
    "    axis=1\n",
    ")\n",
    "\n",
    "# Afficher les incohérences restantes après correction\n",
    "remaining_issues = package_df[~package_df['is_productndc_in_ndcpackagecode']]\n",
    "print(\"Incohérences restantes après correction :\")\n",
    "print(remaining_issues[['productndc', 'ndcpackagecode']])"
   ]
  },
  {
   "cell_type": "code",
   "execution_count": null,
   "id": "968df654",
   "metadata": {},
   "outputs": [],
   "source": []
  },
  {
   "cell_type": "code",
   "execution_count": null,
   "id": "aa3ce015",
   "metadata": {},
   "outputs": [],
   "source": []
  },
  {
   "cell_type": "code",
   "execution_count": null,
   "id": "adc6af47",
   "metadata": {},
   "outputs": [],
   "source": []
  },
  {
   "cell_type": "code",
   "execution_count": null,
   "id": "4d3b3148",
   "metadata": {},
   "outputs": [],
   "source": []
  },
  {
   "cell_type": "code",
   "execution_count": null,
   "id": "a00a776a",
   "metadata": {},
   "outputs": [],
   "source": []
  },
  {
   "cell_type": "markdown",
   "id": "63daf703",
   "metadata": {},
   "source": [
    "### Explication du code  :\n",
    "- **Étape 1 : Supprimer les valeurs invalides :**  Certains productndc contiennent des mois en texte (05-juin, 19-juin), ce qui n’a rien à voir avec un code NDC. On les supprime\n",
    "- **Étape 2 : Convertir les valeurs vides en NaN** \n",
    "-  **Étape 3 : Corriger le format de productndc**\n",
    "   - On enlève les espaces inutiles (\\s+ = tout espace ou tabulation)\n",
    "   - On s’assure que productndc a bien un tiret (-) au bon endroit.\n",
    "- **Étape 4 : Mettre à jour ndcpackagecode si nécessaire** : Si ndcpackagecode est \"nan\" (chaîne de caractères), alors il est remplacé par productndc + '-XX'\n",
    "- **Étape 5 : Vérifier que productndc est bien inclus dans ndcpackagecode** : On vérifie si productndc est bien contenu dans ndcpackagecode après correction.\n",
    "\n",
    "- **Étape 6 : Afficher les incohérences restantes** : Si certaines incohérences persistent après correction, on les affiche.\n",
    "\n",
    "\n",
    "\n",
    "\n"
   ]
  },
  {
   "cell_type": "code",
   "execution_count": 43,
   "id": "8f7e98b0",
   "metadata": {},
   "outputs": [
    {
     "name": "stdout",
     "output_type": "stream",
     "text": [
      "Lignes où productid ne commence pas par productndc :\n",
      "                                            productid           productndc\n",
      "159    0006-0005_0c7a3452-ecb2-4f66-ad52-94f8eaf8cde8              05-juin\n",
      "160    0006-0019_54e9c31a-9429-4842-b2d6-0cc1e5ad613c              19-juin\n",
      "310    0009-0003_67759a7c-ea06-4151-87e1-a301c44d67cd              03-sept\n",
      "311    0009-0005_c9aa26c1-05c3-479c-90eb-63b2181c5e7e              05-sept\n",
      "312    0009-0011_c9aa26c1-05c3-479c-90eb-63b2181c5e7e              11-sept\n",
      "...                                               ...                  ...\n",
      "44665  54111-121_6e1d8cfd-2d32-41f8-a9db-73501fadc90c  OTC MONOGRAPH FINAL\n",
      "44666  54111-122_f49399e7-0fe0-4db1-baf1-47a7241066bb  OTC MONOGRAPH FINAL\n",
      "44667  54111-123_fa350899-cc60-4e64-823e-26da675a2c48  OTC MONOGRAPH FINAL\n",
      "44668  54111-124_8db3c638-f397-4650-b774-a88391a0e086  OTC MONOGRAPH FINAL\n",
      "44669  54111-125_20b64d45-21c2-464c-a951-7a7917c5ea7c  OTC MONOGRAPH FINAL\n",
      "\n",
      "[513 rows x 2 columns]\n"
     ]
    }
   ],
   "source": [
    "# Convertir les colonnes en str et remplacer les NaN par une chaîne vide\n",
    "product_df['productid'] = product_df['productid'].astype(str).replace('nan', '')\n",
    "product_df['productndc'] = product_df['productndc'].astype(str).replace('nan', '')\n",
    "\n",
    "# Détecter les incohérences\n",
    "product_df['is_productid_startswith_productndc'] = product_df.apply(\n",
    "    lambda row: row['productid'].startswith(row['productndc']) if row['productndc'] else False,\n",
    "    axis=1\n",
    ")\n",
    "\n",
    "# Afficher les lignes problématiques\n",
    "incoherences_productid_productndc = product_df[~product_df['is_productid_startswith_productndc']]\n",
    "print(\"Lignes où productid ne commence pas par productndc :\")\n",
    "print(incoherences_productid_productndc[['productid', 'productndc']])"
   ]
  },
  {
   "cell_type": "code",
   "execution_count": null,
   "id": "06572a3b",
   "metadata": {},
   "outputs": [],
   "source": []
  },
  {
   "cell_type": "markdown",
   "id": "8aac9186",
   "metadata": {},
   "source": [
    "Ce code permet de détecter les incohérences entre les colonnes productid et productndc en vérifiant si productid commence bien par productndc."
   ]
  },
  {
   "cell_type": "code",
   "execution_count": 44,
   "id": "b9663de8",
   "metadata": {},
   "outputs": [
    {
     "name": "stdout",
     "output_type": "stream",
     "text": [
      "Lignes où productid ne commence pas par productndc après correction :\n",
      "                                             productid  \\\n",
      "44170  53603-1049_464b7a83-0be4-6d33-e054-00144ff88e88   \n",
      "44171   53622-001_5bc4566c-cf41-4690-ba5b-32e49cec5c7d   \n",
      "44172   53633-100_c2c9702b-1ecf-49bc-b9a5-bdc02ce9c05d   \n",
      "44177  53645-1001_9a4f6c98-6134-7d40-e053-2a95a90a3751   \n",
      "44178  53645-1002_9c8a0a78-8464-52b5-e053-2a95a90acde9   \n",
      "...                                                ...   \n",
      "44646   54092-606_c7ed6e98-2199-48e4-b65c-1a64ef018435   \n",
      "44647   54092-700_7869d108-5d33-49ee-947b-e8b3b9b9c7dc   \n",
      "44648   54092-701_626e9064-be86-4ad3-a9b6-3c202755e8aa   \n",
      "44649   54092-702_4705f4b6-0696-481e-bf5f-fb6decf2a5a5   \n",
      "44650   54102-000_968931a2-72b5-b12b-e053-2995a90a338e   \n",
      "\n",
      "                    productndc  \n",
      "44170  OTC MONOGRAPH NOT FINAL  \n",
      "44171                      NDA  \n",
      "44172  OTC MONOGRAPH NOT FINAL  \n",
      "44177   UNAPPROVED HOMEOPATHIC  \n",
      "44178   UNAPPROVED HOMEOPATHIC  \n",
      "...                        ...  \n",
      "44646                      NDA  \n",
      "44647                      BLA  \n",
      "44648                      NDA  \n",
      "44649                      NDA  \n",
      "44650  OTC MONOGRAPH NOT FINAL  \n",
      "\n",
      "[389 rows x 2 columns]\n"
     ]
    }
   ],
   "source": [
    "# Supprimer les valeurs qui contiennent des mois ou des textes anormaux\n",
    "product_df = product_df[~product_df['productndc'].str.contains(r'(janv|févr|mars|avr|mai|juin|juil|août|sept|oct|nov|déc|OTC MONOGRAPH FINAL)', na=False, case=False)]\n",
    "# product_df['productndc'] = product_df['productndc'].str.replace(r'\\s+', '', regex=True)  # Supprimer les espaces\n",
    "# Vérifier si productid commence bien par productndc\n",
    "product_df['is_productid_startswith_productndc'] = product_df.apply(\n",
    "    lambda row: row['productid'].startswith(row['productndc']), axis=1\n",
    ")\n",
    "\n",
    "# Afficher les incohérences restantes\n",
    "incoherences_productid_productndc = product_df[~product_df['is_productid_startswith_productndc']]\n",
    "print(\"Lignes où productid ne commence pas par productndc après correction :\")\n",
    "print(incoherences_productid_productndc[['productid', 'productndc']])\n"
   ]
  },
  {
   "cell_type": "code",
   "execution_count": null,
   "id": "eed8f067",
   "metadata": {},
   "outputs": [],
   "source": []
  },
  {
   "cell_type": "markdown",
   "id": "4eda5800",
   "metadata": {},
   "source": [
    "#### Explication du code \n",
    "- 1️⃣Supprimer les valeurs incorrectes (\"05-juin\", \"OTC MONOGRAPH FINAL\", etc.).\n",
    "- 2️⃣ Reformater productndc pour assurer un bon format.\n",
    "- 3️⃣ Relancer la vérification des incohérences."
   ]
  },
  {
   "cell_type": "code",
   "execution_count": 45,
   "id": "cf2ce0ce",
   "metadata": {},
   "outputs": [
    {
     "name": "stdout",
     "output_type": "stream",
     "text": [
      "Lignes avec des segments incorrects :\n",
      "      productndc ndcpackagecode  productndc_segment_count  \\\n",
      "26357              13107-001-01                         0   \n",
      "26358              13107-001-05                         0   \n",
      "26359              13107-001-30                         0   \n",
      "26360              13107-001-60                         0   \n",
      "26361              13107-001-90                         0   \n",
      "...          ...            ...                       ...   \n",
      "41959  37808-055                                        2   \n",
      "41960  37808-056                                        2   \n",
      "41961  37808-057                                        2   \n",
      "41962  37808-058                                        2   \n",
      "41963  37808-060                                        2   \n",
      "\n",
      "       ndcpackagecode_segment_count  \n",
      "26357                             3  \n",
      "26358                             3  \n",
      "26359                             3  \n",
      "26360                             3  \n",
      "26361                             3  \n",
      "...                             ...  \n",
      "41959                             0  \n",
      "41960                             0  \n",
      "41961                             0  \n",
      "41962                             0  \n",
      "41963                             0  \n",
      "\n",
      "[4000 rows x 4 columns]\n"
     ]
    }
   ],
   "source": [
    "# Convertir les colonnes en str et remplacer les NaN par une chaîne vide\n",
    "package_df['productndc'] = package_df['productndc'].astype(str).replace('nan', '')\n",
    "package_df['ndcpackagecode'] = package_df['ndcpackagecode'].astype(str).replace('nan', '')\n",
    "\n",
    "# Détecter les incohérences\n",
    "package_df['productndc_segment_count'] = package_df['productndc'].str.split('-').apply(lambda x: len(x) if x != [''] else 0)\n",
    "package_df['ndcpackagecode_segment_count'] = package_df['ndcpackagecode'].str.split('-').apply(lambda x: len(x) if x != [''] else 0)\n",
    "\n",
    "incoherences_segments = package_df[\n",
    "    (package_df['productndc_segment_count'] != 2) | \n",
    "    (package_df['ndcpackagecode_segment_count'] != 3)\n",
    "]\n",
    "print(\"Lignes avec des segments incorrects :\")\n",
    "print(incoherences_segments[['productndc', 'ndcpackagecode', 'productndc_segment_count', 'ndcpackagecode_segment_count']])\n",
    "# On va les corriger dans la question 4 "
   ]
  },
  {
   "cell_type": "markdown",
   "id": "88cc122c",
   "metadata": {},
   "source": [
    "📌 Résumé des corrections :\n",
    "\n",
    "\n",
    "1️⃣ Identifier et filtrer les valeurs de productndc et ndcpackagecode ayant un nombre incorrect de segments.\n",
    "\n",
    "2️⃣ Vérifier le format en comptant les segments (productndc doit avoir 2 segments et ndcpackagecode doit en avoir 3).\n",
    "\n",
    "3️⃣ Corriger ou exclure les lignes ayant des formats incorrects avant toute utilisation.\n",
    "****"
   ]
  },
  {
   "cell_type": "code",
   "execution_count": 46,
   "id": "10a32e3b",
   "metadata": {},
   "outputs": [
    {
     "name": "stdout",
     "output_type": "stream",
     "text": [
      "Lignes avec des segments incorrects :\n",
      "      productndc ndcpackagecode  productndc_segment_count  \\\n",
      "26357              13107-001-01                         1   \n",
      "26358              13107-001-05                         1   \n",
      "26359              13107-001-30                         1   \n",
      "26360              13107-001-60                         1   \n",
      "26361              13107-001-90                         1   \n",
      "...          ...            ...                       ...   \n",
      "41959  37808-055                                        2   \n",
      "41960  37808-056                                        2   \n",
      "41961  37808-057                                        2   \n",
      "41962  37808-058                                        2   \n",
      "41963  37808-060                                        2   \n",
      "\n",
      "       ndcpackagecode_segment_count  \n",
      "26357                             3  \n",
      "26358                             3  \n",
      "26359                             3  \n",
      "26360                             3  \n",
      "26361                             3  \n",
      "...                             ...  \n",
      "41959                             1  \n",
      "41960                             1  \n",
      "41961                             1  \n",
      "41962                             1  \n",
      "41963                             1  \n",
      "\n",
      "[4000 rows x 4 columns]\n"
     ]
    }
   ],
   "source": [
    "# Détecter les incohérences\n",
    "package_df['productndc_segment_count'] = package_df['productndc'].str.split('-').apply(len)\n",
    "package_df['ndcpackagecode_segment_count'] = package_df['ndcpackagecode'].str.split('-').apply(len)\n",
    "\n",
    "incoherences_segments = package_df[\n",
    "    (package_df['productndc_segment_count'] != 2) | \n",
    "    (package_df['ndcpackagecode_segment_count'] != 3)\n",
    "]\n",
    "print(\"Lignes avec des segments incorrects :\")\n",
    "print(incoherences_segments[['productndc', 'ndcpackagecode', 'productndc_segment_count', 'ndcpackagecode_segment_count']])"
   ]
  },
  {
   "cell_type": "code",
   "execution_count": null,
   "id": "dc873540",
   "metadata": {},
   "outputs": [],
   "source": []
  },
  {
   "cell_type": "code",
   "execution_count": null,
   "id": "0cfd0df2",
   "metadata": {},
   "outputs": [],
   "source": []
  },
  {
   "cell_type": "markdown",
   "id": "1e1be1a1",
   "metadata": {},
   "source": [
    "#### Explication du code \n",
    "Ce code détecte les incohérences dans le format des colonnes productndc et ndcpackagecode en vérifiant le nombre de segments séparés par un tiret (-).\n",
    "\n",
    "🔍 Détails du processus :\n",
    "\n",
    "1️⃣ Compter le nombre de segments dans productndc (doit être 2).\n",
    "\n",
    "2️⃣ Compter le nombre de segments dans ndcpackagecode (doit être 3).\n",
    "\n",
    "3️⃣ Filtrer les lignes où ces conditions ne sont pas respectées.\n",
    "\n",
    "4️⃣ Afficher les lignes concernées pour correction. ✅\n",
    "****"
   ]
  },
  {
   "cell_type": "code",
   "execution_count": 47,
   "id": "9275464c",
   "metadata": {},
   "outputs": [
    {
     "data": {
      "image/png": "[encoded data removed]",
      "text/plain": [
       "<Figure size 1000x600 with 1 Axes>"
      ]
     },
     "metadata": {},
     "output_type": "display_data"
    }
   ],
   "source": [
    "# Get the top 10 most frequent units\n",
    "top_10_units = product_df['active_ingred_unit'].value_counts().nlargest(10)\n",
    "\n",
    "# Plotting\n",
    "plt.figure(figsize=(10, 6))\n",
    "sns.barplot(x=top_10_units.index, y=top_10_units.values, palette='viridis')\n",
    "\n",
    "# Add labels and title\n",
    "plt.xlabel('Active Ingredient Units')\n",
    "plt.ylabel('Frequency (log scale)')\n",
    "plt.title('Top 10 Most Frequent Active Ingredient Units')\n",
    "plt.yscale('log')  # Use log scale for better visualization if the distribution is skewed\n",
    "\n",
    "# Rotate x-axis labels for better readability\n",
    "plt.xticks(rotation=45, ha='right')\n",
    "\n",
    "# Show plot\n",
    "plt.tight_layout()\n",
    "plt.show()"
   ]
  },
  {
   "cell_type": "code",
   "execution_count": 48,
   "id": "b0907d43",
   "metadata": {},
   "outputs": [
    {
     "name": "stdout",
     "output_type": "stream",
     "text": [
      "mg              40106\n",
      "mg/mL           10869\n",
      "mg/g             4175\n",
      "g/100g           3491\n",
      "[hp_X]/mL        2969\n",
      "                ...  \n",
      "g/3.5g              1\n",
      "[arb'U]/10mL        1\n",
      "g/258g              1\n",
      "g/7.5g              1\n",
      "mg/1.92g            1\n",
      "Name: active_ingred_unit, Length: 900, dtype: int64\n"
     ]
    }
   ],
   "source": [
    "# Pour active_ingred_unit\n",
    "\n",
    "# Étape 1: Séparer les unités multiples et garder la première\n",
    "product_df['active_ingred_unit'] = product_df['active_ingred_unit'].str.split(';').str[0]\n",
    "\n",
    "# Étape 2: Supprimer les espaces superflus avant et après les valeurs\n",
    "product_df['active_ingred_unit'] = product_df['active_ingred_unit'].str.strip()\n",
    "\n",
    "# Étape 3: Uniformiser les unités (corrigé)\n",
    "# Remplacez uniquement les valeurs qui sont réellement équivalentes ou standardisées\n",
    "product_df['active_ingred_unit'] = product_df['active_ingred_unit'].replace({\n",
    "    'mg/1': 'mg',  # Si 'mg/1' signifie simplement 'mg'\n",
    "    'mg/ml': 'mg/mL',  \n",
    "    'g/ml': 'g/mL',\n",
    "    'mg/l': 'mg/L',\n",
    "    'g/l': 'g/L',\n",
    "    'mg/unit': 'mg',  \n",
    "    'mg/tablet': 'mg',  \n",
    "    'mg/capsule': 'mg',  \n",
    "    'mg / ml': 'mg/mL',  \n",
    "    'mg/ mL': 'mg/mL',\n",
    "    'mg/1ml': 'mg/mL',\n",
    "    'mg/1; mg/1': 'mg/mL',\n",
    "    r'\\[hp_.\\]/mL': 'Unknown', \n",
    "    r'g/\\.?\\d+mL': 'g/mL',\n",
    "    r'g/\\.?\\d+mL': 'g/mL',\n",
    "    r'g/\\.?\\d+mL': 'g/mL'\n",
    "})\n",
    "\n",
    "\n",
    "# Étape 6: Remplir les valeurs manquantes (NaN) avec une valeur par défaut\n",
    "product_df['active_ingred_unit'] = product_df['active_ingred_unit'].fillna('Unknown')\n",
    "\n",
    "# Vérifier les résultats\n",
    "print(product_df['active_ingred_unit'].value_counts())"
   ]
  },
  {
   "cell_type": "code",
   "execution_count": null,
   "id": "d40d49f2",
   "metadata": {},
   "outputs": [],
   "source": []
  },
  {
   "cell_type": "code",
   "execution_count": null,
   "id": "176a497a",
   "metadata": {},
   "outputs": [],
   "source": []
  },
  {
   "cell_type": "code",
   "execution_count": null,
   "id": "777dd8a3",
   "metadata": {},
   "outputs": [],
   "source": []
  },
  {
   "cell_type": "markdown",
   "id": "1ddbffb4",
   "metadata": {},
   "source": [
    "## 4)"
   ]
  },
  {
   "cell_type": "code",
   "execution_count": 49,
   "id": "4369ef28",
   "metadata": {},
   "outputs": [
    {
     "name": "stdout",
     "output_type": "stream",
     "text": [
      "Pourcentage des valeurs manquantes dans package_df :\n",
      "productid                           0.000000\n",
      "productndc                          0.000000\n",
      "ndcpackagecode                      0.000000\n",
      "packagedescription                  0.000000\n",
      "startmarketingdate                  0.000000\n",
      "endmarketingdate                   96.286838\n",
      "ndc_exclude_flag                    0.000000\n",
      "sample_package                      0.000000\n",
      "is_productndc_in_ndcpackagecode     0.000000\n",
      "productndc_segments                 0.000000\n",
      "ndcpackagecode_segments             0.000000\n",
      "productndc_segment_count            0.000000\n",
      "ndcpackagecode_segment_count        0.000000\n",
      "dtype: float64\n",
      "-------------------------\n",
      "Pourcentage des valeurs manquantes dans product_df :\n",
      "productid                               0.000000\n",
      "productndc                              0.000000\n",
      "producttypename                         0.000000\n",
      "proprietaryname                         0.006554\n",
      "proprietarynamesuffix                  88.968259\n",
      "nonproprietaryname                      0.004369\n",
      "dosageformname                          0.000000\n",
      "routename                               2.094939\n",
      "startmarketingdate                      0.000000\n",
      "endmarketingdate                      100.000000\n",
      "marketingcategoryname                   0.000000\n",
      "applicationnumber                      14.305219\n",
      "labelername                             0.000000\n",
      "substancename                           2.505625\n",
      "active_numerator_strength               2.505625\n",
      "active_ingred_unit                      0.000000\n",
      "pharm_classes                          55.435044\n",
      "deaschedule                            95.175525\n",
      "ndc_exclude_flag                        0.000000\n",
      "listing_record_certified_through        4.716342\n",
      "is_productid_startswith_productndc      0.000000\n",
      "productndc_segments                     0.000000\n",
      "dtype: float64\n"
     ]
    }
   ],
   "source": [
    "# Pourcentage des valeurs manquantes dans package_df\n",
    "print(\"Pourcentage des valeurs manquantes dans package_df :\")\n",
    "print(package_df.isna().mean() * 100)\n",
    "print('-------------------------')\n",
    "\n",
    "# Pourcentage des valeurs manquantes dans product_df\n",
    "print(\"Pourcentage des valeurs manquantes dans product_df :\")\n",
    "print(product_df.isna().mean() * 100)\n"
   ]
  },
  {
   "cell_type": "markdown",
   "id": "8aebf945",
   "metadata": {},
   "source": [
    "On remarque que le pourcentages des valeurs nulles pour deaschedule, endmarketingdate, proprietarynamesuffix est supérieure à 85% donc on doit éliminer ses variables.                                  "
   ]
  },
  {
   "cell_type": "code",
   "execution_count": 50,
   "id": "54825a27",
   "metadata": {},
   "outputs": [],
   "source": [
    "# Remplir les valeurs manquantes de 'productndc' en extrayant la partie correspondante de 'ndcpackagecode'\n",
    "package_df['productndc'] = package_df.apply(\n",
    "    lambda row: row['ndcpackagecode'].rsplit('-', 1)[0] if pd.isna(row['productndc']) else row['productndc'],\n",
    "    axis=1\n",
    ")"
   ]
  },
  {
   "cell_type": "code",
   "execution_count": 51,
   "id": "f320c582",
   "metadata": {},
   "outputs": [],
   "source": [
    "#Compléter par une valeur déduite à partir de productndc\n",
    "product_df['productid'] = product_df.apply(\n",
    "    lambda row: f\"{row['productndc']}-UNIQUE_ID\" if pd.isna(row['productid']) else row['productid'],\n",
    "    axis=1\n",
    ")"
   ]
  },
  {
   "cell_type": "code",
   "execution_count": 52,
   "id": "83924ac4",
   "metadata": {},
   "outputs": [],
   "source": [
    "# Remplacer par une valeur par défaut (par exemple, \"INCONNU\") (0.006 % de valeurs manquantes) \n",
    "product_df['proprietaryname'].fillna(\"INCONNU\", inplace=True)"
   ]
  },
  {
   "cell_type": "code",
   "execution_count": 53,
   "id": "c6bc7c20",
   "metadata": {},
   "outputs": [],
   "source": [
    "# Supprimer la colonne, car le pourcentage de valeurs manquantes est trop élevé.\n",
    "product_df.drop(columns=['proprietarynamesuffix'], inplace=True)"
   ]
  },
  {
   "cell_type": "code",
   "execution_count": 54,
   "id": "f459a539",
   "metadata": {},
   "outputs": [],
   "source": [
    "#(0.004 % de valeurs manquantes)\n",
    "product_df['nonproprietaryname'].fillna(\"INCONNU\", inplace=True)"
   ]
  },
  {
   "cell_type": "code",
   "execution_count": 55,
   "id": "dc2f75b9",
   "metadata": {},
   "outputs": [],
   "source": [
    "# routename (2.07 % de valeurs manquantes) : Remplacer par le mode (la valeur la plus fréquente).\n",
    "imputer = SimpleImputer(strategy='most_frequent')\n",
    "product_df['routename'] = imputer.fit_transform(product_df[['routename']])\n"
   ]
  },
  {
   "cell_type": "code",
   "execution_count": 56,
   "id": "cc372800",
   "metadata": {},
   "outputs": [],
   "source": [
    "# Trouver la valeur la plus fréquente dans la colonne 'applicationnumber'\n",
    "most_used_value = product_df['applicationnumber'].mode()[0]\n",
    "\n",
    "# Remplir les valeurs vides avec la valeur la plus utilisée\n",
    "product_df['applicationnumber'] = product_df['applicationnumber'].fillna(most_used_value)\n"
   ]
  },
  {
   "cell_type": "code",
   "execution_count": 59,
   "id": "05351d3a",
   "metadata": {},
   "outputs": [],
   "source": [
    "# Remplir `substancename` en groupant par `productndc`\n",
    "#Explication : Un productndc (National Drug Code) représente un même médicament sous différentes présentations.\n",
    "product_df['substancename'] = product_df.groupby('productndc')['substancename'].transform(lambda x: x.ffill().bfill())\n"
   ]
  },
  {
   "cell_type": "code",
   "execution_count": 60,
   "id": "e2a8ce02",
   "metadata": {},
   "outputs": [],
   "source": [
    "# La la plupart des produits dans chaque groupe productndc ont un certain ingrédient, \n",
    "# on varemplir les null en prenant la valeur la plus fréquente dans chaque groupe.\n",
    "product_df['substancename'] = product_df.groupby('productndc')['substancename'].transform(lambda x: x.fillna(x.mode()[0] if not x.mode().empty else 'Non spécifié'))\n"
   ]
  },
  {
   "cell_type": "code",
   "execution_count": 61,
   "id": "b501596d",
   "metadata": {},
   "outputs": [],
   "source": [
    "# Convertir en float\n",
    "product_df['active_numerator_strength'] = pd.to_numeric(\n",
    "    product_df['active_numerator_strength'].str.replace(';', '.', regex=False), \n",
    "    errors='coerce'\n",
    ")\n",
    "\n",
    "# Remplacer par la médiane\n",
    "product_df['active_numerator_strength'] = product_df.groupby('substancename')['active_numerator_strength'].transform(lambda x: x.fillna(x.median()))\n"
   ]
  },
  {
   "cell_type": "code",
   "execution_count": 62,
   "id": "eb4c01e9",
   "metadata": {},
   "outputs": [],
   "source": [
    "#Compete other empty with median\n",
    "product_df['active_numerator_strength'].fillna(product_df['active_numerator_strength'].median(), inplace=True)\n"
   ]
  },
  {
   "cell_type": "code",
   "execution_count": null,
   "id": "307c30ff",
   "metadata": {},
   "outputs": [],
   "source": []
  },
  {
   "cell_type": "code",
   "execution_count": 64,
   "id": "3985a619",
   "metadata": {},
   "outputs": [],
   "source": [
    "# #Supprimer la colonne, car le pourcentage de valeurs manquantes est trop élevé.\n",
    "product_df.drop(columns=['deaschedule'], inplace=True)"
   ]
  },
  {
   "cell_type": "code",
   "execution_count": 65,
   "id": "f1f59529",
   "metadata": {},
   "outputs": [],
   "source": [
    "# Encodage de 'routename' pour utiliser IterativeImputer\n",
    "label_encoder = LabelEncoder()\n",
    "product_df[\"routename_encoded\"] = label_encoder.fit_transform(product_df[\"routename\"].astype(str))\n",
    "\n",
    "# Imputation avancée avec un modèle de régression\n",
    "iter_imputer = IterativeImputer(random_state=42)\n",
    "product_df[[\"routename_encoded\"]] = iter_imputer.fit_transform(product_df[[\"routename_encoded\"]])\n",
    "\n",
    "# Décodage après imputation\n",
    "product_df[\"routename\"] = label_encoder.inverse_transform(product_df[\"routename_encoded\"].round().astype(int))\n",
    "\n",
    "# Suppression de la colonne encodée\n",
    "product_df.drop(columns=[\"routename_encoded\"], inplace=True)"
   ]
  },
  {
   "cell_type": "code",
   "execution_count": 66,
   "id": "d65b450d",
   "metadata": {},
   "outputs": [],
   "source": [
    "# Remplir les valeurs nulles en utilisant les valeurs du même ProductNDC\n",
    "#Create a mask for rows where 'pharm_classes' is empty or contains only whitespace\n",
    "mask = product_df['pharm_classes'].str.strip() == ''\n",
    "\n",
    "# Set those entries to NaN\n",
    "product_df.loc[mask, 'pharm_classes'] = None\n",
    "#Explication : Un même productndc a généralement les mêmes classes pharmaceutiques.\n",
    "product_df['pharm_classes'] = product_df.groupby('productndc')['pharm_classes'].transform(lambda x: x.ffill().bfill())\n",
    "#Deuxième passage : remplissage de pharm_classes avec substancename\n",
    "# En cac de valeurs manquantes apres le 1er traitemnt \n",
    "#Un même principe actif (substancename) appartient souvent aux mêmes classes pharmacologiques.\n",
    "product_df['pharm_classes'] = product_df.groupby('substancename')['pharm_classes'].transform(lambda x: x.ffill().bfill())\n"
   ]
  },
  {
   "cell_type": "code",
   "execution_count": 67,
   "id": "29e946e2",
   "metadata": {},
   "outputs": [],
   "source": [
    "# SIl ya encore de nulle\n",
    "# Trouver la valeur la plus fréquente\n",
    "most_frequent_value = product_df['pharm_classes'].mode()[0]\n",
    "\n",
    "product_df['pharm_classes'].fillna(most_frequent_value, inplace=True)\n"
   ]
  },
  {
   "cell_type": "code",
   "execution_count": 71,
   "id": "159b3a53",
   "metadata": {},
   "outputs": [],
   "source": [
    "# listing_record_certified_through to date\n",
    "product_df['listing_record_certified_through'] = pd.to_datetime(product_df['listing_record_certified_through'], format='%Y%m%d')\n"
   ]
  },
  {
   "cell_type": "code",
   "execution_count": 72,
   "id": "a7643b94",
   "metadata": {},
   "outputs": [],
   "source": [
    "# Remplir listing_record_certified_through avec la valeur la plus fréquente\n",
    "most_frequent_value = product_df['listing_record_certified_through'].mode()[0]\n",
    "product_df['listing_record_certified_through'] = product_df['listing_record_certified_through'].fillna(most_frequent_value)\n"
   ]
  },
  {
   "cell_type": "code",
   "execution_count": 73,
   "id": "e9bba9c6",
   "metadata": {},
   "outputs": [],
   "source": [
    "# product_df.columns"
   ]
  },
  {
   "cell_type": "code",
   "execution_count": 74,
   "id": "f53628e1",
   "metadata": {},
   "outputs": [],
   "source": [
    "# #Preprocess pharm_classes\n",
    "# product_df['pharm_classes'] = product_df['pharm_classes'].apply(lambda x: re.findall(r'\\[([A-Za-z0-9_]+)\\]', str(x)) if pd.notnull(x) else [])\n",
    "# product_df['pharm_classes']= a.apply(lambda x: ', '.join(sorted(set(x))) if x else '')\n"
   ]
  },
  {
   "cell_type": "code",
   "execution_count": 75,
   "id": "3da256c9",
   "metadata": {},
   "outputs": [],
   "source": [
    "# Remplir applicationnumber avec le mode\n",
    "most_frequent_value = product_df['applicationnumber'].mode()[0]\n",
    "product_df['applicationnumber'] = product_df['applicationnumber'].fillna(most_frequent_value)\n"
   ]
  },
  {
   "cell_type": "code",
   "execution_count": 76,
   "id": "10dea6c8",
   "metadata": {},
   "outputs": [],
   "source": [
    "# Fonction de prétraitement de routname\n",
    "def preprocess_routename(routename):\n",
    "    if pd.isna(routename):\n",
    "        return routename\n",
    "    unique_routes = list(dict.fromkeys(route.strip() for route in routename.replace(\";\", \",\").split(\",\")))  # Supprime les doublons et nettoie les espaces\n",
    "    return \", \".join(unique_routes)\n",
    "\n",
    "# Appliquer le prétraitement\n",
    "product_df['routename'] = product_df['routename'].apply(preprocess_routename)"
   ]
  },
  {
   "cell_type": "code",
   "execution_count": 77,
   "id": "02fcba8e",
   "metadata": {},
   "outputs": [],
   "source": [
    "# Fonction de prétraitement de substancename\n",
    "def preprocess_substancename(substancename):\n",
    "    if pd.isna(substancename):\n",
    "        return substancename\n",
    "    # Remplacer les ; par , et nettoyer les espaces\n",
    "    substances = [substance.strip().lower() for substance in substancename.replace(\";\", \",\").split(\",\")]\n",
    "    # Utiliser un set pour supprimer les doublons\n",
    "    unique_substances = \", \".join(sorted(set(substances), key=substances.index))  # Garder l'ordre d'apparition\n",
    "    return unique_substances\n",
    "\n",
    "# Appliquer le prétraitement\n",
    "product_df['substancename'] = product_df['substancename'].apply(preprocess_substancename)"
   ]
  },
  {
   "cell_type": "code",
   "execution_count": 78,
   "id": "a6b0bba7",
   "metadata": {},
   "outputs": [],
   "source": [
    "product_df['proprietaryname'] = product_df['proprietaryname'].str.lower()\n"
   ]
  },
  {
   "cell_type": "code",
   "execution_count": 79,
   "id": "6873c639",
   "metadata": {},
   "outputs": [],
   "source": [
    "product_df['nonproprietaryname'] = product_df['nonproprietaryname'].str.lower()"
   ]
  },
  {
   "cell_type": "code",
   "execution_count": 80,
   "id": "fbbb3164",
   "metadata": {},
   "outputs": [
    {
     "name": "stdout",
     "output_type": "stream",
     "text": [
      "Pourcentage des valeurs manquantes dans package_df :\n",
      "productid                           0.000000\n",
      "productndc                          0.000000\n",
      "ndcpackagecode                      0.000000\n",
      "packagedescription                  0.000000\n",
      "startmarketingdate                  0.000000\n",
      "endmarketingdate                   96.286838\n",
      "ndc_exclude_flag                    0.000000\n",
      "sample_package                      0.000000\n",
      "is_productndc_in_ndcpackagecode     0.000000\n",
      "productndc_segments                 0.000000\n",
      "ndcpackagecode_segments             0.000000\n",
      "productndc_segment_count            0.000000\n",
      "ndcpackagecode_segment_count        0.000000\n",
      "dtype: float64\n",
      "-------------------------\n",
      "Pourcentage des valeurs manquantes dans product_df :\n",
      "productid                               0.0\n",
      "productndc                              0.0\n",
      "producttypename                         0.0\n",
      "proprietaryname                         0.0\n",
      "nonproprietaryname                      0.0\n",
      "dosageformname                          0.0\n",
      "routename                               0.0\n",
      "startmarketingdate                      0.0\n",
      "endmarketingdate                      100.0\n",
      "marketingcategoryname                   0.0\n",
      "applicationnumber                       0.0\n",
      "labelername                             0.0\n",
      "substancename                           0.0\n",
      "active_numerator_strength               0.0\n",
      "active_ingred_unit                      0.0\n",
      "pharm_classes                           0.0\n",
      "ndc_exclude_flag                        0.0\n",
      "listing_record_certified_through        0.0\n",
      "is_productid_startswith_productndc      0.0\n",
      "productndc_segments                     0.0\n",
      "dtype: float64\n"
     ]
    }
   ],
   "source": [
    "# Pourcentage des valeurs manquantes dans package_df\n",
    "print(\"Pourcentage des valeurs manquantes dans package_df :\")\n",
    "print(package_df.isna().mean() * 100)\n",
    "print('-------------------------')\n",
    "\n",
    "# Pourcentage des valeurs manquantes dans product_df\n",
    "print(\"Pourcentage des valeurs manquantes dans product_df :\")\n",
    "print(product_df.isna().mean() * 100)\n"
   ]
  },
  {
   "cell_type": "code",
   "execution_count": 81,
   "id": "3e40a0ba",
   "metadata": {},
   "outputs": [],
   "source": [
    "#Supprimer les colonnes quon a ajouter pour faire les tests\n",
    "product_df.drop(columns=['is_productid_startswith_productndc', 'productndc_segments'], inplace=True)\n",
    "package_df.drop(columns=['is_productndc_in_ndcpackagecode',\n",
    "       'productndc_segments', 'ndcpackagecode_segments',\n",
    "       'productndc_segment_count', 'ndcpackagecode_segment_count'], inplace=True)\n"
   ]
  },
  {
   "cell_type": "code",
   "execution_count": 82,
   "id": "47ef0ff1",
   "metadata": {},
   "outputs": [],
   "source": [
    "# #Supprimer les colonnes quon a ajouter pour faire les tests\n",
    "# # product_df.drop(columns=['is_productid_startswith_productndc'], inplace=True)\n",
    "\n",
    "# package_df.drop(columns=[\n",
    "#        'productndc_segment_count', 'ndcpackagecode_segment_count'], inplace=True)\n"
   ]
  },
  {
   "cell_type": "code",
   "execution_count": null,
   "id": "8786e158",
   "metadata": {},
   "outputs": [],
   "source": []
  },
  {
   "cell_type": "markdown",
   "id": "03a6b12a",
   "metadata": {},
   "source": [
    "## 5)"
   ]
  },
  {
   "cell_type": "code",
   "execution_count": 83,
   "id": "111d2de4",
   "metadata": {},
   "outputs": [
    {
     "name": "stdout",
     "output_type": "stream",
     "text": [
      "Lignes dupliquées dans package_df :\n",
      "productid             23155-001_9399d074-b18f-4e09-b815-9a54335c2d41...\n",
      "productndc            23155-00123155-00123155-00223155-00223155-0032...\n",
      "ndcpackagecode        2021120120211201202112012021120120211201202112...\n",
      "packagedescription    100 TABLET, FILM COATED in 1 BOTTLE (23155-001...\n",
      "ndc_exclude_flag      NNNNNNNNNNNNNNNNNNNNNNNNNNNNNNNNNNNNNNNNNNNNNN...\n",
      "sample_package        NNNNNNNNNNNNNNNNNNNNNNNNNNNNNNNNNNNNNNNNNNNNNN...\n",
      "dtype: object\n"
     ]
    }
   ],
   "source": [
    "# Détecter les doublons dans package_df\n",
    "doublons_package_df = package_df[package_df.duplicated(subset=['productid', 'productndc', 'ndcpackagecode'], keep=False)]\n",
    "print(\"Lignes dupliquées dans package_df :\")\n",
    "print(doublons_package_df.sum())"
   ]
  },
  {
   "cell_type": "code",
   "execution_count": 84,
   "id": "e8fe363f",
   "metadata": {},
   "outputs": [
    {
     "name": "stdout",
     "output_type": "stream",
     "text": [
      "Lignes dupliquées dans product_df :\n",
      "Empty DataFrame\n",
      "Columns: [productid, productndc, producttypename, proprietaryname, nonproprietaryname, dosageformname, routename, startmarketingdate, endmarketingdate, marketingcategoryname, applicationnumber, labelername, substancename, active_numerator_strength, active_ingred_unit, pharm_classes, ndc_exclude_flag, listing_record_certified_through]\n",
      "Index: []\n"
     ]
    }
   ],
   "source": [
    "# Détecter les doublons dans product_df\n",
    "doublons_product_df = product_df[product_df.duplicated(subset=['productid', 'productndc'], keep=False)]\n",
    "print(\"Lignes dupliquées dans product_df :\")\n",
    "print(doublons_product_df)"
   ]
  },
  {
   "cell_type": "code",
   "execution_count": 85,
   "id": "78cb8bea",
   "metadata": {},
   "outputs": [],
   "source": [
    "# Retirer les doublons dans package_df\n",
    "package_df = package_df.drop_duplicates(subset=['productid', 'productndc', 'ndcpackagecode'])"
   ]
  },
  {
   "cell_type": "code",
   "execution_count": 86,
   "id": "4ab2ea75",
   "metadata": {},
   "outputs": [],
   "source": [
    "# Retirer les doublons dans product_df\n",
    "product_df = product_df.drop_duplicates(subset=['productid', 'productndc'])"
   ]
  },
  {
   "cell_type": "code",
   "execution_count": 87,
   "id": "7f87b867",
   "metadata": {},
   "outputs": [
    {
     "name": "stdout",
     "output_type": "stream",
     "text": [
      "Lignes dupliquées dans package_df après suppression : 0\n"
     ]
    }
   ],
   "source": [
    "# Vérifier les doublons dans package_df après suppression\n",
    "doublons_package_df_apres = package_df[package_df.duplicated(subset=['productid', 'productndc', 'ndcpackagecode'], keep=False)]\n",
    "print(\"Lignes dupliquées dans package_df après suppression :\", len(doublons_package_df_apres))"
   ]
  },
  {
   "cell_type": "code",
   "execution_count": 88,
   "id": "4d75c4a9",
   "metadata": {},
   "outputs": [
    {
     "name": "stdout",
     "output_type": "stream",
     "text": [
      "Lignes dupliquées dans product_df après suppression : 0\n"
     ]
    }
   ],
   "source": [
    "# Vérifier les doublons dans product_df après suppression\n",
    "doublons_product_df_apres = product_df[product_df.duplicated(subset=['productid', 'productndc'], keep=False)]\n",
    "print(\"Lignes dupliquées dans product_df après suppression :\", len(doublons_product_df_apres))"
   ]
  },
  {
   "cell_type": "code",
   "execution_count": 89,
   "id": "fd878e04",
   "metadata": {},
   "outputs": [],
   "source": [
    "package_df = package_df.drop(columns=['startmarketingdate'])"
   ]
  },
  {
   "cell_type": "code",
   "execution_count": 90,
   "id": "85881b8a",
   "metadata": {},
   "outputs": [
    {
     "data": {
      "text/plain": [
       "N    91554\n",
       "Name: ndc_exclude_flag, dtype: int64"
      ]
     },
     "execution_count": 90,
     "metadata": {},
     "output_type": "execute_result"
    }
   ],
   "source": [
    "#UNe seule valeur\n",
    "product_df['ndc_exclude_flag'].value_counts()"
   ]
  },
  {
   "cell_type": "code",
   "execution_count": 91,
   "id": "71ee6e2b",
   "metadata": {},
   "outputs": [],
   "source": [
    "product_df = product_df.drop(columns=['ndc_exclude_flag'])"
   ]
  },
  {
   "cell_type": "code",
   "execution_count": 92,
   "id": "1761e537",
   "metadata": {},
   "outputs": [],
   "source": [
    "package_df = package_df.drop(columns=['ndc_exclude_flag'])"
   ]
  },
  {
   "cell_type": "code",
   "execution_count": 93,
   "id": "dd1710dc",
   "metadata": {},
   "outputs": [],
   "source": [
    "package_df = package_df.drop(columns=['productndc'])"
   ]
  },
  {
   "cell_type": "code",
   "execution_count": 94,
   "id": "c8f2420b",
   "metadata": {},
   "outputs": [],
   "source": [
    "package_df = package_df.drop(columns=['endmarketingdate'])"
   ]
  },
  {
   "cell_type": "markdown",
   "id": "21410671",
   "metadata": {},
   "source": [
    "## 6)"
   ]
  },
  {
   "cell_type": "code",
   "execution_count": 95,
   "id": "d6e4866d",
   "metadata": {},
   "outputs": [],
   "source": [
    "# 6. Jointure des DataFrames\n",
    "merged_df = product_df.merge(package_df, on=['productid'], how='inner')\n",
    "# we can merge on product_ndc to check with hama"
   ]
  },
  {
   "cell_type": "code",
   "execution_count": 96,
   "id": "52eb4885",
   "metadata": {},
   "outputs": [
    {
     "name": "stdout",
     "output_type": "stream",
     "text": [
      "(170023, 20)\n"
     ]
    }
   ],
   "source": [
    "print(merged_df.shape)"
   ]
  },
  {
   "cell_type": "code",
   "execution_count": 97,
   "id": "f007bb52",
   "metadata": {},
   "outputs": [
    {
     "data": {
      "text/plain": [
       "productid                                0\n",
       "productndc                               0\n",
       "producttypename                          0\n",
       "proprietaryname                          0\n",
       "nonproprietaryname                       0\n",
       "dosageformname                           0\n",
       "routename                                0\n",
       "startmarketingdate                       0\n",
       "endmarketingdate                    170023\n",
       "marketingcategoryname                    0\n",
       "applicationnumber                        0\n",
       "labelername                              0\n",
       "substancename                            0\n",
       "active_numerator_strength                0\n",
       "active_ingred_unit                       0\n",
       "pharm_classes                            0\n",
       "listing_record_certified_through         0\n",
       "ndcpackagecode                           0\n",
       "packagedescription                       0\n",
       "sample_package                           0\n",
       "dtype: int64"
      ]
     },
     "execution_count": 97,
     "metadata": {},
     "output_type": "execute_result"
    }
   ],
   "source": [
    "merged_df.isnull().sum()"
   ]
  },
  {
   "cell_type": "code",
   "execution_count": 98,
   "id": "6fdffdba",
   "metadata": {},
   "outputs": [],
   "source": [
    "# startmarketingdate to date\n",
    "merged_df['startmarketingdate'] = pd.to_datetime(merged_df['startmarketingdate'], errors='coerce')  # Conversion en datetime\n"
   ]
  },
  {
   "cell_type": "code",
   "execution_count": 99,
   "id": "5ca3ecdd",
   "metadata": {},
   "outputs": [
    {
     "data": {
      "text/plain": [
       "0        2005-02-14\n",
       "1        2010-01-15\n",
       "2        2010-01-15\n",
       "3        1997-06-23\n",
       "4        1996-10-01\n",
       "            ...    \n",
       "170018   2006-03-13\n",
       "170019   2006-03-13\n",
       "170020   2006-03-13\n",
       "170021   2013-11-14\n",
       "170022   2013-11-14\n",
       "Name: startmarketingdate, Length: 170023, dtype: datetime64[ns]"
      ]
     },
     "execution_count": 99,
     "metadata": {},
     "output_type": "execute_result"
    }
   ],
   "source": [
    "#Affichage merged df aprés transforamtion\n",
    "merged_df['startmarketingdate']"
   ]
  },
  {
   "cell_type": "code",
   "execution_count": 100,
   "id": "58b2df3b",
   "metadata": {},
   "outputs": [
    {
     "data": {
      "text/plain": [
       "productid                                   object\n",
       "productndc                                  object\n",
       "producttypename                             object\n",
       "proprietaryname                             object\n",
       "nonproprietaryname                          object\n",
       "dosageformname                              object\n",
       "routename                                   object\n",
       "startmarketingdate                  datetime64[ns]\n",
       "endmarketingdate                    datetime64[ns]\n",
       "marketingcategoryname                       object\n",
       "applicationnumber                           object\n",
       "labelername                                 object\n",
       "substancename                               object\n",
       "active_numerator_strength                  float64\n",
       "active_ingred_unit                          object\n",
       "pharm_classes                               object\n",
       "listing_record_certified_through    datetime64[ns]\n",
       "ndcpackagecode                              object\n",
       "packagedescription                          object\n",
       "sample_package                              object\n",
       "dtype: object"
      ]
     },
     "execution_count": 100,
     "metadata": {},
     "output_type": "execute_result"
    }
   ],
   "source": [
    "merged_df.dtypes"
   ]
  },
  {
   "cell_type": "code",
   "execution_count": 101,
   "id": "2d8c8b91",
   "metadata": {},
   "outputs": [
    {
     "data": {
      "text/plain": [
       "0"
      ]
     },
     "execution_count": 101,
     "metadata": {},
     "output_type": "execute_result"
    }
   ],
   "source": [
    "merged_df.duplicated().sum()\n"
   ]
  },
  {
   "cell_type": "code",
   "execution_count": 102,
   "id": "3b0695b5",
   "metadata": {},
   "outputs": [],
   "source": [
    "# Les donnéés ont étais déja prétraités dans les questions précédentes "
   ]
  },
  {
   "cell_type": "markdown",
   "id": "1ea2cda1",
   "metadata": {},
   "source": [
    "## 7)"
   ]
  },
  {
   "cell_type": "code",
   "execution_count": 103,
   "id": "ae3e04b8",
   "metadata": {},
   "outputs": [
    {
     "data": {
      "text/plain": [
       "170013     Tetracycline-class Drug [EPC],Tetracyclines [CS]\n",
       "170014     Tetracycline-class Drug [EPC],Tetracyclines [CS]\n",
       "170015     Tetracycline-class Drug [EPC],Tetracyclines [CS]\n",
       "170016     Tetracycline-class Drug [EPC],Tetracyclines [CS]\n",
       "170017    Corticosteroid [EPC],Corticosteroid Hormone Re...\n",
       "170018    Corticosteroid [EPC],Corticosteroid Hormone Re...\n",
       "170019    Corticosteroid [EPC],Corticosteroid Hormone Re...\n",
       "170020    Corticosteroid [EPC],Corticosteroid Hormone Re...\n",
       "170021    Azole Antifungal [EPC],Azoles [CS],Cytochrome ...\n",
       "170022    Azole Antifungal [EPC],Azoles [CS],Cytochrome ...\n",
       "Name: pharm_classes, dtype: object"
      ]
     },
     "execution_count": 103,
     "metadata": {},
     "output_type": "execute_result"
    }
   ],
   "source": [
    "#Affichage qqs info de pharm_classes\n",
    "merged_df['pharm_classes'].tail(10)"
   ]
  },
  {
   "cell_type": "code",
   "execution_count": 104,
   "id": "7ef8ce96",
   "metadata": {},
   "outputs": [
    {
     "data": {
      "text/plain": [
       "0         [EPC, MoA]\n",
       "1    [MoA, EPC, MoA]\n",
       "2    [MoA, EPC, MoA]\n",
       "3              [EPC]\n",
       "Name: pharm_classes, dtype: object"
      ]
     },
     "execution_count": 104,
     "metadata": {},
     "output_type": "execute_result"
    }
   ],
   "source": [
    "# Étape 1 : Extraire les abréviations entre crochets pour chaque ligne\n",
    "merged_df['pharm_classes'] = merged_df['pharm_classes'].apply(\n",
    "    lambda x: re.findall(r'\\[([A-Za-z0-9_]+)\\]', str(x)) if pd.notnull(x) else []\n",
    ")\n",
    "#Afficher le resultat \n",
    "merged_df['pharm_classes'].head(4)\n"
   ]
  },
  {
   "cell_type": "code",
   "execution_count": 105,
   "id": "63f29cd8",
   "metadata": {},
   "outputs": [
    {
     "data": {
      "text/plain": [
       "0    {EPC, MoA}\n",
       "1    {EPC, MoA}\n",
       "2    {EPC, MoA}\n",
       "3         {EPC}\n",
       "Name: pharm_classes, dtype: object"
      ]
     },
     "execution_count": 105,
     "metadata": {},
     "output_type": "execute_result"
    }
   ],
   "source": [
    "# Étape 2 : Convertir les résultats en set pour enlever les doublons\n",
    "merged_df['pharm_classes']= merged_df['pharm_classes'].apply(lambda x: set(x))\n",
    "#Afficher le resultat \n",
    "merged_df['pharm_classes'].head(4)"
   ]
  },
  {
   "cell_type": "code",
   "execution_count": 106,
   "id": "ebe69712",
   "metadata": {},
   "outputs": [
    {
     "data": {
      "text/plain": [
       "0    EPC, MoA\n",
       "1    EPC, MoA\n",
       "2    EPC, MoA\n",
       "3         EPC\n",
       "Name: pharm_classes, dtype: object"
      ]
     },
     "execution_count": 106,
     "metadata": {},
     "output_type": "execute_result"
    }
   ],
   "source": [
    "# Étape 3 : Trier et joindre les éléments en une seule chaîne séparée par des virgules\n",
    "merged_df['pharm_classes'] = merged_df['pharm_classes'].apply(\n",
    "    lambda x: ', '.join(sorted(x)) if x else ''\n",
    ")\n",
    "#Afficher le resultat \n",
    "merged_df['pharm_classes'].head(4)"
   ]
  },
  {
   "cell_type": "code",
   "execution_count": 107,
   "id": "20511da7",
   "metadata": {},
   "outputs": [
    {
     "name": "stdout",
     "output_type": "stream",
     "text": [
      "{'EPC', 'MoA', 'PE', 'EXT', 'CS'}\n"
     ]
    }
   ],
   "source": [
    "# Découper pharm_classes en une liste de champs\n",
    "pharm_classes_split = merged_df['pharm_classes'].str.split(',')\n",
    "# Extraire les identifiants uniques de pharm_classes\n",
    "identifiants_pharm_classes = set()\n",
    "for champs in pharm_classes_split:\n",
    "    if isinstance(champs, list):  # Vérifier si c'est une liste\n",
    "        identifiants_pharm_classes.update(champs)  # Ajouter directement les éléments\n",
    "\n",
    "# Remove empty elements        \n",
    "identifiants_pharm_classes.discard('')\n",
    "\n",
    "# Normaliser les identifiants pour éviter les espaces inutiles\n",
    "identifiants_pharm_classes = {x.strip() for x in identifiants_pharm_classes if x.strip()}\n",
    "# Affichage des identifiants uniques\n",
    "print(identifiants_pharm_classes)\n"
   ]
  },
  {
   "cell_type": "code",
   "execution_count": 108,
   "id": "ab0ab3fe",
   "metadata": {},
   "outputs": [
    {
     "name": "stdout",
     "output_type": "stream",
     "text": [
      "Index(['productid', 'productndc', 'producttypename', 'proprietaryname',\n",
      "       'nonproprietaryname', 'dosageformname', 'routename',\n",
      "       'startmarketingdate', 'endmarketingdate', 'marketingcategoryname',\n",
      "       'applicationnumber', 'labelername', 'substancename',\n",
      "       'active_numerator_strength', 'active_ingred_unit', 'pharm_classes',\n",
      "       'listing_record_certified_through', 'ndcpackagecode',\n",
      "       'packagedescription', 'sample_package', 'EPC', 'MoA', 'PE', 'EXT',\n",
      "       'CS'],\n",
      "      dtype='object')\n"
     ]
    }
   ],
   "source": [
    "# Initialiser les nouvelles colonnes\n",
    "for identifiant in identifiants_pharm_classes:\n",
    "    merged_df[identifiant] = 0\n",
    "\n",
    "#Vérifiation    \n",
    "print(merged_df.columns)"
   ]
  },
  {
   "cell_type": "code",
   "execution_count": 109,
   "id": "c1c30f7b",
   "metadata": {},
   "outputs": [],
   "source": [
    "# Remplir les nouvelles colonnes\n",
    "for index, champs in pharm_classes_split.items():\n",
    "    if isinstance(champs, list):  # Vérifier si la ligne contient des champs\n",
    "        for champ in champs:\n",
    "            champ = champ.strip()  # Supprimer les espaces\n",
    "            merged_df.at[index, champ] = 1  # Marquer la présence du champ en attribuant 1\n"
   ]
  },
  {
   "cell_type": "code",
   "execution_count": 110,
   "id": "054e5240",
   "metadata": {},
   "outputs": [
    {
     "name": "stdout",
     "output_type": "stream",
     "text": [
      "productid: 0002-3251_67a53369-eead-4f2c-afe9-f3274899c47e\n",
      "productndc: 0002-3251\n",
      "producttypename: HUMAN PRESCRIPTION DRUG\n",
      "proprietaryname: strattera\n",
      "nonproprietaryname: atomoxetine hydrochloride\n",
      "dosageformname: CAPSULE\n",
      "routename: ORAL\n",
      "startmarketingdate: 2005-02-14 00:00:00\n",
      "endmarketingdate: NaT\n",
      "marketingcategoryname: NDA\n",
      "applicationnumber: NDA021411\n",
      "labelername: 10\n",
      "substancename: atomoxetine hydrochloride\n",
      "active_numerator_strength: 100.0\n",
      "active_ingred_unit: mg\n",
      "pharm_classes: EPC, MoA\n",
      "listing_record_certified_through: 1970-01-01 00:00:00.020211231\n",
      "ndcpackagecode: 0002-3251-30\n",
      "packagedescription: 30 CAPSULE in 1 BOTTLE (0002-3251-30) \n",
      "sample_package: N\n",
      "EPC: 1\n",
      "MoA: 1\n",
      "PE: 0\n",
      "EXT: 0\n",
      "CS: 0\n"
     ]
    }
   ],
   "source": [
    "# Afficher la première ligne  \n",
    "for col, value in merged_df.iloc[0].items():\n",
    "    print(f\"{col}: {value}\")\n"
   ]
  },
  {
   "cell_type": "markdown",
   "id": "a43522a9",
   "metadata": {},
   "source": [
    "## 8) "
   ]
  },
  {
   "cell_type": "code",
   "execution_count": 111,
   "id": "85889204",
   "metadata": {},
   "outputs": [],
   "source": [
    "features = [\n",
    "    'substancename', \n",
    "    'active_numerator_strength', \n",
    "    'active_ingred_unit', \n",
    "    'dosageformname', \n",
    "    'routename', \n",
    "    'marketingcategoryname', \n",
    "    'producttypename',\n",
    "    'proprietaryname'\n",
    "]"
   ]
  },
  {
   "cell_type": "code",
   "execution_count": 112,
   "id": "4c27838a",
   "metadata": {},
   "outputs": [
    {
     "data": {
      "text/plain": [
       "Index(['productid', 'productndc', 'producttypename', 'proprietaryname',\n",
       "       'nonproprietaryname', 'dosageformname', 'routename',\n",
       "       'startmarketingdate', 'endmarketingdate', 'marketingcategoryname',\n",
       "       'applicationnumber', 'labelername', 'substancename',\n",
       "       'active_numerator_strength', 'active_ingred_unit', 'pharm_classes',\n",
       "       'listing_record_certified_through', 'ndcpackagecode',\n",
       "       'packagedescription', 'sample_package', 'EPC', 'MoA', 'PE', 'EXT',\n",
       "       'CS'],\n",
       "      dtype='object')"
      ]
     },
     "execution_count": 112,
     "metadata": {},
     "output_type": "execute_result"
    }
   ],
   "source": [
    "merged_df.columns"
   ]
  },
  {
   "cell_type": "code",
   "execution_count": 114,
   "id": "cb222e1a",
   "metadata": {},
   "outputs": [],
   "source": [
    "# Créer une copie du DataFrame original\n",
    "new_df = merged_df.copy()  \n",
    "\n",
    "for column in features:\n",
    "    new_df[column] = label_encoder.fit_transform(new_df[column])\n",
    "\n",
    "    \n",
    "# Création des ensembles de données \n",
    "X = new_df[features]\n",
    "Y = new_df[['EXT', 'PE', 'CS', 'EPC', 'MoA']]\n"
   ]
  },
  {
   "cell_type": "code",
   "execution_count": 115,
   "id": "3ebba6d8",
   "metadata": {},
   "outputs": [],
   "source": [
    "scaler = StandardScaler()\n",
    "# Sensible aux outliers\n",
    "X_scaled = scaler.fit_transform(X)\n"
   ]
  },
  {
   "cell_type": "code",
   "execution_count": 116,
   "id": "dee2d30c",
   "metadata": {},
   "outputs": [
    {
     "data": {
      "text/html": [
       "<div>\n",
       "<style scoped>\n",
       "    .dataframe tbody tr th:only-of-type {\n",
       "        vertical-align: middle;\n",
       "    }\n",
       "\n",
       "    .dataframe tbody tr th {\n",
       "        vertical-align: top;\n",
       "    }\n",
       "\n",
       "    .dataframe thead th {\n",
       "        text-align: right;\n",
       "    }\n",
       "</style>\n",
       "<table border=\"1\" class=\"dataframe\">\n",
       "  <thead>\n",
       "    <tr style=\"text-align: right;\">\n",
       "      <th></th>\n",
       "      <th>substancename</th>\n",
       "      <th>active_numerator_strength</th>\n",
       "      <th>active_ingred_unit</th>\n",
       "      <th>dosageformname</th>\n",
       "      <th>routename</th>\n",
       "      <th>marketingcategoryname</th>\n",
       "      <th>producttypename</th>\n",
       "      <th>proprietaryname</th>\n",
       "    </tr>\n",
       "  </thead>\n",
       "  <tbody>\n",
       "    <tr>\n",
       "      <th>0</th>\n",
       "      <td>1483</td>\n",
       "      <td>858</td>\n",
       "      <td>593</td>\n",
       "      <td>6</td>\n",
       "      <td>138</td>\n",
       "      <td>2</td>\n",
       "      <td>2</td>\n",
       "      <td>25261</td>\n",
       "    </tr>\n",
       "    <tr>\n",
       "      <th>1</th>\n",
       "      <td>3676</td>\n",
       "      <td>769</td>\n",
       "      <td>593</td>\n",
       "      <td>10</td>\n",
       "      <td>138</td>\n",
       "      <td>2</td>\n",
       "      <td>2</td>\n",
       "      <td>7704</td>\n",
       "    </tr>\n",
       "    <tr>\n",
       "      <th>2</th>\n",
       "      <td>3676</td>\n",
       "      <td>769</td>\n",
       "      <td>593</td>\n",
       "      <td>10</td>\n",
       "      <td>138</td>\n",
       "      <td>2</td>\n",
       "      <td>2</td>\n",
       "      <td>7704</td>\n",
       "    </tr>\n",
       "    <tr>\n",
       "      <th>3</th>\n",
       "      <td>6442</td>\n",
       "      <td>348</td>\n",
       "      <td>593</td>\n",
       "      <td>114</td>\n",
       "      <td>138</td>\n",
       "      <td>2</td>\n",
       "      <td>2</td>\n",
       "      <td>29329</td>\n",
       "    </tr>\n",
       "    <tr>\n",
       "      <th>4</th>\n",
       "      <td>6442</td>\n",
       "      <td>439</td>\n",
       "      <td>593</td>\n",
       "      <td>114</td>\n",
       "      <td>138</td>\n",
       "      <td>2</td>\n",
       "      <td>2</td>\n",
       "      <td>29329</td>\n",
       "    </tr>\n",
       "  </tbody>\n",
       "</table>\n",
       "</div>"
      ],
      "text/plain": [
       "   substancename  active_numerator_strength  active_ingred_unit  \\\n",
       "0           1483                        858                 593   \n",
       "1           3676                        769                 593   \n",
       "2           3676                        769                 593   \n",
       "3           6442                        348                 593   \n",
       "4           6442                        439                 593   \n",
       "\n",
       "   dosageformname  routename  marketingcategoryname  producttypename  \\\n",
       "0               6        138                      2                2   \n",
       "1              10        138                      2                2   \n",
       "2              10        138                      2                2   \n",
       "3             114        138                      2                2   \n",
       "4             114        138                      2                2   \n",
       "\n",
       "   proprietaryname  \n",
       "0            25261  \n",
       "1             7704  \n",
       "2             7704  \n",
       "3            29329  \n",
       "4            29329  "
      ]
     },
     "execution_count": 116,
     "metadata": {},
     "output_type": "execute_result"
    }
   ],
   "source": [
    "X.head()"
   ]
  },
  {
   "cell_type": "code",
   "execution_count": 117,
   "id": "a8ca1b14",
   "metadata": {},
   "outputs": [
    {
     "data": {
      "text/plain": [
       "array([[-1.33612808,  0.73684658,  0.20619472, ..., -0.16620346,\n",
       "         0.7141673 ,  1.29529203],\n",
       "       [-0.43653109,  0.38559823,  0.20619472, ..., -0.16620346,\n",
       "         0.7141673 , -0.84718676],\n",
       "       [-0.43653109,  0.38559823,  0.20619472, ..., -0.16620346,\n",
       "         0.7141673 , -0.84718676],\n",
       "       ...,\n",
       "       [-0.19983822, -1.6626927 ,  1.40029484, ..., -0.16620346,\n",
       "         0.7141673 ,  1.61073929],\n",
       "       [ 0.3203118 , -0.56948155,  1.40029484, ..., -0.16620346,\n",
       "         0.7141673 ,  0.20788368],\n",
       "       [ 0.3203118 , -0.56948155,  1.40029484, ..., -0.16620346,\n",
       "         0.7141673 ,  0.20788368]])"
      ]
     },
     "execution_count": 117,
     "metadata": {},
     "output_type": "execute_result"
    }
   ],
   "source": [
    "X_scaled"
   ]
  },
  {
   "cell_type": "code",
   "execution_count": 118,
   "id": "ae3f0b98",
   "metadata": {},
   "outputs": [
    {
     "data": {
      "text/html": [
       "<div>\n",
       "<style scoped>\n",
       "    .dataframe tbody tr th:only-of-type {\n",
       "        vertical-align: middle;\n",
       "    }\n",
       "\n",
       "    .dataframe tbody tr th {\n",
       "        vertical-align: top;\n",
       "    }\n",
       "\n",
       "    .dataframe thead th {\n",
       "        text-align: right;\n",
       "    }\n",
       "</style>\n",
       "<table border=\"1\" class=\"dataframe\">\n",
       "  <thead>\n",
       "    <tr style=\"text-align: right;\">\n",
       "      <th></th>\n",
       "      <th>EXT</th>\n",
       "      <th>PE</th>\n",
       "      <th>CS</th>\n",
       "      <th>EPC</th>\n",
       "      <th>MoA</th>\n",
       "    </tr>\n",
       "  </thead>\n",
       "  <tbody>\n",
       "    <tr>\n",
       "      <th>170013</th>\n",
       "      <td>0</td>\n",
       "      <td>0</td>\n",
       "      <td>1</td>\n",
       "      <td>1</td>\n",
       "      <td>0</td>\n",
       "    </tr>\n",
       "    <tr>\n",
       "      <th>170014</th>\n",
       "      <td>0</td>\n",
       "      <td>0</td>\n",
       "      <td>1</td>\n",
       "      <td>1</td>\n",
       "      <td>0</td>\n",
       "    </tr>\n",
       "    <tr>\n",
       "      <th>170015</th>\n",
       "      <td>0</td>\n",
       "      <td>0</td>\n",
       "      <td>1</td>\n",
       "      <td>1</td>\n",
       "      <td>0</td>\n",
       "    </tr>\n",
       "    <tr>\n",
       "      <th>170016</th>\n",
       "      <td>0</td>\n",
       "      <td>0</td>\n",
       "      <td>1</td>\n",
       "      <td>1</td>\n",
       "      <td>0</td>\n",
       "    </tr>\n",
       "    <tr>\n",
       "      <th>170017</th>\n",
       "      <td>0</td>\n",
       "      <td>0</td>\n",
       "      <td>0</td>\n",
       "      <td>1</td>\n",
       "      <td>1</td>\n",
       "    </tr>\n",
       "    <tr>\n",
       "      <th>170018</th>\n",
       "      <td>0</td>\n",
       "      <td>0</td>\n",
       "      <td>0</td>\n",
       "      <td>1</td>\n",
       "      <td>1</td>\n",
       "    </tr>\n",
       "    <tr>\n",
       "      <th>170019</th>\n",
       "      <td>0</td>\n",
       "      <td>0</td>\n",
       "      <td>0</td>\n",
       "      <td>1</td>\n",
       "      <td>1</td>\n",
       "    </tr>\n",
       "    <tr>\n",
       "      <th>170020</th>\n",
       "      <td>0</td>\n",
       "      <td>0</td>\n",
       "      <td>0</td>\n",
       "      <td>1</td>\n",
       "      <td>1</td>\n",
       "    </tr>\n",
       "    <tr>\n",
       "      <th>170021</th>\n",
       "      <td>0</td>\n",
       "      <td>0</td>\n",
       "      <td>1</td>\n",
       "      <td>1</td>\n",
       "      <td>1</td>\n",
       "    </tr>\n",
       "    <tr>\n",
       "      <th>170022</th>\n",
       "      <td>0</td>\n",
       "      <td>0</td>\n",
       "      <td>1</td>\n",
       "      <td>1</td>\n",
       "      <td>1</td>\n",
       "    </tr>\n",
       "  </tbody>\n",
       "</table>\n",
       "</div>"
      ],
      "text/plain": [
       "        EXT  PE  CS  EPC  MoA\n",
       "170013    0   0   1    1    0\n",
       "170014    0   0   1    1    0\n",
       "170015    0   0   1    1    0\n",
       "170016    0   0   1    1    0\n",
       "170017    0   0   0    1    1\n",
       "170018    0   0   0    1    1\n",
       "170019    0   0   0    1    1\n",
       "170020    0   0   0    1    1\n",
       "170021    0   0   1    1    1\n",
       "170022    0   0   1    1    1"
      ]
     },
     "execution_count": 118,
     "metadata": {},
     "output_type": "execute_result"
    }
   ],
   "source": [
    "Y.tail(10)"
   ]
  },
  {
   "cell_type": "markdown",
   "id": "84065338",
   "metadata": {},
   "source": [
    "## Justification du Choix des Features\n",
    "\n",
    "Les features sélectionnées pour la prédiction des classes pharmacologiques ont été choisies sur la base de leur capacité à refléter des caractéristiques importantes des produits pharmaceutiques. Chaque feature représente un aspect spécifique du médicament ou du produit, ce qui permet au modèle de mieux comprendre les relations complexes entre les variables. Voici la justification pour chaque feature :\n",
    "\n",
    "1. **`substancename`** : \n",
    "   - Le nom de la substance active est crucial car il détermine directement l'identité du médicament et son mode d'action. C'est un des attributs les plus fondamentaux dans la classification des produits pharmaceutiques.\n",
    "\n",
    "2. **`active_numerator_strength`** : \n",
    "   - La force du principe actif est essentielle pour définir la concentration du médicament. Cette information est utilisée pour déterminer la posologie et peut avoir un impact sur la classification des classes pharmacologiques, notamment en ce qui concerne l'efficacité et la toxicité.\n",
    "\n",
    "3. **`active_ingred_unit`** : \n",
    "   - L'unité de mesure du principe actif (par exemple, mg, g, etc.) est importante pour comprendre la quantité relative d'ingrédient actif dans le médicament. Elle est liée à la formulation du produit et à son mode d'administration.\n",
    "\n",
    "4. **`dosageformname`** : \n",
    "   - La forme galénique (comprimé, gélule, solution, etc.) affecte la manière dont le médicament est administré et peut influencer la classification pharmacologique. Par exemple, un médicament oral peut avoir un effet différent de celui injecté.\n",
    "\n",
    "5. **`routename`** : \n",
    "   - Le nom de la voie d'administration (orale, intraveineuse, etc.) a une importance considérable, car la manière dont le médicament est administré peut déterminer son efficacité et sa toxicité.\n",
    "\n",
    "6. **`marketingcategoryname`** : \n",
    "   - La catégorie marketing (par exemple, médicament sous prescription ou médicament en vente libre) permet de comprendre les restrictions réglementaires et les informations relatives à la commercialisation du médicament, ce qui peut influencer sa classification.\n",
    "\n",
    "7. **`producttypename`** : \n",
    "   - Le type de produit (par exemple, générique, innovant, biosimilaire) joue un rôle crucial dans la classification pharmacologique. Ce paramètre permet de distinguer les produits en fonction de leur statut légal et de leur mode de développement.\n",
    "\n",
    "8. **`proprietaryname`** : \n",
    "   - Le nom de marque ou de produit propriétaire peut être lié à une classe spécifique de médicaments, car les produits avec des noms propriétaires peuvent être associés à certaines catégories pharmaceutiques ou à des stratégies de commercialisation particulières.\n",
    "\n",
    "Ces features ont été sélectionnées car elles couvrent à la fois des aspects physico-chimiques, administratifs et commerciaux des produits pharmaceutiques, fournissant ainsi des informations complètes pour prédire correctement les classes pharmacologiques.\n"
   ]
  },
  {
   "cell_type": "markdown",
   "id": "a9b9cbad",
   "metadata": {},
   "source": [
    "### Allons plus loin "
   ]
  },
  {
   "cell_type": "code",
   "execution_count": 119,
   "id": "bba3a8a7",
   "metadata": {},
   "outputs": [
    {
     "data": {
      "text/plain": [
       "(170023, 5)"
      ]
     },
     "execution_count": 119,
     "metadata": {},
     "output_type": "execute_result"
    }
   ],
   "source": [
    "Y.shape"
   ]
  },
  {
   "cell_type": "code",
   "execution_count": 120,
   "id": "88c8e63f",
   "metadata": {},
   "outputs": [
    {
     "name": "stdout",
     "output_type": "stream",
     "text": [
      "                       Specs  Score_EXT  Score_PE  Score_CS  Score_EPC  \\\n",
      "0              substancename   0.073374  0.424225  0.654637   0.086639   \n",
      "7            proprietaryname   0.071978  0.390619  0.609621   0.078028   \n",
      "3             dosageformname   0.017526  0.063249  0.183125   0.013653   \n",
      "5      marketingcategoryname   0.012977  0.058617  0.200749   0.010600   \n",
      "1  active_numerator_strength   0.014352  0.062791  0.166808   0.021074   \n",
      "2         active_ingred_unit   0.028235  0.067997  0.160394   0.018341   \n",
      "6            producttypename   0.021826  0.060237  0.160177   0.015884   \n",
      "4                  routename   0.029727  0.058545  0.092287   0.018496   \n",
      "\n",
      "   Score_MoA  Mean_Score  \n",
      "0   0.524476    0.352670  \n",
      "7   0.488649    0.327779  \n",
      "3   0.096136    0.074738  \n",
      "5   0.084230    0.073435  \n",
      "1   0.099262    0.072857  \n",
      "2   0.081365    0.071266  \n",
      "6   0.089941    0.069613  \n",
      "4   0.058412    0.051493  \n"
     ]
    }
   ],
   "source": [
    "# Convertir X en données catégorielles\n",
    "X_cat = X.astype(int)\n",
    "\n",
    "# Initialiser un DataFrame pour stocker les scores de toutes les variables\n",
    "all_scores = pd.DataFrame()\n",
    "\n",
    "# Boucle sur chaque colonne de Y\n",
    "for column in Y.columns:\n",
    "    # Sélectionner les caractéristiques en fonction de la colonne de Y\n",
    "    chi2_features = SelectKBest(mutual_info_classif, k=8)\n",
    "    X_kbest_features = chi2_features.fit_transform(X_cat, Y[column])\n",
    "    \n",
    "    # Créer un DataFrame des scores des caractéristiques\n",
    "    dfscores = pd.DataFrame(chi2_features.scores_)\n",
    "    dfcolumns = pd.DataFrame(X.columns)\n",
    "    \n",
    "    # Concaténer les DataFrames pour une meilleure visualisation\n",
    "    featureScores = pd.concat([dfcolumns, dfscores], axis=1)\n",
    "    featureScores.columns = ['Specs', f'Score_{column}']\n",
    "    \n",
    "    # Ajouter les scores au DataFrame principal\n",
    "    if all_scores.empty:\n",
    "        all_scores = featureScores\n",
    "    else:\n",
    "        all_scores = pd.merge(all_scores, featureScores, on='Specs', how='outer')\n",
    "\n",
    "# Ajouter une colonne pour la moyenne des scores sur toutes les variables Y\n",
    "all_scores['Mean_Score'] = all_scores.iloc[:, 1:].mean(axis=1)\n",
    "\n",
    "# Trier par la moyenne des scores\n",
    "all_scores = all_scores.sort_values(by='Mean_Score', ascending=False)\n",
    "\n",
    "# Affichage du DataFrame final\n",
    "print(all_scores)\n"
   ]
  },
  {
   "cell_type": "code",
   "execution_count": 121,
   "id": "026c3f9b",
   "metadata": {},
   "outputs": [
    {
     "data": {
      "image/png": "[encoded data removed]",
      "text/plain": [
       "<Figure size 640x480 with 1 Axes>"
      ]
     },
     "metadata": {},
     "output_type": "display_data"
    }
   ],
   "source": [
    "\n",
    "plt.plot(all_scores['Mean_Score'])\n",
    "plt.title('Scores de chi2 par caractéristique')\n",
    "plt.xlabel('Caractéristiques')\n",
    "plt.ylabel('Score de chi2')\n",
    "plt.show()"
   ]
  },
  {
   "cell_type": "markdown",
   "id": "ee17514e",
   "metadata": {},
   "source": [
    "### Interprétation des résultats\n",
    "\n",
    "- **Nombre de caractéristiques d'origine** :  \n",
    "  L'ensemble de données (`Specs`) contient **9 caractéristiques** dans cet exemple.\n",
    "\n",
    "- **Nombre de caractéristiques sélectionnées** :  \n",
    "  Après la sélection basée sur l'information mutuelle, **toutes les caractéristiques** ont été évaluées, mais les scores montrent des différences importantes en fonction de leur relation avec la variable cible `Mean_Score`.\n",
    "\n",
    "- **Scores des caractéristiques** :  \n",
    "  L'importance des caractéristiques a été mesurée en utilisant l'information mutuelle (méthode `mutual_info_classif`). Les scores indiquent que `substancename`, `proprietaryname` et `dosageformname` sont les caractéristiques les plus pertinentes pour prédire `Mean_Score`. Ces caractéristiques ont les scores les plus élevés dans les colonnes correspondantes.\n",
    "\n",
    "- **Classement des caractéristiques** :  \n",
    "  Voici les trois caractéristiques les plus influentes selon les scores obtenus :\n",
    "  1. `substancename`\n",
    "  2. `proprietaryname`\n",
    "  3. `dosageformname`  \n",
    "\n",
    "- **Score moyen des caractéristiques (Mean_Score)** :  \n",
    "  La colonne `Mean_Score` représente la moyenne des scores de chaque caractéristique à travers toutes les variables cibles (Score_EXT, Score_PE, Score_CS, Score_EPC, Score_MoA). En analysant cette moyenne, on observe que `substancename` et `proprietaryname` restent parmi les plus influentes dans l'ensemble, avec des scores moyens significativement plus élevés que les autres caractéristiques, suggérant qu'elles ont un impact plus fort sur la prédiction.\n",
    "\n",
    "### Conclusion  \n",
    "\n",
    "Les résultats montrent que certaines caractéristiques ont un impact plus important que d'autres. En particulier, `substancename` et `proprietaryname` se distinguent comme étant les plus influentes, ce qui suggère qu'elles sont les plus associées à la variable cible `Mean_Score` dans l'ensemble. L'importance des caractéristiques peut être jugée à la fois par leurs scores individuels et leur moyenne globale (Mean_Score), et ces deux métriques indiquent que ces deux caractéristiques devraient être prioritaires dans un modèle prédictif.\n",
    "\n",
    "### Note sur la méthode chi2_features :  \n",
    "Lors de l'utilisation de chi2_features dans le cadre de la sélection de caractéristiques, il est important de noter que cette méthode ne fonctionne pas bien lorsque Y est de taille supérieure à 1D, comme c'est le cas ici. Dans notre analyse, Y étant multidimensionnel, nous avons choisi de calculer la moyenne des scores pour obtenir une évaluation globale des caractéristiques. Cela permet d'éviter les problèmes liés à la structure de Y et de donner une interprétation valide des scores des caractéristiques dans ce contexte.\n",
    "****"
   ]
  },
  {
   "cell_type": "code",
   "execution_count": 122,
   "id": "555b80ef",
   "metadata": {},
   "outputs": [
    {
     "data": {
      "text/plain": [
       "array([ True,  True,  True,  True,  True,  True,  True,  True])"
      ]
     },
     "execution_count": 122,
     "metadata": {},
     "output_type": "execute_result"
    }
   ],
   "source": [
    "v_threshold = VarianceThreshold(threshold=0)\n",
    "v_threshold.fit(X)  # fit finds the features with zero variance\n",
    "v_threshold.get_support()"
   ]
  },
  {
   "cell_type": "markdown",
   "id": "dbff1619",
   "metadata": {},
   "source": [
    "## Interprétation des résultats de `get_support()`\n",
    "\n",
    "La méthode `get_support()` de `VarianceThreshold` renvoie un tableau de valeurs booléennes, indiquant si chaque caractéristique (ou colonne) du jeu de données a été retenue ou éliminée en fonction de son niveau de variance. Dans notre cas, le tableau retourné contient uniquement des valeurs `True`, ce qui signifie que toutes les caractéristiques ont une variance non nulle.\n",
    "\n",
    "Cela implique que toutes les colonnes de notre jeu de données possèdent une certaine variabilité, et qu'aucune caractéristique n'a été supprimée par le seuil de variance défini. Une variance non nulle est essentielle car elle indique que chaque caractéristique contribue à la diversité du jeu de données et donc à la pertinence de l'analyse ou de l'apprentissage automatique.\n",
    "\n",
    "En résumé, ce résultat montre que toutes les caractéristiques sélectionnées possèdent un minimum de variance et qu'elles apportent des informations distinctes, ce qui est favorable pour les étapes suivantes de modélisation.\n",
    "****\n"
   ]
  },
  {
   "cell_type": "code",
   "execution_count": 123,
   "id": "f057fd27",
   "metadata": {},
   "outputs": [
    {
     "data": {
      "image/png": "[encoded data removed]",
      "text/plain": [
       "<Figure size 640x480 with 1 Axes>"
      ]
     },
     "metadata": {},
     "output_type": "display_data"
    }
   ],
   "source": [
    "# Calculate MAD\n",
    "mean_abs_diff = np.sum(np.abs(X - np.mean(X, axis=0)), axis=0) / X.shape[0]\n",
    "\n",
    "# Création du graphique en barres\n",
    "plt.bar(np.arange(X.shape[1]), mean_abs_diff, color='teal')\n",
    "\n",
    "# Ajouter les noms des variables sur l'axe des x\n",
    "plt.xticks(np.arange(X.shape[1]), features, rotation=90)\n",
    "\n",
    "# Ajouter les labels et le titre\n",
    "plt.xlabel(\"Feature Index\")\n",
    "plt.ylabel(\"Mean Absolute Deviation\")\n",
    "plt.title(\"MAD for Each Feature\")\n",
    "\n",
    "# Afficher le graphique\n",
    "plt.show()"
   ]
  },
  {
   "cell_type": "markdown",
   "id": "c5dd0599",
   "metadata": {},
   "source": [
    "## Interprétation des résultats de `l'écart absolu moyen (MAD)`\n",
    "\n",
    "Les caractéristiques suivantes présentent les plus grandes valeurs de l'écart absolu moyen (MAD), ce qui signifie qu'elles ont la plus grande variation par rapport à la moyenne :\n",
    "- **`substancename`**\n",
    "- **`active_ingred_unit`**\n",
    "- **`proprietaryname`**\n",
    "- **`active_numerator_stregnth`**\n",
    "\n",
    "\n",
    "Cela indique que ces caractéristiques montrent une plus grande variabilité dans les données par rapport aux autres, ce qui peut les rendre plus influentes dans l'analyse statistique. Cette variabilité élevée est comparable à une statistique du chi-carré élevée, qui reflète une forte dispersion des valeurs observées par rapport aux valeurs attendues.\n"
   ]
  },
  {
   "cell_type": "code",
   "execution_count": 124,
   "id": "937ae349",
   "metadata": {},
   "outputs": [
    {
     "data": {
      "image/png": "[encoded data removed]",
      "text/plain": [
       "<Figure size 1000x600 with 2 Axes>"
      ]
     },
     "metadata": {},
     "output_type": "display_data"
    }
   ],
   "source": [
    "\n",
    "\n",
    "# Correlation matrix\n",
    "cor = new_df.corr()\n",
    "\n",
    "# Plotting Heatmap\n",
    "plt.figure(figsize=(10,6))\n",
    "sns.heatmap(cor, annot=True)\n",
    "plt.show()"
   ]
  },
  {
   "cell_type": "markdown",
   "id": "c317b781",
   "metadata": {},
   "source": [
    "### Interprétation de la matrice de corrélation\n",
    "\n",
    "La matrice de corrélation a révélé que les caractéristiques suivantes ont les plus grandes corrélations avec les variables cibles:\n",
    "\n",
    "- **`substancename`**  \n",
    "- **`active_ingred_unit`**  \n",
    "- **`proprietaryname`**\n",
    "\n",
    "Ces caractéristiques présentent les plus fortes associations avec les variables cibles dans les données.\n",
    "\n",
    "\n",
    "### Conclusion\n",
    "\n",
    "Cela indique que ces trois caractéristiques sont particulièrement pertinentes pour prédire la classe pharmaceutique des données. Leur forte corrélation suggère qu'elles jouent un rôle clé dans la détermination des classes pharmaceutiques et devraient être considérées comme des variables importantes dans les modèles prédictifs.\n",
    "****"
   ]
  },
  {
   "cell_type": "markdown",
   "id": "4df05888",
   "metadata": {},
   "source": [
    "## 9)"
   ]
  },
  {
   "cell_type": "markdown",
   "id": "2321f39e",
   "metadata": {},
   "source": [
    "### Note : Pour cette question, nous allons travailler avec l'ensemble des variables sélectionnées avant d'appliquer les différentes méthodes de test telles que la corrélation, l'écart absolu moyen, etc. De plus, pour l'approche demandée par Monsieur Wand, nous allons utiliser le PCA avec 5 composants (qui expliquent 80% des données) pour l'approche développée par nous-mêmes."
   ]
  },
  {
   "cell_type": "markdown",
   "id": "22050122",
   "metadata": {},
   "source": [
    "### Premiere approche : classification simple"
   ]
  },
  {
   "cell_type": "code",
   "execution_count": 125,
   "id": "a137a075",
   "metadata": {},
   "outputs": [
    {
     "data": {
      "image/png": "[encoded data removed]",
      "text/plain": [
       "<Figure size 1000x600 with 1 Axes>"
      ]
     },
     "metadata": {},
     "output_type": "display_data"
    },
    {
     "name": "stdout",
     "output_type": "stream",
     "text": [
      "                     Feature  Importance\n",
      "0              substancename    0.282540\n",
      "8            proprietaryname    0.214644\n",
      "1  active_numerator_strength    0.128449\n",
      "6            producttypename    0.095361\n",
      "5      marketingcategoryname    0.090932\n",
      "3             dosageformname    0.079407\n",
      "2         active_ingred_unit    0.067276\n",
      "4                  routename    0.041116\n",
      "7             sample_package    0.000274\n"
     ]
    }
   ],
   "source": [
    "# Transformation des variables catégorielles en numériques pour toutes les colonnes nécessaires\n",
    "label_encoder = LabelEncoder()\n",
    "\n",
    "# Appliquer l'encodage sur chaque colonne catégorielle\n",
    "encoded_columns = ['substancename', 'active_numerator_strength', 'active_ingred_unit', 'dosageformname', \n",
    "                   'routename', 'marketingcategoryname', 'producttypename', 'sample_package', 'proprietaryname']\n",
    "\n",
    "for column in encoded_columns:\n",
    "    merged_df[column] = label_encoder.fit_transform(merged_df[column])\n",
    "\n",
    "# Sélection des variables pertinentes pour la prédiction des classes pharmacologiques\n",
    "features = [\n",
    "    'substancename', \n",
    "    'active_numerator_strength', \n",
    "    'active_ingred_unit', \n",
    "    'dosageformname', \n",
    "    'routename', \n",
    "    'marketingcategoryname', \n",
    "    'producttypename', 'sample_package', 'proprietaryname'\n",
    "]\n",
    "\n",
    "# Utilisation de Y pour la variable cible avec les colonnes ['EXT', 'PE', 'CS', 'EPC', 'MoA']\n",
    "Y = merged_df[['EXT', 'PE', 'CS', 'EPC', 'MoA']]\n",
    "\n",
    "# Création des ensembles de données d'entraînement et de test\n",
    "X = merged_df[features]\n",
    "\n",
    "# Division des données en ensembles d'entraînement et de test (en utilisant la colonne Y)\n",
    "X_train, X_test, y_train, y_test = train_test_split(X, Y, test_size=0.2, random_state=42)\n",
    "\n",
    "# Entraînement d'un modèle Random Forest pour l'importance des variables\n",
    "model = RandomForestClassifier(random_state=42)\n",
    "model.fit(X_train, y_train)\n",
    "\n",
    "# Affichage de l'importance des variables\n",
    "feature_importances = model.feature_importances_\n",
    "\n",
    "# Visualisation de l'importance des variables\n",
    "plt.figure(figsize=(10, 6))\n",
    "plt.barh(features, feature_importances)\n",
    "plt.xlabel('Importance des variables')\n",
    "plt.title('Importance des variables pour prédire les classes pharmacologiques')\n",
    "plt.show()\n",
    "\n",
    "# Affichage des variables les plus importantes\n",
    "important_features = pd.DataFrame({\n",
    "    'Feature': features,\n",
    "    'Importance': feature_importances\n",
    "}).sort_values(by='Importance', ascending=False)\n",
    "\n",
    "print(important_features)\n"
   ]
  },
  {
   "cell_type": "markdown",
   "id": "3235db97",
   "metadata": {},
   "source": [
    "### Note\n",
    "\n",
    "L'interprétation de ce tableau montre que les caractéristiques les plus importantes dans le modèle sont :\n",
    "\n",
    "1. **substancename** avec une importance de **0.282540**,\n",
    "2. **proprietaryname** avec une importance de **0.214644**.\n",
    "\n",
    "Cela signifie que ces deux variables jouent un rôle majeur dans la prédiction ou la performance du modèle. En d'autres termes, **substancename** a une influence relativement plus grande, représentant environ 28,25% de l'importance totale, tandis que **proprietaryname** contribue à hauteur de 21,46%. Ces résultats confirment que ces deux caractéristiques ont un impact significatif sur le modèle.\n",
    "\n",
    "****"
   ]
  },
  {
   "cell_type": "code",
   "execution_count": 126,
   "id": "74e26216",
   "metadata": {},
   "outputs": [
    {
     "name": "stdout",
     "output_type": "stream",
     "text": [
      "Accuracy: 0.9819\n"
     ]
    }
   ],
   "source": [
    "# Prédiction sur l'ensemble de test\n",
    "y_pred = model.predict(X_test)\n",
    "\n",
    "# Calcul du score de précision\n",
    "accuracy = accuracy_score(y_test, y_pred)\n",
    "\n",
    "print(f'Accuracy: {accuracy:.4f}')\n"
   ]
  },
  {
   "cell_type": "code",
   "execution_count": null,
   "id": "a73a0a5e",
   "metadata": {},
   "outputs": [],
   "source": []
  },
  {
   "cell_type": "code",
   "execution_count": null,
   "id": "322964ae",
   "metadata": {},
   "outputs": [],
   "source": []
  },
  {
   "cell_type": "markdown",
   "id": "04b244f6",
   "metadata": {},
   "source": [
    "### Deuxième approche : classification demandée par Monsieur Wend "
   ]
  },
  {
   "cell_type": "code",
   "execution_count": 127,
   "id": "e4181d2a",
   "metadata": {},
   "outputs": [],
   "source": [
    "# Réduction de dimension avec PCA\n",
    "pca = PCA(n_components=5)  # Choisir le nombre de composants principaux\n",
    "X_reduced = pca.fit_transform(X_scaled)  # Réduction des dimensions de X\n"
   ]
  },
  {
   "cell_type": "code",
   "execution_count": 128,
   "id": "ca95e4fc",
   "metadata": {},
   "outputs": [
    {
     "name": "stdout",
     "output_type": "stream",
     "text": [
      "[0.25028952 0.43825386 0.56955366 0.69368658 0.81099519]\n"
     ]
    }
   ],
   "source": [
    "print(pca.explained_variance_ratio_.cumsum())"
   ]
  },
  {
   "cell_type": "code",
   "execution_count": 129,
   "id": "2646706f",
   "metadata": {},
   "outputs": [],
   "source": [
    "# Séparation des données en train/test\n",
    "X_train, X_test, y_train, y_test = train_test_split(X_reduced, Y, test_size=0.2, random_state=42)\n"
   ]
  },
  {
   "cell_type": "markdown",
   "id": "3fb37cde",
   "metadata": {},
   "source": [
    "## Remarque\n",
    "\n",
    "#### Pour cette approche, nous allons utiliser des subsets, car cela prend beaucoup de temps pour entraîner le modèle avec toutes nos données. Sinon, cela fonctionne, mais cela prend trop de temps. J'ai réexécuté la cellule sans faire attention, ce qui a entraîné la perte des affichages pour l'ensemble du dataset."
   ]
  },
  {
   "cell_type": "code",
   "execution_count": 130,
   "id": "ef6b359b",
   "metadata": {},
   "outputs": [],
   "source": [
    "X_train2, X_test2, y_train2, y_test2 = X_train[:300], X_test[300:350], y_train[:300], y_test[300:350]\n"
   ]
  },
  {
   "cell_type": "code",
   "execution_count": 131,
   "id": "d859223b",
   "metadata": {},
   "outputs": [],
   "source": [
    "class SimpleClassifier:\n",
    "    def __init__(self, k=5):\n",
    "        self.k = k\n",
    "    \n",
    "    def fit(self, X_train, y_train):\n",
    "        self.X_train = X_train\n",
    "        self.y_train = y_train.to_numpy()  # Convert y_train to a NumPy array\n",
    "    \n",
    "    def predict(self, X_test):\n",
    "        predictions = []\n",
    "        for x in X_test:\n",
    "            # Calcul des distances entre x et tous les points d'entraînement\n",
    "            distances = cdist([x], self.X_train, metric='euclidean')[0]\n",
    "            # Indices des k plus proches voisins\n",
    "            k_nearest_indices = np.argsort(distances)[:self.k]\n",
    "            # Votes majoritaires parmi les k plus proches voisins\n",
    "            k_nearest_labels = self.y_train[k_nearest_indices]  # Now this works with integer indices\n",
    "            # Prédire la classe majoritaire\n",
    "            unique_labels, counts = np.unique(k_nearest_labels, return_counts=True)\n",
    "            predicted_label = unique_labels[np.argmax(counts)]\n",
    "            predictions.append(predicted_label)\n",
    "        return np.array(predictions)\n",
    "\n"
   ]
  },
  {
   "cell_type": "code",
   "execution_count": 132,
   "id": "c8879384",
   "metadata": {},
   "outputs": [
    {
     "name": "stdout",
     "output_type": "stream",
     "text": [
      "Instance 1:\n",
      "  EXT: 0\n",
      "  PE: 0\n",
      "  CS: 0\n",
      "  EPC: 1\n",
      "  MoA: 1\n",
      "Instance 2:\n",
      "  EXT: 0\n",
      "  PE: 0\n",
      "  CS: 1\n",
      "  EPC: 1\n",
      "  MoA: 0\n",
      "Instance 3:\n",
      "  EXT: 0\n",
      "  PE: 0\n",
      "  CS: 0\n",
      "  EPC: 1\n",
      "  MoA: 1\n",
      "Instance 4:\n",
      "  EXT: 0\n",
      "  PE: 0\n",
      "  CS: 0\n",
      "  EPC: 1\n",
      "  MoA: 1\n",
      "Instance 5:\n",
      "  EXT: 0\n",
      "  PE: 0\n",
      "  CS: 1\n",
      "  EPC: 1\n",
      "  MoA: 1\n",
      "Instance 6:\n",
      "  EXT: 0\n",
      "  PE: 0\n",
      "  CS: 1\n",
      "  EPC: 1\n",
      "  MoA: 0\n",
      "Instance 7:\n",
      "  EXT: 0\n",
      "  PE: 0\n",
      "  CS: 0\n",
      "  EPC: 1\n",
      "  MoA: 1\n",
      "Instance 8:\n",
      "  EXT: 0\n",
      "  PE: 0\n",
      "  CS: 0\n",
      "  EPC: 1\n",
      "  MoA: 1\n",
      "Instance 9:\n",
      "  EXT: 0\n",
      "  PE: 0\n",
      "  CS: 0\n",
      "  EPC: 1\n",
      "  MoA: 1\n",
      "Instance 10:\n",
      "  EXT: 0\n",
      "  PE: 1\n",
      "  CS: 0\n",
      "  EPC: 1\n",
      "  MoA: 1\n",
      "Instance 11:\n",
      "  EXT: 0\n",
      "  PE: 0\n",
      "  CS: 1\n",
      "  EPC: 1\n",
      "  MoA: 1\n",
      "Instance 12:\n",
      "  EXT: 0\n",
      "  PE: 0\n",
      "  CS: 1\n",
      "  EPC: 1\n",
      "  MoA: 1\n",
      "Instance 13:\n",
      "  EXT: 0\n",
      "  PE: 0\n",
      "  CS: 0\n",
      "  EPC: 1\n",
      "  MoA: 1\n",
      "Instance 14:\n",
      "  EXT: 0\n",
      "  PE: 0\n",
      "  CS: 1\n",
      "  EPC: 1\n",
      "  MoA: 1\n",
      "Instance 15:\n",
      "  EXT: 0\n",
      "  PE: 0\n",
      "  CS: 0\n",
      "  EPC: 1\n",
      "  MoA: 0\n",
      "Instance 16:\n",
      "  EXT: 0\n",
      "  PE: 0\n",
      "  CS: 1\n",
      "  EPC: 1\n",
      "  MoA: 1\n",
      "Instance 17:\n",
      "  EXT: 0\n",
      "  PE: 0\n",
      "  CS: 1\n",
      "  EPC: 1\n",
      "  MoA: 1\n",
      "Instance 18:\n",
      "  EXT: 0\n",
      "  PE: 0\n",
      "  CS: 1\n",
      "  EPC: 1\n",
      "  MoA: 1\n",
      "Instance 19:\n",
      "  EXT: 0\n",
      "  PE: 0\n",
      "  CS: 1\n",
      "  EPC: 1\n",
      "  MoA: 1\n",
      "Instance 20:\n",
      "  EXT: 0\n",
      "  PE: 0\n",
      "  CS: 0\n",
      "  EPC: 1\n",
      "  MoA: 1\n"
     ]
    }
   ],
   "source": [
    "# Initialisation et entraînement du modèle pour chaque colonne de Y\n",
    "models = {}\n",
    "for col in y_train.columns:\n",
    "    model = SimpleClassifier(k=5)\n",
    "    model.fit(X_train2, y_train[col])  # Use y_train2 instead of y_train\n",
    "    models[col] = model\n",
    "\n",
    "# Prédiction sur les données de test\n",
    "predictions = {}\n",
    "for col, model in models.items():\n",
    "    predictions[col] = model.predict(X_test2)\n",
    "\n",
    "# Affichage des prédictions pour 20 instances\n",
    "for i in range(20):\n",
    "    print(f\"Instance {i+1}:\")\n",
    "    for col in y_test2.columns:\n",
    "        print(f\"  {col}: {predictions[col][i]}\")"
   ]
  },
  {
   "cell_type": "code",
   "execution_count": 133,
   "id": "c97ce2ef",
   "metadata": {},
   "outputs": [
    {
     "name": "stdout",
     "output_type": "stream",
     "text": [
      "Accuracy for EXT: 1.0000\n",
      "Accuracy for PE: 0.7200\n",
      "Accuracy for CS: 0.7200\n",
      "Accuracy for EPC: 0.9600\n",
      "Accuracy for MoA: 0.8000\n"
     ]
    }
   ],
   "source": [
    "# Calcul de l'accuracy pour chaque colonne\n",
    "for col in y_test2.columns:\n",
    "    true_labels = y_test2[col].to_numpy()  # Convert true labels to NumPy array\n",
    "    predicted_labels = predictions[col]    # Predicted labels\n",
    "    accuracy = accuracy_score(true_labels, predicted_labels)\n",
    "    print(f\"Accuracy for {col}: {accuracy:.4f}\")"
   ]
  },
  {
   "cell_type": "markdown",
   "id": "7337b495",
   "metadata": {},
   "source": [
    "# Classification des Classes à l'aide d'un Modèle Personnalisé\n",
    "\n",
    "## Contexte\n",
    "L'objectif de ce projet est de prédire les classes pharmacologiques (`EXT`, `PE`, `CS`, `EPC`, `MoA`) des médicaments pour lesquels l'information est manquante. Pour cela, nous utilisons un modèle de classification personnalisé basé sur la méthode des **k plus proches voisins (k-NN)**.\n",
    "\n",
    "---\n",
    "\n",
    "## Étapes du Travail\n",
    "\n",
    "### 1. Réduction de Dimension\n",
    "Les données initiales (`X`) ont été réduites en dimension à l'aide d'une méthode de réduction de dimension (par exemple, PCA). Cela permet de simplifier les données tout en conservant l'information essentielle.\n",
    "\n",
    "- `X_train_reduced` : Données d'entraînement réduites.\n",
    "- `X_test_reduced` : Données de test réduites.\n",
    "\n",
    "### 2. Modèle de Classification Personnalisé\n",
    "Nous avons développé un modèle de classification générique basé sur la logique des **k plus proches voisins**. Voici les étapes du modèle :\n",
    "\n",
    "1. **Entraînement** :\n",
    "   - Pour chaque colonne de `Y` (`EXT`, `PE`, `CS`, `EPC`, `MoA`), un modèle distinct est entraîné.\n",
    "   - Le modèle stocke les données d'entraînement (`X_train_reduced`) et les étiquettes (`y_train[col]`).\n",
    "\n",
    "2. **Prédiction** :\n",
    "   - Pour chaque instance de test, le modèle calcule les distances entre l'instance et tous les points d'entraînement.\n",
    "   - Il sélectionne les `k` plus proches voisins.\n",
    "   - Il prédit la classe majoritaire parmi ces voisins.\n",
    "\n",
    "### 3. Prédiction des Classes Manquantes\n",
    "Le modèle est appliqué aux données de test (`X_test_reduced`) pour prédire les classes pharmacologiques manquantes. Les prédictions sont affichées pour 20 instances.\n",
    "\n",
    "---\n",
    "\n",
    "## Résultats\n",
    "\n",
    "### Prédictions pour 20 Instances\n",
    "Voici un exemple des prédictions pour les 20 premières instances :\n",
    "\n",
    "| Instance | EXT | PE | CS | EPC | MoA |\n",
    "|----------|-----|----|----|-----|-----|\n",
    "| 1        | A   | B  | C  | D   | E   |\n",
    "| 2        | B   | A  | D  | C   | F   |\n",
    "| ...      | ... | ...| ...| ... | ... |\n",
    "| 20       | C   | B  | A  | E   | D   |\n",
    "\n",
    "### Calcul de l'Accuracy\n",
    "Pour évaluer la performance du modèle, nous calculons l'**accuracy** (taux de prédictions correctes) pour chaque colonne :\n",
    "\n",
    "- **Accuracy pour EXT** : 1.0000\n",
    "- **Accuracy pour PE** : 0.7200\n",
    "- **Accuracy pour CS** : 0.7200\n",
    "- **Accuracy pour EPC** : 0.9600\n",
    "- **Accuracy pour MoA** : 0.8000\n",
    "\n",
    "---\n",
    "\n",
    "## Interprétation\n",
    "\n",
    "### Performance du Modèle\n",
    "Le modèle montre une performance excellente pour la prédiction de la classe `EXT` avec une accuracy de 1.0000, ce qui signifie que toutes les prédictions pour cette classe sont correctes. Pour les classes `EPC` et `MoA`, le modèle atteint également des performances élevées avec des accuracies respectives de 0.9600 et 0.8000. Cependant, pour les classes `PE` et `CS`, l'accuracy est plus modérée, à 0.7200, ce qui suggère que le modèle pourrait avoir des difficultés à distinguer certaines nuances dans ces classes.\n",
    "\n",
    "\n",
    "---\n",
    "\n",
    "## Conclusion\n",
    "Ce modèle personnalisé basé sur les k plus proches voisins permet de prédire les classes pharmacologiques avec une précision raisonnable, en particulier pour les classes `EXT`, `EPC`, et `MoA`. Les résultats pour les classes `PE` et `CS` montrent qu'il y a place à amélioration, peut-être en explorant des méthodes plus sophistiquées ou en ajustant les hyperparamètres du modèle. Ce projet démontre l'utilité des méthodes simples pour résoudre des problèmes de classification multi-labels, tout en soulignant l'importance de continuer à affiner le modèle pour augmenter sa robustesse et sa précision.\n",
    "\n",
    "---\n",
    "\n",
    "## Note\n",
    "Il est important de noter que ces résultats ne représentent pas les meilleures performances possibles du modèle. En effet, en raison de contraintes de temps de calcul, un sous-ensemble réduit des données a été utilisé pour l'entraînement et l'évaluation. L'utilisation de l'ensemble complet des données pourrait potentiellement améliorer les performances, en particulier pour les classes `PE` et `CS`, où l'accuracy est actuellement plus faible."
   ]
  },
  {
   "cell_type": "markdown",
   "id": "64ce9e6a",
   "metadata": {},
   "source": [
    "****\n",
    "### Troisième  approche basée sur KMeans\n",
    "\n",
    "Nous utilisons également une autre approche **hybride** basée sur l'algorithme **KMeans** pour effectuer un **clustering** sur nos données. Cette méthode consiste à regrouper les données en plusieurs clusters, puis à attribuer à chaque cluster une classe majoritaire. Notre approche combine le **clustering non supervisé** et la **classification supervisée** pour obtenir des prédictions fiables. Voici comment cette approche fonctionne :\n",
    "\n",
    "1. **Définition du nombre de clusters** :  \n",
    "   Nous choisissons d'utiliser 5 clusters, ce qui signifie que nous divisons les données en cinq groupes distincts.\n",
    "\n",
    "2. **Clustering sur les données d'entraînement** :  \n",
    "   L'algorithme **KMeans** est appliqué sur les données d'entraînement (`X_train`). Il regroupe les données en clusters en minimisant la distance entre les points d'un même groupe.\n",
    "\n",
    "3. **Attribution des classes majoritaires pour chaque cluster** :  \n",
    "   Une fois les clusters formés, nous attribuons à chaque cluster la classe majoritaire des instances qu'il contient. Par exemple, si un cluster contient principalement des médicaments d'une certaine classe, cette classe sera attribuée au cluster.\n",
    "\n",
    "4. **Prédiction pour les données de test** :  \n",
    "   Une fois que les clusters sont définis, nous utilisons l'algorithme pour prédire à quelle classe chaque instance des données de test appartient. Cela se fait en associant à chaque cluster la classe majoritaire correspondante.\n",
    "\n",
    "5. **Affichage des prédictions** :  \n",
    "   Finalement, nous affichons les prédictions pour les 20 premières instances de test. Pour chaque instance, nous indiquons la classe prédite pour chaque variable cible.\n",
    "\n",
    "Cette méthode est utile lorsque nous souhaitons effectuer une classification sans avoir besoin de labels pour les données d'entraînement, en s'appuyant uniquement sur les relations naturelles entre les données elles-mêmes. Elle tire parti des avantages du **clustering non supervisé** pour diviser les données en groupes naturels, puis utilise ces groupes pour réaliser une **classification supervisée**. C'est une approche **hybride**, combinant les forces des deux méthodes pour une prédiction optimale.\n"
   ]
  },
  {
   "cell_type": "code",
   "execution_count": 134,
   "id": "5123b04b",
   "metadata": {},
   "outputs": [
    {
     "name": "stdout",
     "output_type": "stream",
     "text": [
      "Instance 1:\n",
      "  EXT: EXT    0.0\n",
      "PE     0.0\n",
      "CS     0.0\n",
      "EPC    1.0\n",
      "MoA    1.0\n",
      "Name: 0, dtype: float64\n",
      "  PE: EXT    0.0\n",
      "PE     0.0\n",
      "CS     0.0\n",
      "EPC    1.0\n",
      "MoA    1.0\n",
      "Name: 0, dtype: float64\n",
      "  CS: EXT    0.0\n",
      "PE     0.0\n",
      "CS     0.0\n",
      "EPC    1.0\n",
      "MoA    1.0\n",
      "Name: 0, dtype: float64\n",
      "  EPC: EXT    0.0\n",
      "PE     0.0\n",
      "CS     0.0\n",
      "EPC    1.0\n",
      "MoA    1.0\n",
      "Name: 0, dtype: float64\n",
      "  MoA: EXT    0.0\n",
      "PE     0.0\n",
      "CS     0.0\n",
      "EPC    1.0\n",
      "MoA    1.0\n",
      "Name: 0, dtype: float64\n",
      "Instance 2:\n",
      "  EXT: EXT    0.0\n",
      "PE     0.0\n",
      "CS     0.0\n",
      "EPC    1.0\n",
      "MoA    1.0\n",
      "Name: 0, dtype: float64\n",
      "  PE: EXT    0.0\n",
      "PE     0.0\n",
      "CS     0.0\n",
      "EPC    1.0\n",
      "MoA    1.0\n",
      "Name: 0, dtype: float64\n",
      "  CS: EXT    0.0\n",
      "PE     0.0\n",
      "CS     0.0\n",
      "EPC    1.0\n",
      "MoA    1.0\n",
      "Name: 0, dtype: float64\n",
      "  EPC: EXT    0.0\n",
      "PE     0.0\n",
      "CS     0.0\n",
      "EPC    1.0\n",
      "MoA    1.0\n",
      "Name: 0, dtype: float64\n",
      "  MoA: EXT    0.0\n",
      "PE     0.0\n",
      "CS     0.0\n",
      "EPC    1.0\n",
      "MoA    1.0\n",
      "Name: 0, dtype: float64\n",
      "Instance 3:\n",
      "  EXT: EXT    0\n",
      "PE     0\n",
      "CS     0\n",
      "EPC    1\n",
      "MoA    1\n",
      "Name: 0, dtype: int64\n",
      "  PE: EXT    0\n",
      "PE     0\n",
      "CS     0\n",
      "EPC    1\n",
      "MoA    1\n",
      "Name: 0, dtype: int64\n",
      "  CS: EXT    0\n",
      "PE     0\n",
      "CS     0\n",
      "EPC    1\n",
      "MoA    1\n",
      "Name: 0, dtype: int64\n",
      "  EPC: EXT    0\n",
      "PE     0\n",
      "CS     0\n",
      "EPC    1\n",
      "MoA    1\n",
      "Name: 0, dtype: int64\n",
      "  MoA: EXT    0\n",
      "PE     0\n",
      "CS     0\n",
      "EPC    1\n",
      "MoA    1\n",
      "Name: 0, dtype: int64\n",
      "Instance 4:\n",
      "  EXT: EXT    0\n",
      "PE     0\n",
      "CS     0\n",
      "EPC    1\n",
      "MoA    1\n",
      "Name: 0, dtype: int64\n",
      "  PE: EXT    0\n",
      "PE     0\n",
      "CS     0\n",
      "EPC    1\n",
      "MoA    1\n",
      "Name: 0, dtype: int64\n",
      "  CS: EXT    0\n",
      "PE     0\n",
      "CS     0\n",
      "EPC    1\n",
      "MoA    1\n",
      "Name: 0, dtype: int64\n",
      "  EPC: EXT    0\n",
      "PE     0\n",
      "CS     0\n",
      "EPC    1\n",
      "MoA    1\n",
      "Name: 0, dtype: int64\n",
      "  MoA: EXT    0\n",
      "PE     0\n",
      "CS     0\n",
      "EPC    1\n",
      "MoA    1\n",
      "Name: 0, dtype: int64\n",
      "Instance 5:\n",
      "  EXT: EXT    0\n",
      "PE     0\n",
      "CS     1\n",
      "EPC    1\n",
      "MoA    1\n",
      "Name: 0, dtype: int64\n",
      "  PE: EXT    0\n",
      "PE     0\n",
      "CS     1\n",
      "EPC    1\n",
      "MoA    1\n",
      "Name: 0, dtype: int64\n",
      "  CS: EXT    0\n",
      "PE     0\n",
      "CS     1\n",
      "EPC    1\n",
      "MoA    1\n",
      "Name: 0, dtype: int64\n",
      "  EPC: EXT    0\n",
      "PE     0\n",
      "CS     1\n",
      "EPC    1\n",
      "MoA    1\n",
      "Name: 0, dtype: int64\n",
      "  MoA: EXT    0\n",
      "PE     0\n",
      "CS     1\n",
      "EPC    1\n",
      "MoA    1\n",
      "Name: 0, dtype: int64\n",
      "Instance 6:\n",
      "  EXT: EXT    0\n",
      "PE     0\n",
      "CS     1\n",
      "EPC    1\n",
      "MoA    1\n",
      "Name: 0, dtype: int64\n",
      "  PE: EXT    0\n",
      "PE     0\n",
      "CS     1\n",
      "EPC    1\n",
      "MoA    1\n",
      "Name: 0, dtype: int64\n",
      "  CS: EXT    0\n",
      "PE     0\n",
      "CS     1\n",
      "EPC    1\n",
      "MoA    1\n",
      "Name: 0, dtype: int64\n",
      "  EPC: EXT    0\n",
      "PE     0\n",
      "CS     1\n",
      "EPC    1\n",
      "MoA    1\n",
      "Name: 0, dtype: int64\n",
      "  MoA: EXT    0\n",
      "PE     0\n",
      "CS     1\n",
      "EPC    1\n",
      "MoA    1\n",
      "Name: 0, dtype: int64\n",
      "Instance 7:\n",
      "  EXT: EXT    0.0\n",
      "PE     0.0\n",
      "CS     0.0\n",
      "EPC    1.0\n",
      "MoA    1.0\n",
      "Name: 0, dtype: float64\n",
      "  PE: EXT    0.0\n",
      "PE     0.0\n",
      "CS     0.0\n",
      "EPC    1.0\n",
      "MoA    1.0\n",
      "Name: 0, dtype: float64\n",
      "  CS: EXT    0.0\n",
      "PE     0.0\n",
      "CS     0.0\n",
      "EPC    1.0\n",
      "MoA    1.0\n",
      "Name: 0, dtype: float64\n",
      "  EPC: EXT    0.0\n",
      "PE     0.0\n",
      "CS     0.0\n",
      "EPC    1.0\n",
      "MoA    1.0\n",
      "Name: 0, dtype: float64\n",
      "  MoA: EXT    0.0\n",
      "PE     0.0\n",
      "CS     0.0\n",
      "EPC    1.0\n",
      "MoA    1.0\n",
      "Name: 0, dtype: float64\n",
      "Instance 8:\n",
      "  EXT: EXT    0\n",
      "PE     0\n",
      "CS     0\n",
      "EPC    1\n",
      "MoA    1\n",
      "Name: 0, dtype: int64\n",
      "  PE: EXT    0\n",
      "PE     0\n",
      "CS     0\n",
      "EPC    1\n",
      "MoA    1\n",
      "Name: 0, dtype: int64\n",
      "  CS: EXT    0\n",
      "PE     0\n",
      "CS     0\n",
      "EPC    1\n",
      "MoA    1\n",
      "Name: 0, dtype: int64\n",
      "  EPC: EXT    0\n",
      "PE     0\n",
      "CS     0\n",
      "EPC    1\n",
      "MoA    1\n",
      "Name: 0, dtype: int64\n",
      "  MoA: EXT    0\n",
      "PE     0\n",
      "CS     0\n",
      "EPC    1\n",
      "MoA    1\n",
      "Name: 0, dtype: int64\n",
      "Instance 9:\n",
      "  EXT: EXT    0\n",
      "PE     0\n",
      "CS     0\n",
      "EPC    1\n",
      "MoA    1\n",
      "Name: 0, dtype: int64\n",
      "  PE: EXT    0\n",
      "PE     0\n",
      "CS     0\n",
      "EPC    1\n",
      "MoA    1\n",
      "Name: 0, dtype: int64\n",
      "  CS: EXT    0\n",
      "PE     0\n",
      "CS     0\n",
      "EPC    1\n",
      "MoA    1\n",
      "Name: 0, dtype: int64\n",
      "  EPC: EXT    0\n",
      "PE     0\n",
      "CS     0\n",
      "EPC    1\n",
      "MoA    1\n",
      "Name: 0, dtype: int64\n",
      "  MoA: EXT    0\n",
      "PE     0\n",
      "CS     0\n",
      "EPC    1\n",
      "MoA    1\n",
      "Name: 0, dtype: int64\n",
      "Instance 10:\n",
      "  EXT: EXT    0\n",
      "PE     0\n",
      "CS     0\n",
      "EPC    1\n",
      "MoA    1\n",
      "Name: 0, dtype: int64\n",
      "  PE: EXT    0\n",
      "PE     0\n",
      "CS     0\n",
      "EPC    1\n",
      "MoA    1\n",
      "Name: 0, dtype: int64\n",
      "  CS: EXT    0\n",
      "PE     0\n",
      "CS     0\n",
      "EPC    1\n",
      "MoA    1\n",
      "Name: 0, dtype: int64\n",
      "  EPC: EXT    0\n",
      "PE     0\n",
      "CS     0\n",
      "EPC    1\n",
      "MoA    1\n",
      "Name: 0, dtype: int64\n",
      "  MoA: EXT    0\n",
      "PE     0\n",
      "CS     0\n",
      "EPC    1\n",
      "MoA    1\n",
      "Name: 0, dtype: int64\n",
      "Instance 11:\n",
      "  EXT: EXT    0\n",
      "PE     0\n",
      "CS     1\n",
      "EPC    1\n",
      "MoA    1\n",
      "Name: 0, dtype: int64\n",
      "  PE: EXT    0\n",
      "PE     0\n",
      "CS     1\n",
      "EPC    1\n",
      "MoA    1\n",
      "Name: 0, dtype: int64\n",
      "  CS: EXT    0\n",
      "PE     0\n",
      "CS     1\n",
      "EPC    1\n",
      "MoA    1\n",
      "Name: 0, dtype: int64\n",
      "  EPC: EXT    0\n",
      "PE     0\n",
      "CS     1\n",
      "EPC    1\n",
      "MoA    1\n",
      "Name: 0, dtype: int64\n",
      "  MoA: EXT    0\n",
      "PE     0\n",
      "CS     1\n",
      "EPC    1\n",
      "MoA    1\n",
      "Name: 0, dtype: int64\n",
      "Instance 12:\n",
      "  EXT: EXT    0\n",
      "PE     0\n",
      "CS     1\n",
      "EPC    1\n",
      "MoA    1\n",
      "Name: 0, dtype: int64\n",
      "  PE: EXT    0\n",
      "PE     0\n",
      "CS     1\n",
      "EPC    1\n",
      "MoA    1\n",
      "Name: 0, dtype: int64\n",
      "  CS: EXT    0\n",
      "PE     0\n",
      "CS     1\n",
      "EPC    1\n",
      "MoA    1\n",
      "Name: 0, dtype: int64\n",
      "  EPC: EXT    0\n",
      "PE     0\n",
      "CS     1\n",
      "EPC    1\n",
      "MoA    1\n",
      "Name: 0, dtype: int64\n",
      "  MoA: EXT    0\n",
      "PE     0\n",
      "CS     1\n",
      "EPC    1\n",
      "MoA    1\n",
      "Name: 0, dtype: int64\n",
      "Instance 13:\n",
      "  EXT: EXT    0\n",
      "PE     0\n",
      "CS     0\n",
      "EPC    1\n",
      "MoA    1\n",
      "Name: 0, dtype: int64\n",
      "  PE: EXT    0\n",
      "PE     0\n",
      "CS     0\n",
      "EPC    1\n",
      "MoA    1\n",
      "Name: 0, dtype: int64\n",
      "  CS: EXT    0\n",
      "PE     0\n",
      "CS     0\n",
      "EPC    1\n",
      "MoA    1\n",
      "Name: 0, dtype: int64\n",
      "  EPC: EXT    0\n",
      "PE     0\n",
      "CS     0\n",
      "EPC    1\n",
      "MoA    1\n",
      "Name: 0, dtype: int64\n",
      "  MoA: EXT    0\n",
      "PE     0\n",
      "CS     0\n",
      "EPC    1\n",
      "MoA    1\n",
      "Name: 0, dtype: int64\n",
      "Instance 14:\n",
      "  EXT: EXT    0\n",
      "PE     0\n",
      "CS     1\n",
      "EPC    1\n",
      "MoA    1\n",
      "Name: 0, dtype: int64\n",
      "  PE: EXT    0\n",
      "PE     0\n",
      "CS     1\n",
      "EPC    1\n",
      "MoA    1\n",
      "Name: 0, dtype: int64\n",
      "  CS: EXT    0\n",
      "PE     0\n",
      "CS     1\n",
      "EPC    1\n",
      "MoA    1\n",
      "Name: 0, dtype: int64\n",
      "  EPC: EXT    0\n",
      "PE     0\n",
      "CS     1\n",
      "EPC    1\n",
      "MoA    1\n",
      "Name: 0, dtype: int64\n",
      "  MoA: EXT    0\n",
      "PE     0\n",
      "CS     1\n",
      "EPC    1\n",
      "MoA    1\n",
      "Name: 0, dtype: int64\n",
      "Instance 15:\n",
      "  EXT: EXT    0\n",
      "PE     0\n",
      "CS     1\n",
      "EPC    1\n",
      "MoA    1\n",
      "Name: 0, dtype: int64\n",
      "  PE: EXT    0\n",
      "PE     0\n",
      "CS     1\n",
      "EPC    1\n",
      "MoA    1\n",
      "Name: 0, dtype: int64\n",
      "  CS: EXT    0\n",
      "PE     0\n",
      "CS     1\n",
      "EPC    1\n",
      "MoA    1\n",
      "Name: 0, dtype: int64\n",
      "  EPC: EXT    0\n",
      "PE     0\n",
      "CS     1\n",
      "EPC    1\n",
      "MoA    1\n",
      "Name: 0, dtype: int64\n",
      "  MoA: EXT    0\n",
      "PE     0\n",
      "CS     1\n",
      "EPC    1\n",
      "MoA    1\n",
      "Name: 0, dtype: int64\n",
      "Instance 16:\n",
      "  EXT: EXT    0\n",
      "PE     0\n",
      "CS     1\n",
      "EPC    1\n",
      "MoA    1\n",
      "Name: 0, dtype: int64\n",
      "  PE: EXT    0\n",
      "PE     0\n",
      "CS     1\n",
      "EPC    1\n",
      "MoA    1\n",
      "Name: 0, dtype: int64\n",
      "  CS: EXT    0\n",
      "PE     0\n",
      "CS     1\n",
      "EPC    1\n",
      "MoA    1\n",
      "Name: 0, dtype: int64\n",
      "  EPC: EXT    0\n",
      "PE     0\n",
      "CS     1\n",
      "EPC    1\n",
      "MoA    1\n",
      "Name: 0, dtype: int64\n",
      "  MoA: EXT    0\n",
      "PE     0\n",
      "CS     1\n",
      "EPC    1\n",
      "MoA    1\n",
      "Name: 0, dtype: int64\n",
      "Instance 17:\n",
      "  EXT: EXT    0.0\n",
      "PE     0.0\n",
      "CS     0.0\n",
      "EPC    1.0\n",
      "MoA    1.0\n",
      "Name: 0, dtype: float64\n",
      "  PE: EXT    0.0\n",
      "PE     0.0\n",
      "CS     0.0\n",
      "EPC    1.0\n",
      "MoA    1.0\n",
      "Name: 0, dtype: float64\n",
      "  CS: EXT    0.0\n",
      "PE     0.0\n",
      "CS     0.0\n",
      "EPC    1.0\n",
      "MoA    1.0\n",
      "Name: 0, dtype: float64\n",
      "  EPC: EXT    0.0\n",
      "PE     0.0\n",
      "CS     0.0\n",
      "EPC    1.0\n",
      "MoA    1.0\n",
      "Name: 0, dtype: float64\n",
      "  MoA: EXT    0.0\n",
      "PE     0.0\n",
      "CS     0.0\n",
      "EPC    1.0\n",
      "MoA    1.0\n",
      "Name: 0, dtype: float64\n",
      "Instance 18:\n",
      "  EXT: EXT    0\n",
      "PE     0\n",
      "CS     1\n",
      "EPC    1\n",
      "MoA    1\n",
      "Name: 0, dtype: int64\n",
      "  PE: EXT    0\n",
      "PE     0\n",
      "CS     1\n",
      "EPC    1\n",
      "MoA    1\n",
      "Name: 0, dtype: int64\n",
      "  CS: EXT    0\n",
      "PE     0\n",
      "CS     1\n",
      "EPC    1\n",
      "MoA    1\n",
      "Name: 0, dtype: int64\n",
      "  EPC: EXT    0\n",
      "PE     0\n",
      "CS     1\n",
      "EPC    1\n",
      "MoA    1\n",
      "Name: 0, dtype: int64\n",
      "  MoA: EXT    0\n",
      "PE     0\n",
      "CS     1\n",
      "EPC    1\n",
      "MoA    1\n",
      "Name: 0, dtype: int64\n",
      "Instance 19:\n",
      "  EXT: EXT    0\n",
      "PE     0\n",
      "CS     1\n",
      "EPC    1\n",
      "MoA    1\n",
      "Name: 0, dtype: int64\n",
      "  PE: EXT    0\n",
      "PE     0\n",
      "CS     1\n",
      "EPC    1\n",
      "MoA    1\n",
      "Name: 0, dtype: int64\n",
      "  CS: EXT    0\n",
      "PE     0\n",
      "CS     1\n",
      "EPC    1\n",
      "MoA    1\n",
      "Name: 0, dtype: int64\n",
      "  EPC: EXT    0\n",
      "PE     0\n",
      "CS     1\n",
      "EPC    1\n",
      "MoA    1\n",
      "Name: 0, dtype: int64\n",
      "  MoA: EXT    0\n",
      "PE     0\n",
      "CS     1\n",
      "EPC    1\n",
      "MoA    1\n",
      "Name: 0, dtype: int64\n",
      "Instance 20:\n",
      "  EXT: EXT    0\n",
      "PE     0\n",
      "CS     0\n",
      "EPC    1\n",
      "MoA    1\n",
      "Name: 0, dtype: int64\n",
      "  PE: EXT    0\n",
      "PE     0\n",
      "CS     0\n",
      "EPC    1\n",
      "MoA    1\n",
      "Name: 0, dtype: int64\n",
      "  CS: EXT    0\n",
      "PE     0\n",
      "CS     0\n",
      "EPC    1\n",
      "MoA    1\n",
      "Name: 0, dtype: int64\n",
      "  EPC: EXT    0\n",
      "PE     0\n",
      "CS     0\n",
      "EPC    1\n",
      "MoA    1\n",
      "Name: 0, dtype: int64\n",
      "  MoA: EXT    0\n",
      "PE     0\n",
      "CS     0\n",
      "EPC    1\n",
      "MoA    1\n",
      "Name: 0, dtype: int64\n"
     ]
    }
   ],
   "source": [
    "# Nombre de clusters  \n",
    "n_clusters = 5\n",
    "\n",
    "# Clustering sur les données d'entraînement\n",
    "kmeans = KMeans(n_clusters=n_clusters, random_state=42)\n",
    "clusters_train = kmeans.fit_predict(X_train2)\n",
    "\n",
    "# Attribution des classes majoritaires pour chaque cluster\n",
    "cluster_to_class = {}\n",
    "for cluster in range(n_clusters):\n",
    "    # Indices des médicaments dans ce cluster\n",
    "    indices = np.where(clusters_train == cluster)[0]\n",
    "    # Vérifier que les indices sont valides\n",
    "    if len(indices) > 0:\n",
    "        # Classes pharmacologiques des médicaments dans ce cluster\n",
    "        classes_in_cluster = y_train2.iloc[indices]\n",
    "        # Classe majoritaire\n",
    "        majority_class = classes_in_cluster.mode().iloc[0]\n",
    "        cluster_to_class[cluster] = majority_class\n",
    "    else:\n",
    "        # Si aucun médicament n'est dans ce cluster, attribuer une classe par défaut\n",
    "        cluster_to_class[cluster] = \"Unknown\"\n",
    "\n",
    "# Prédiction pour les données de test\n",
    "clusters_test = kmeans.predict(X_test2)\n",
    "predictions = {}\n",
    "for col in y_test.columns:\n",
    "    predictions[col] = [cluster_to_class[cluster] for cluster in clusters_test]\n",
    "\n",
    "# Affichage des prédictions pour 20 instances\n",
    "for i in range(20):\n",
    "    print(f\"Instance {i+1}:\")\n",
    "    for col in y_test2.columns:\n",
    "        print(f\"  {col}: {predictions[col][i]}\")\n",
    "\n"
   ]
  },
  {
   "cell_type": "code",
   "execution_count": null,
   "id": "cfa07ce9",
   "metadata": {},
   "outputs": [],
   "source": []
  },
  {
   "cell_type": "code",
   "execution_count": null,
   "id": "3ce1ecf8",
   "metadata": {},
   "outputs": [],
   "source": []
  }
 ],
 "metadata": {
  "kernelspec": {
   "display_name": "Python 3 (ipykernel)",
   "language": "python",
   "name": "python3"
  },
  "language_info": {
   "codemirror_mode": {
    "name": "ipython",
    "version": 3
   },
   "file_extension": ".py",
   "mimetype": "text/x-python",
   "name": "python",
   "nbconvert_exporter": "python",
   "pygments_lexer": "ipython3",
   "version": "3.10.9"
  },
  "vscode": {
   "interpreter": {
    "hash": "39ae1a228ec261f45e3f87750aa31dd5ea76865a29c63822b5ad193b17cffe73"
   }
  }
 },
 "nbformat": 4,
 "nbformat_minor": 5
}
